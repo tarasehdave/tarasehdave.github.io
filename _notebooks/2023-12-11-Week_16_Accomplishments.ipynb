{
 "cells": [
  {
   "cell_type": "markdown",
   "metadata": {},
   "source": [
    "---\n",
    "comments: true\n",
    "layout: post\n",
    "title: Week 16 Accomplishments \n",
    "type: tangibles \n",
    "courses: { csp: {week: 16} }\n",
    "categories: [C4.1]\n",
    "---"
   ]
  },
  {
   "cell_type": "markdown",
   "metadata": {},
   "source": [
    "### Accomplished \n",
    "\n",
    "    - Submitted grades for my own team teach \n",
    "    - Finished all my own homework \n",
    "    - Discussed confusions with other teams "
   ]
  }
 ],
 "metadata": {
  "language_info": {
   "name": "python"
  },
  "orig_nbformat": 4
 },
 "nbformat": 4,
 "nbformat_minor": 2
}
