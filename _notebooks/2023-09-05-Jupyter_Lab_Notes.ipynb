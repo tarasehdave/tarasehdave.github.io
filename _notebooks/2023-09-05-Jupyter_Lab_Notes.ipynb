{
 "cells": [
  {
   "cell_type": "markdown",
   "metadata": {},
   "source": [
    "---\n",
    "comments: true\n",
    "layout: post\n",
    "title: Jupyter Lab Notes\n",
    "description: Self taken notes on how to build a Jupyter Notebook. \n",
    "type: hacks\n",
    "courses: { csp: {week: 3} }\n",
    "categories: [C4.1]\n",
    "---"
   ]
  },
  {
   "cell_type": "markdown",
   "metadata": {},
   "source": [
    "# What are they?\n",
    "- Notebooks are documents combining live runnable code with narrative text (i.e. text, images,...).\n",
    "- Notebook consists of a list of cells.\n",
    "- Cells can have different types\n",
    "- Code: Executable code\n",
    "- Markdown: Markdown formatted text\n",
    "- Raw: Plain text\n",
    "- A cell has an input and an output area. This is the input area that you can edit with the proper syntax depending on the type.\n",
    "- Hitting the Play button (or pressing Shift+Enter) will execute the cell content.\n",
    "- When executing a \"Code\" cell, its code is sent to a execution kernel.Its name and its status are displayed here and in the status bar. (top right)\n",
    "\n",
    "# Create a Notebook\n",
    "- Install jupyter-lab\n",
    "- Run it\n",
    "    - It will bring up the browser\n",
    "- Create a new notebook, give it the name YYYY-MM-DD-SomeText\n",
    "- Add a Code cell\n",
    "- Paste the calculator code\n",
    "- Run it and try out different inputs\n",
    "- Save it\n",
    "- Click FIle > Save & Export Notebook As…then select Markdown\n",
    "    - This will create the md version of the notebook in the downloads folder\n",
    "- Put this md file back in your Posts folder\n",
    "    - It will now be visible on your site\n",
    "- Commit changes and push"
   ]
  }
 ],
 "metadata": {
  "language_info": {
   "name": "python"
  },
  "orig_nbformat": 4
 },
 "nbformat": 4,
 "nbformat_minor": 2
}
