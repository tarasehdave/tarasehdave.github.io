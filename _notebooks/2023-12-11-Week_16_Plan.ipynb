{
 "cells": [
  {
   "cell_type": "markdown",
   "metadata": {},
   "source": [
    "---\n",
    "comments: true\n",
    "layout: post\n",
    "title: Week 16 Plan\n",
    "type: plans\n",
    "courses: { csp: {week: 16} }\n",
    "categories: [C4.1]\n",
    "---"
   ]
  },
  {
   "cell_type": "markdown",
   "metadata": {},
   "source": [
    "### Code \n",
    "\n",
    "Go over anything that is still not working \n",
    "\n",
    "### Team Teaches \n",
    "\n",
    "Go over the homeworks not done and submit them. Make sure everything is done properly. Grade my own homework and submit it."
   ]
  }
 ],
 "metadata": {
  "language_info": {
   "name": "python"
  },
  "orig_nbformat": 4
 },
 "nbformat": 4,
 "nbformat_minor": 2
}
