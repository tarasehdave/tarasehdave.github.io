{
 "cells": [
  {
   "cell_type": "markdown",
   "metadata": {},
   "source": [
    "---\n",
    "comments: true\n",
    "layout: post\n",
    "title: Week 12\n",
    "type: hacks\n",
    "courses: { csp: {week: 12} }\n",
    "categories: [C4.1]\n",
    "---"
   ]
  },
  {
   "cell_type": "markdown",
   "metadata": {},
   "source": [
    "### Reflection \n",
    "\n",
    "#### Coding \n",
    "\n",
    "Before this trimester I had never taken a coding class. I was familiar with Python, JavaScript, and HTML, only through my parents who are both software engineers. Other than that, I have never sat down and coded before. I was nervous going into this course since I did not know if I met the requirements. I also started 8 days later than everyone else and felt that put me even further behind, but witht he help from my friend, Sharon, I was able to quickly catch on and learn. \n",
    "\n",
    "Previously, Sharon and I used a Google World Map API when coding our time zone converter project. I had worked more with it so I became familiar with APIs through that and therefore worked on the backend in our grocery store project. \n",
    "\n",
    "I liked the project about the hacks significantly since it allowed us to \"fix\" code. It made me much more familiar with JavaScript code since before that I only used Python. \n",
    "\n",
    "#### Collaboration \n",
    "\n",
    "Collaboration this year did not go as smoothly as I would have liked. Some members did not contribute after being asked to and often used their lack of experience as an excuse. None of us our experienced so working in a larger group would have helped me more than figuring it out on my own. \n",
    "\n",
    "#### Night at the Museum \n",
    "\n",
    "Certain parts of this project were significantly easier than others. I worked on backend completely, whereas some only frontend or a combination. I did the User API and the Inventory API. This alone was quite simple as I just needed to create a dictionary. The most trouble I found was using Postman to transport my code to Alisha, who worked on frontend, to connect the two. I did not work on frontend but I heard that it was the most difficult. "
   ]
  }
 ],
 "metadata": {
  "language_info": {
   "name": "python"
  }
 },
 "nbformat": 4,
 "nbformat_minor": 2
}
