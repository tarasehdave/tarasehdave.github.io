{
 "cells": [
  {
   "cell_type": "markdown",
   "metadata": {},
   "source": [
    "---\n",
    "comments: true\n",
    "layout: post\n",
    "title: Tools and Equipment Notes \n",
    "description: Self taken notes on git clonning, commiting, and pushing via terminal.\n",
    "type: hacks\n",
    "courses: { csp: {week: 1} }\n",
    "categories: [C4.1]\n",
    "---"
   ]
  },
  {
   "cell_type": "markdown",
   "metadata": {},
   "source": [
    "- Git Cloning, Commit & Push\n",
    "- Git clone - pulls down the code from the remote repo to the local repo\n",
    "- Make changes to the files with VS Code (save command+s)\n",
    "- Then go to Terminal where you run the git commands\n",
    "    - Use pwd, cd and ls to navigate to the repo on your computer\n",
    "    - Then use the following command to stage the changes you made. For example if you changed index.md, then do this git add index.md\n",
    "- If you want to add all the new changes instead of naming each file, do this\n",
    "git add *\n",
    "- Now you can commit the changes with the following command git commit -m “Put some message here”\n",
    "- Now the change you made to index.md is committed to your local repo\n",
    "    - It is NOT committed to your remote repo\n",
    "- To do this, you have to PUSH the changes up\n",
    "  git push"
   ]
  }
 ],
 "metadata": {
  "language_info": {
   "name": "python"
  },
  "orig_nbformat": 4
 },
 "nbformat": 4,
 "nbformat_minor": 2
}
