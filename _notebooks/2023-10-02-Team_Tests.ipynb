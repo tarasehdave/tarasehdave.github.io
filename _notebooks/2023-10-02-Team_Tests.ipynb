{
 "cells": [
  {
   "cell_type": "markdown",
   "metadata": {},
   "source": [
    "---\n",
    "comments: true\n",
    "layout: post\n",
    "title: Team Test Grading\n",
    "type: hacks\n",
    "courses: { csp: {week: 7} }\n",
    "categories: [C4.1]\n",
    "---"
   ]
  },
  {
   "cell_type": "markdown",
   "metadata": {},
   "source": [
    "### Nitin Balaji"
   ]
  },
  {
   "cell_type": "markdown",
   "metadata": {},
   "source": [
    "### 1. Did not complete question one. 0/1."
   ]
  },
  {
   "cell_type": "markdown",
   "metadata": {},
   "source": [
    "### 2. Code works and the output is correct. 1/1."
   ]
  },
  {
   "cell_type": "code",
   "execution_count": 3,
   "metadata": {},
   "outputs": [
    {
     "name": "stdout",
     "output_type": "stream",
     "text": [
      "11\n"
     ]
    }
   ],
   "source": [
    "num1 = 5\n",
    "num2 = 6\n",
    "print(num1+num2)"
   ]
  },
  {
   "cell_type": "markdown",
   "metadata": {},
   "source": [
    "### 3. Code works and the output is correct. 1/1."
   ]
  },
  {
   "cell_type": "code",
   "execution_count": 4,
   "metadata": {},
   "outputs": [
    {
     "name": "stdout",
     "output_type": "stream",
     "text": [
      "2.0\n"
     ]
    }
   ],
   "source": [
    "float1 = 5.0\n",
    "float2 = 2.5\n",
    "print(float1/float2)"
   ]
  },
  {
   "cell_type": "markdown",
   "metadata": {},
   "source": [
    "### 4. Code was supposed to use at least two combinations of variables that would output two versions of the message. This only has one combination (ie. name 1 and name 2). To correct this there would have to be name 3 and name 4. The format does not match what was taught and the code does not run. 0/1."
   ]
  },
  {
   "cell_type": "code",
   "execution_count": 5,
   "metadata": {},
   "outputs": [
    {
     "ename": "SyntaxError",
     "evalue": "invalid character '“' (U+201C) (39829365.py, line 1)",
     "output_type": "error",
     "traceback": [
      "\u001b[0;36m  Cell \u001b[0;32mIn[5], line 1\u001b[0;36m\u001b[0m\n\u001b[0;31m    message = “Hello {name1} and {name2}! How can I assist you today?”\u001b[0m\n\u001b[0m              ^\u001b[0m\n\u001b[0;31mSyntaxError\u001b[0m\u001b[0;31m:\u001b[0m invalid character '“' (U+201C)\n"
     ]
    }
   ],
   "source": [
    "message = “Hello {name1} and {name2}! How can I assist you today?” \n",
    "name1 = “John” n\n",
    "ame2 = “Alice”\n",
    "formatted_message = message.format(name1=name1, name2=name2) print(formatted_message)"
   ]
  },
  {
   "cell_type": "markdown",
   "metadata": {},
   "source": [
    "### Overall Score: 2/4"
   ]
  },
  {
   "cell_type": "markdown",
   "metadata": {},
   "source": [
    "### Anusha Khobare"
   ]
  },
  {
   "cell_type": "markdown",
   "metadata": {},
   "source": [
    "### 1. Did not complete question one. 0/1."
   ]
  },
  {
   "cell_type": "markdown",
   "metadata": {},
   "source": [
    "### 2. Made a variable list instead of printing out the sum of two variables. 0/1"
   ]
  },
  {
   "cell_type": "code",
   "execution_count": 6,
   "metadata": {},
   "outputs": [
    {
     "name": "stdout",
     "output_type": "stream",
     "text": [
      "[7, 9, 2, 9]\n"
     ]
    }
   ],
   "source": [
    "var1 = 7\n",
    "var2 = 9\n",
    "var3 = 2\n",
    "var4 = 9\n",
    "variable_list = [var1, var2, var3, var4]\n",
    "print(variable_list)"
   ]
  },
  {
   "cell_type": "markdown",
   "metadata": {},
   "source": [
    "### 3. Made a message with variables instead of dividing two float variables. 0/1."
   ]
  },
  {
   "cell_type": "code",
   "execution_count": 7,
   "metadata": {},
   "outputs": [
    {
     "name": "stdout",
     "output_type": "stream",
     "text": [
      "Hello, I am Anusha and, I am 15 years old. I am a sophmore\n"
     ]
    }
   ],
   "source": [
    "age = 15\n",
    "name = \"Anusha\"\n",
    "year = \"sophmore\"\n",
    "print(\"Hello, I am \" + name + \" and, I am \" + str(age) + \" years old.\" + \" I am a \" + year)"
   ]
  },
  {
   "cell_type": "markdown",
   "metadata": {},
   "source": [
    "### 4. Answer only includes one set of variables, not two. 0/1. "
   ]
  },
  {
   "cell_type": "code",
   "execution_count": 9,
   "metadata": {},
   "outputs": [
    {
     "name": "stdout",
     "output_type": "stream",
     "text": [
      "Hi. My name is Anusha and I am 15 years old\n"
     ]
    }
   ],
   "source": [
    "message = \"Hi. My name is {} and I am {} years old\"\n",
    "formatted_message = message.format(name, age)\n",
    "print(formatted_message)"
   ]
  },
  {
   "cell_type": "markdown",
   "metadata": {},
   "source": [
    "### Overall Score: 0/4"
   ]
  },
  {
   "cell_type": "markdown",
   "metadata": {},
   "source": [
    "### Tanuj"
   ]
  },
  {
   "cell_type": "markdown",
   "metadata": {},
   "source": [
    "### 1. Did not complete question one. 0/1."
   ]
  },
  {
   "cell_type": "markdown",
   "metadata": {},
   "source": [
    "### 2. Code lists numeric variables instead of printing the sum. 0/1."
   ]
  },
  {
   "cell_type": "code",
   "execution_count": 8,
   "metadata": {},
   "outputs": [
    {
     "name": "stdout",
     "output_type": "stream",
     "text": [
      "[7, 9, 2, 8]\n"
     ]
    }
   ],
   "source": [
    "var1 = 7\n",
    "var2 = 9\n",
    "var3 = 2\n",
    "var4 = 8\n",
    "VAR = [var1, var2, var3, var4]\n",
    "print(VAR)"
   ]
  },
  {
   "cell_type": "markdown",
   "metadata": {},
   "source": [
    "### 3. Code efficentily divides two numbers. They aren't deciaml numbers though which is what a float variable is. 0/1."
   ]
  },
  {
   "cell_type": "code",
   "execution_count": 10,
   "metadata": {},
   "outputs": [
    {
     "name": "stdout",
     "output_type": "stream",
     "text": [
      "5.0\n"
     ]
    }
   ],
   "source": [
    "float1 = 10\n",
    "float2 = 2\n",
    "print(float1/float2)"
   ]
  },
  {
   "cell_type": "markdown",
   "metadata": {},
   "source": [
    "### 4. Code does not have a standard message to which variables are inputted into. Only two variables are used (one set), instead of four variables (two sets). 0/1"
   ]
  },
  {
   "cell_type": "code",
   "execution_count": null,
   "metadata": {},
   "outputs": [],
   "source": [
    "var1 = \"hello,\"\n",
    "var2 = \"how are you\"\n",
    "print(var1, var2)"
   ]
  },
  {
   "cell_type": "markdown",
   "metadata": {},
   "source": [
    "### Overall Score: 0/4"
   ]
  },
  {
   "cell_type": "markdown",
   "metadata": {},
   "source": [
    "### Tarun "
   ]
  },
  {
   "cell_type": "markdown",
   "metadata": {},
   "source": [
    "### 1. Did not complete question 1. 0/1."
   ]
  },
  {
   "cell_type": "markdown",
   "metadata": {},
   "source": [
    "### 2. Printed the sum of two integers in a statement message. 1/1."
   ]
  },
  {
   "cell_type": "code",
   "execution_count": 11,
   "metadata": {},
   "outputs": [
    {
     "name": "stdout",
     "output_type": "stream",
     "text": [
      "The sum of the float 3 and2 is 5\n"
     ]
    }
   ],
   "source": [
    "def sumofint(num1Int,num2Int):\n",
    "    return num1Int+num2Int\n",
    "num1int=3\n",
    "num2int=2\n",
    "print(\"The sum of the float \"+str(num1int)+\" and\"+ str(num2int)+\" is \"+str(sumofint(num1int,num2int)))"
   ]
  },
  {
   "cell_type": "markdown",
   "metadata": {},
   "source": [
    "### 3. Used decimal integers but did not divide. 0/1. "
   ]
  },
  {
   "cell_type": "code",
   "execution_count": 12,
   "metadata": {},
   "outputs": [
    {
     "name": "stdout",
     "output_type": "stream",
     "text": [
      "The sum of the float 3.1 and 2.5 is 5.6\n"
     ]
    }
   ],
   "source": [
    "def sumoffloat(num1float,num2float):\n",
    "    return num1float+num2float\n",
    "num1float=3.1\n",
    "num2float=2.5\n",
    "print(\"The sum of the float \"+str(num1float)+\" and \"+str(num2float)+\" is \"+str(sumoffloat(num1float,num2float)))"
   ]
  },
  {
   "cell_type": "markdown",
   "metadata": {},
   "source": [
    "### 4. Instead of having two sets of variables he gave an option of choosing what one set would be. .5/1."
   ]
  },
  {
   "cell_type": "code",
   "execution_count": 13,
   "metadata": {},
   "outputs": [
    {
     "name": "stdout",
     "output_type": "stream",
     "text": [
      "I like Cats and Dogs.\n"
     ]
    }
   ],
   "source": [
    "string1=input(\"What is one thing you like?\")\n",
    "# string2=\"Cats\"\n",
    "string2=input(\"What is another thing you like?\")\n",
    "message=\"I like \"+string1+\" and \"+string2+\".\"\n",
    "print(message)"
   ]
  },
  {
   "cell_type": "markdown",
   "metadata": {},
   "source": [
    "### Overall Score: 1.5/4"
   ]
  }
 ],
 "metadata": {
  "kernelspec": {
   "display_name": "Python 3",
   "language": "python",
   "name": "python3"
  },
  "language_info": {
   "codemirror_mode": {
    "name": "ipython",
    "version": 3
   },
   "file_extension": ".py",
   "mimetype": "text/x-python",
   "name": "python",
   "nbconvert_exporter": "python",
   "pygments_lexer": "ipython3",
   "version": "3.11.5"
  },
  "orig_nbformat": 4
 },
 "nbformat": 4,
 "nbformat_minor": 2
}
