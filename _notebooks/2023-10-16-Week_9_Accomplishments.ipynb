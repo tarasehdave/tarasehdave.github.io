{
 "cells": [
  {
   "cell_type": "markdown",
   "metadata": {},
   "source": [
    "---\n",
    "comments: true\n",
    "layout: post\n",
    "title: Week 9 Accomplishments \n",
    "type: tangibles \n",
    "courses: { csp: {week: 9} }\n",
    "categories: [C4.1]\n",
    "---"
   ]
  },
  {
   "cell_type": "markdown",
   "metadata": {},
   "source": [
    "### General \n",
    "\n",
    "I completed the code this week. I used my own API to create a list of items that will be displayed on the site. There were certain difficulties I ran into since this type of coding is new to me, but with research, assistance, and my friends from CSA, I was able to complete the code so it works. "
   ]
  }
 ],
 "metadata": {
  "language_info": {
   "name": "python"
  }
 },
 "nbformat": 4,
 "nbformat_minor": 2
}
