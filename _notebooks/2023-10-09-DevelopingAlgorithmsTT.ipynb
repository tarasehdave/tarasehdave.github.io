{
 "cells": [
  {
   "cell_type": "markdown",
   "metadata": {},
   "source": [
    "---\n",
    "comments: true\n",
    "layout: post\n",
    "title: Developing Algorithms and Radomization\n",
    "type: hacks\n",
    "courses: { csp: {week: 9} }\n",
    "categories: [C4.1]\n",
    "---"
   ]
  },
  {
   "cell_type": "markdown",
   "metadata": {},
   "source": [
    "### 1. Median of Class Grades"
   ]
  },
  {
   "cell_type": "code",
   "execution_count": 1,
   "metadata": {},
   "outputs": [
    {
     "name": "stdout",
     "output_type": "stream",
     "text": [
      "The median test grade is: 92\n"
     ]
    }
   ],
   "source": [
    "import statistics\n",
    "\n",
    "# List of test grades\n",
    "grades = [85, 70, 100, 95, 92]\n",
    "\n",
    "# Calculate the median\n",
    "median_grade = statistics.median(grades)\n",
    "\n",
    "# Print the result\n",
    "print(\"The median test grade is:\", median_grade)\n"
   ]
  },
  {
   "cell_type": "markdown",
   "metadata": {},
   "source": [
    "### 2. Create a simple game using random numbers"
   ]
  },
  {
   "cell_type": "code",
   "execution_count": 4,
   "metadata": {},
   "outputs": [
    {
     "name": "stdout",
     "output_type": "stream",
     "text": [
      "Welcome to the Number Guessing Game!\n",
      "Try to guess the secret number between 1 and 10. You have 3 attempts.\n",
      "Congratulations! You've guessed the secret number: 10\n"
     ]
    }
   ],
   "source": [
    "import random\n",
    "\n",
    "# Generate a random number between 1 and 10\n",
    "secret_number = random.randint(1, 10)\n",
    "\n",
    "# Set the number of attempts\n",
    "attempts = 3\n",
    "\n",
    "print(\"Welcome to the Number Guessing Game!\")\n",
    "print(f\"Try to guess the secret number between 1 and 10. You have {attempts} attempts.\")\n",
    "\n",
    "while attempts > 0:\n",
    "    guess = int(input(\"Enter your guess: \"))\n",
    "    \n",
    "    if guess < secret_number:\n",
    "        print(\"Too low! Try a higher number.\")\n",
    "    elif guess > secret_number:\n",
    "        print(\"Too high! Try a lower number.\")\n",
    "    else:\n",
    "        print(f\"Congratulations! You've guessed the secret number: {secret_number}\")\n",
    "        break\n",
    "    \n",
    "    attempts -= 1\n",
    "    if attempts > 0:\n",
    "        print(f\"You have {attempts} attempts left.\")\n",
    "    else:\n",
    "        print(f\"Out of attempts. The secret number was {secret_number}. Game over!\")\n"
   ]
  }
 ],
 "metadata": {
  "kernelspec": {
   "display_name": "Python 3",
   "language": "python",
   "name": "python3"
  },
  "language_info": {
   "codemirror_mode": {
    "name": "ipython",
    "version": 3
   },
   "file_extension": ".py",
   "mimetype": "text/x-python",
   "name": "python",
   "nbconvert_exporter": "python",
   "pygments_lexer": "ipython3",
   "version": "3.11.5"
  }
 },
 "nbformat": 4,
 "nbformat_minor": 2
}
