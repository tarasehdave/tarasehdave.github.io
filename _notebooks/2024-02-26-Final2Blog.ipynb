{
 "cells": [
  {
   "cell_type": "markdown",
   "metadata": {},
   "source": [
    "---\n",
    "comments: true\n",
    "layout: post\n",
    "title: Trimester 2 Independent Review\n",
    "type: hacks\n",
    "courses: { csp: {week: 24} }\n",
    "categories: [C4.1]\n",
    "---"
   ]
  },
  {
   "cell_type": "markdown",
   "metadata": {},
   "source": [
    "# Team Review"
   ]
  },
  {
   "cell_type": "markdown",
   "metadata": {},
   "source": [
    "## Issues\n",
    "\n",
    "[N@TM Presentation](https://github.com/tarasehdave/volunteer-frontend/issues/2)\n",
    "[N@TM Blog](https://github.com/tarasehdave/tarasehdave.github.io/issues/3)"
   ]
  },
  {
   "cell_type": "markdown",
   "metadata": {},
   "source": [
    "## Plan\n",
    "\n",
    "[Ideation](https://tarasehdave.github.io//c4.1/2023/12/18/Week_17_Accomplishments_IPYNB_2_.html)\n",
    "\n",
    "[Google Slide Plan](https://docs.google.com/presentation/d/177APnUG0p3kK5aQkFDorma6C1eBa2h1NVmwRZHyHqhg/edit?usp=sharing)"
   ]
  },
  {
   "cell_type": "markdown",
   "metadata": {},
   "source": [
    "## Future Steps\n",
    "\n",
    "Since our CPT project is the one we will be submitting to College Board, we will continue to improve it as the weeks come. Here are some additional ideas we have for our project.\n",
    "\n",
    "- Add multiple volunteers to each opportunity\n",
    "- Allow volunteers to manage their profiles and earn volunteering credits\n",
    "- Enhance search capabilities\n",
    "- Include AI chat bot to answer volunteering question that users may have"
   ]
  },
  {
   "cell_type": "markdown",
   "metadata": {},
   "source": [
    "# Independent Review"
   ]
  },
  {
   "cell_type": "markdown",
   "metadata": {},
   "source": [
    "## Key Commits\n",
    "\n",
    "\n",
    "Frontend\n",
    "[Account, User, Event pages](https://github.com/tarasehdave/volunteer-frontend/commit/c4402baee1f1c9e92e55f915d5dd1c2b72b554b0)\n",
    "[Formatting UI tables](https://github.com/tarasehdave/volunteer-frontend/commit/120f63a55749ad40dca342da778e699b7ba5b2ab)\n",
    "[Manage Roles, Tokens](https://github.com/tarasehdave/volunteer-frontend/commit/ef3dd66608f8b06335306fc2d1e19b4720d29d34)\n",
    "\n",
    "Backend\n",
    "[CRUD for User and Events. New Endpoint to Filter events based on search criteria](https://github.com/tarasehdave/volunteer_backend/commit/cdb9b8b73c90a13d70a6e17d6654e01c1aa44e49)\n",
    "[Get Events by UserId endpoint](https://github.com/tarasehdave/volunteer_backend/commit/c22bb3624b230027de8e64168980852adedaebc1)\n"
   ]
  },
  {
   "cell_type": "markdown",
   "metadata": {},
   "source": [
    "## Spot Checks \n",
    "\n",
    "[Spot Check](https://github.com/tarasehdave/tarasehdave.github.io/issues/1)\n",
    "\n",
    "[Spot Check 2](https://github.com/tarasehdave/tarasehdave.github.io/issues/2)"
   ]
  },
  {
   "cell_type": "markdown",
   "metadata": {},
   "source": [
    "## Component A"
   ]
  },
  {
   "cell_type": "markdown",
   "metadata": {},
   "source": [
    "### Why \"Opportunity Connect\"?\n",
    "\n",
    "High schoolers are expected to do a minimum amount of volunteer hours, and it's often hard to find opportunities that align with our interests. A website that is easy to navigate and gives access to different volunteering opportunities will encourage people to volunteer more. This website is very useful for many people in our school who are searching for opportunities."
   ]
  },
  {
   "cell_type": "markdown",
   "metadata": {},
   "source": [
    "### My Feature\n",
    "\n",
    "My feature is searching for volunteering events based on certain criteria, as well as adding, deleting, and editing users as an admin role. \n"
   ]
  },
  {
   "cell_type": "markdown",
   "metadata": {},
   "source": [
    "CPT Requirements | Explanation\n",
    "-- | --\n",
    "Instructions for input from one of the following: the user, a device, an online datas stream, a file. | Our project adds users and events. Adding events can take in an image that represents the event logo.\n",
    "Use of at least one list (or other collection type) to represent a collectino of data that is stored and used to manage program complexity and help fulfill the users purpose.\t| Searching for events returns a collection that a user can register. User can also see a collection of all events they are registered for and unregister for an event.\n",
    "At least one procedure that contirubted to the program’s intened purpose where you have defined: the name, return type, one or more parameters:\t| <img width=\"793\" alt=\"image\" src=\"https://github.com/tarasehdave/volunteer-frontend/assets/143206206/1e1862e9-3347-40fd-b0c1-00fc719f9c56\">\n",
    "An algorithm that includes sequencing, selection, and iteration that is in the body of the selected procedure\t| <img width=\"761\" alt=\"image\" src=\"https://github.com/tarasehdave/volunteer-frontend/assets/143206206/02d4301d-7a3f-46e2-a29d-2504dcd5eb5a\">\n",
    "Calls to your student-developed prodcedure:\t| <img width=\"802\" alt=\"image\" src=\"https://github.com/tarasehdave/volunteer-frontend/assets/143206206/2a8088b9-b8e0-4632-9e7b-3926d93dce3b\">\n",
    "Instructions for output (tactile, audible, visual, or ) based on input and program functionality\t| <img width=\"770\" alt=\"image\" src=\"https://github.com/tarasehdave/volunteer-frontend/assets/143206206/96df417c-bdb1-437f-8f52-1c74975c1538\">"
   ]
  },
  {
   "cell_type": "markdown",
   "metadata": {},
   "source": [
    "### Requirements \n",
    "\n",
    "[Link to Collegeboard Requirements](https://apcentral.collegeboard.org/media/pdf/ap-csp-student-task-directions.pdf)"
   ]
  },
  {
   "cell_type": "markdown",
   "metadata": {},
   "source": [
    "## Component B"
   ]
  },
  {
   "cell_type": "markdown",
   "metadata": {},
   "source": [
    "[Link to Feature Video](https://youtu.be/6A3_bkx3mFE?si=PQ4bHohHMJAESmRz)"
   ]
  },
  {
   "cell_type": "markdown",
   "metadata": {},
   "source": [
    "## Grade \n",
    "\n",
    "0.94/1\n",
    "\n",
    "[Peer Grader](https://github.com/tarasehdave/tarasehdave.github.io/issues/4)"
   ]
  }
 ],
 "metadata": {
  "language_info": {
   "name": "python"
  },
  "orig_nbformat": 4
 },
 "nbformat": 4,
 "nbformat_minor": 2
}
