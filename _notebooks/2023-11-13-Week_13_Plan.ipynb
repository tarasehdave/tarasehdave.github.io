{
 "cells": [
  {
   "cell_type": "markdown",
   "metadata": {},
   "source": [
    "---\n",
    "comments: true\n",
    "layout: post\n",
    "title: Week 13 Plan\n",
    "type: plans\n",
    "courses: { csp: {week: 13} }\n",
    "categories: [C4.1]\n",
    "---"
   ]
  },
  {
   "cell_type": "markdown",
   "metadata": {},
   "source": [
    "### General Plan\n",
    "\n",
    "We got new groups this week so I want to establish roles. I also want to make sure everybody knows which feauture they will be working on before break so each can contribute a little during this upcoming week.\n",
    "\n",
    "We have pulled the teacher_portfolio and got our links from that. Next, we will go over the types of features. I want to make half of the group members use an external feature and half to use listed features to add diversity. "
   ]
  }
 ],
 "metadata": {
  "language_info": {
   "name": "python"
  }
 },
 "nbformat": 4,
 "nbformat_minor": 2
}
