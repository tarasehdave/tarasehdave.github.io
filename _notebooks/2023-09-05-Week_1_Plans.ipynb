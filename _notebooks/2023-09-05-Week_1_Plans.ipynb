{
 "cells": [
  {
   "cell_type": "markdown",
   "metadata": {},
   "source": [
    "---\n",
    "comments: true\n",
    "layout: post\n",
    "title: Week 1 Plans\n",
    "description: My first day of AP CSP\n",
    "type: Plans\n",
    "courses: { csp: {week: 1} }\n",
    "---"
   ]
  },
  {
   "cell_type": "markdown",
   "metadata": {},
   "source": [
    "My plan this week is to download and install all the applications needed. I also want to get an introduction to Python and experiment with it to build my understanding."
   ]
  }
 ],
 "metadata": {
  "language_info": {
   "name": "python"
  },
  "orig_nbformat": 4
 },
 "nbformat": 4,
 "nbformat_minor": 2
}
