{
 "cells": [
  {
   "cell_type": "markdown",
   "metadata": {},
   "source": [
    "---\n",
    "comments: true\n",
    "layout: post\n",
    "title: Week 7 Plan\n",
    "type: plans\n",
    "courses: { csp: {week: 7} }\n",
    "categories: [C4.1]\n",
    "---"
   ]
  },
  {
   "cell_type": "markdown",
   "metadata": {},
   "source": [
    "## Data Abstraction Lesson\n",
    "\n",
    "### 3.1.2\n",
    "\n",
    "I will watch the collegeboard videos for my assigned topic, 3.1.2, and make a plan with the topics in order. I will make good and bad examples for the students and 3 main homework questions that they will submit to me later. "
   ]
  },
  {
   "cell_type": "markdown",
   "metadata": {},
   "source": [
    "## Everyone \n",
    "\n",
    "Everyone will submit their lessons to Alisha the night before so she can make one singular notebook to present with. "
   ]
  }
 ],
 "metadata": {
  "language_info": {
   "name": "python"
  },
  "orig_nbformat": 4
 },
 "nbformat": 4,
 "nbformat_minor": 2
}
