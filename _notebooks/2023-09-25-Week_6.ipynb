{
 "cells": [
  {
   "cell_type": "markdown",
   "metadata": {},
   "source": [
    "---\n",
    "comments: true\n",
    "layout: post\n",
    "title: Week 6\n",
    "type: hacks\n",
    "courses: { csp: {week: 6} }\n",
    "categories: [C4.1]\n",
    "---"
   ]
  },
  {
   "cell_type": "markdown",
   "metadata": {},
   "source": [
    "# HTML"
   ]
  },
  {
   "cell_type": "code",
   "execution_count": null,
   "metadata": {},
   "outputs": [],
   "source": [
    "%%html\n",
    "   <style>\n",
    "        button {\n",
    "            background-color: #4E804F;\n",
    "            color: white;\n",
    "            padding: 10px 20px;\n",
    "            border: none;\n",
    "            cursor: pointer;\n",
    "        }\n",
    "        button:hover {\n",
    "            background-color: darkgreen;\n",
    "        }\n",
    "        a {\n",
    "            color: white;\n",
    "            text-decoration: none;\n",
    "        }\n",
    "        a:hover {\n",
    "            color: #D1D9CE;\n",
    "        }\n",
    "        /* Additional styles for better presentation */\n",
    "        div {\n",
    "            margin: 20px;\n",
    "        }\n",
    "        .top {\n",
    "            background-color: #4E804F;\n",
    "            padding: 10px 0;\n",
    "            text-align: center;\n",
    "        }\n",
    "        .top a {\n",
    "            margin: 0 20px;\n",
    "        }\n",
    "        h1 {\n",
    "            text-align: center;\n",
    "        }\n",
    "    </style>\n",
    "</head>\n",
    "<body>\n",
    "    <header>\n",
    "        <h1>☆ Online Grocery Store! ☆</h1>\n",
    "    </header>\n",
    "    <nav class=“top”>\n",
    "        <a href=“/”>☆ Home</a>\n",
    "        <a href=“/fruits”>☆ Fruits</a>\n",
    "        <a href=“/vegetables”>☆ Vegetables</a>\n",
    "        <a href=“/dairy”>☆ Dairy</a>\n",
    "    </nav>\n",
    "    <section>\n",
    "        <h2>Shop Now</h2>\n",
    "        <p>Explore a wide variety of fresh and delicious groceries.</p>\n",
    "        <button>Start Shopping</button>\n",
    "    </section>\n",
    "    <section>\n",
    "        <h2>Our Products</h2>\n",
    "        <p>Discover the finest selection of fruits, vegetables, and dairy products.</p>\n",
    "        <a href=“/fruits”>Fruits</a>\n",
    "        <a href=“/vegetables”>Vegetables</a>\n",
    "        <a href=“/dairy”>Dairy</a>\n",
    "    </section>\n",
    "</body>\n",
    "</html>"
   ]
  },
  {
   "cell_type": "markdown",
   "metadata": {},
   "source": [
    "# Data Types  "
   ]
  },
  {
   "cell_type": "code",
   "execution_count": null,
   "metadata": {},
   "outputs": [],
   "source": [
    "%%html\n",
    "<!DOCTYPE html>\n",
    "<html lang=\"en\">\n",
    "<head>\n",
    "    <meta charset=\"UTF-8\">\n",
    "    <meta name=\"viewport\" content=\"width=device-width, initial-scale=1.0\">\n",
    "    <title>Grocery Store</title>\n",
    "</head>\n",
    "<body>\n",
    "    <!-- Grocery Store Title -->\n",
    "    <h1 id=\"storeTitle\">My Grocery Store</h1>\n",
    "\n",
    "    <!-- Grocery List -->\n",
    "    <ul id=\"groceryList\">\n",
    "        <li>Apples</li>\n",
    "        <li>Bananas</li>\n",
    "        <li>Carrots</li>\n",
    "    </ul>\n",
    "\n",
    "    <!-- Add Item Form -->\n",
    "    <div>\n",
    "        <input type=\"text\" id=\"itemInput\" placeholder=\"Enter an item\">\n",
    "        <button id=\"addItemButton\">Add Item</button>\n",
    "    </div>\n",
    "\n",
    "    <!-- JavaScript Code -->\n",
    "    <script>\n",
    "        // Function to add an item to the grocery list\n",
    "        function addItemToList() {\n",
    "            var itemInput = document.getElementById(\"itemInput\");\n",
    "            var groceryList = document.getElementById(\"groceryList\");\n",
    "\n",
    "            if (itemInput.value.trim() !== \"\") {\n",
    "                var newItem = document.createElement(\"li\");\n",
    "                newItem.innerText = itemInput.value;\n",
    "                groceryList.appendChild(newItem);\n",
    "\n",
    "                // Clear the input field\n",
    "                itemInput.value = \"\";\n",
    "\n",
    "                // Update the top paragraph to indicate a change\n",
    "                var storeTitle = document.getElementById(\"storeTitle\");\n",
    "                storeTitle.innerText = \"My Grocery Store (Updated)\";\n",
    "\n",
    "                // Change the innerHTML of the top paragraph\n",
    "                var topParagraph = document.querySelector(\"p\");\n",
    "                topParagraph.innerText = \"Switched!\";\n",
    "            }\n",
    "        }\n",
    "\n",
    "        // Add an item when the button is clicked\n",
    "        var addItemButton = document.getElementById(\"addItemButton\");\n",
    "        addItemButton.onclick = addItemToList;\n",
    "    </script>\n",
    "</body>\n",
    "</html>"
   ]
  },
  {
   "cell_type": "markdown",
   "metadata": {},
   "source": [
    "# JavaScript"
   ]
  },
  {
   "cell_type": "code",
   "execution_count": null,
   "metadata": {},
   "outputs": [],
   "source": [
    "%%html\n",
    "<script>\n",
    "console.log(\"If statements + Operators\")\n",
    "var age1 = 16\n",
    "var age2 = 17\n",
    "if (age1 > age2) {\n",
    "    // runs if age1 is more than age2\n",
    "    console.log(\"age1 is more than age2\")\n",
    "}\n",
    "if (age1 === age2) {\n",
    "    // runs if age1 and age2 are the same\n",
    "    console.log(\"age1 is the same as age2\")\n",
    "}\n",
    "if (age1 < age2) {\n",
    "    // runs if age2 is more than age1\n",
    "    console.log(\"age1 is less than age2\")\n",
    "}\n",
    "</script>"
   ]
  },
  {
   "cell_type": "markdown",
   "metadata": {},
   "source": [
    "# JS Debugging "
   ]
  },
  {
   "cell_type": "markdown",
   "metadata": {},
   "source": [
    "### 1. "
   ]
  },
  {
   "cell_type": "code",
   "execution_count": null,
   "metadata": {},
   "outputs": [],
   "source": [
    "%%js\n",
    "\n",
    "var alphabet = \"abcdefghijklmnopqrstuvwxyz\";\n",
    "var alphabetList = [];\n",
    "\n",
    "for (var i = 0; i < 10; i++) {\n",
    "\talphabetList.push(i);\n",
    "}\n",
    "\n",
    "console.log(alphabetList);\n"
   ]
  },
  {
   "cell_type": "code",
   "execution_count": null,
   "metadata": {},
   "outputs": [],
   "source": [
    "%%js\n",
    "\n",
    "var alphabet = \"abcdefghijklmnopqrstuvwxyz\";\n",
    "var alphabetList = [];\n",
    "\n",
    "for (var i = 0; i < 10; i++) {\n",
    "    alphabetList.push(alphabet[i]);\n",
    "}\n",
    "\n",
    "console.log(alphabetList);\n"
   ]
  },
  {
   "cell_type": "markdown",
   "metadata": {},
   "source": [
    "Need to push first 10 letters of alphabet, not just 0 - 9. To fix code, iterate through 'alphabet' string and push characters to 'alphabetList'."
   ]
  },
  {
   "cell_type": "markdown",
   "metadata": {},
   "source": [
    "### 2. "
   ]
  },
  {
   "cell_type": "code",
   "execution_count": null,
   "metadata": {},
   "outputs": [],
   "source": [
    "%%js\n",
    "\n",
    "// Copy your previous code to built alphabetList here\n",
    "\n",
    "let letterNumber = 5\n",
    "\n",
    "for (var i = 0; i < alphabetList; i++) {\n",
    "\tif (i === letterNumber) {\n",
    "\t\tconsole.log(letterNumber + \" is letter number 1 in the alphabet\")\n",
    "\t}\n",
    "}\n",
    "\n",
    "// Should output:\n",
    "// \"e\" is letter number 5 in the alphabet"
   ]
  },
  {
   "cell_type": "code",
   "execution_count": null,
   "metadata": {},
   "outputs": [],
   "source": [
    "%%js\n",
    "\n",
    "// Copy your previous code to build alphabetList here\n",
    "var alphabet = \"abcdefghijklmnopqrstuvwxyz\";\n",
    "var alphabetList = [];\n",
    "\n",
    "for (var i = 0; i < 10; i++) {\n",
    "    alphabetList.push(alphabet[i]);\n",
    "}\n",
    "\n",
    "let letterToFind = \"e\";\n",
    "\n",
    "for (var i = 0; i < alphabetList.length; i++) {\n",
    "    if (alphabetList[i] === letterToFind) {\n",
    "        console.log(letterToFind + \" is letter number \" + (i + 1) + \" in the alphabet\");\n",
    "        break; // Once found, exit the loop\n",
    "    }\n",
    "}\n"
   ]
  },
  {
   "cell_type": "markdown",
   "metadata": {},
   "source": [
    "1. Switch 'alphabetList' to 'alphabetList.length'\n",
    "2. To find position of letter in alphabet, compare it with the 'alphabet' string not index. "
   ]
  },
  {
   "cell_type": "markdown",
   "metadata": {},
   "source": [
    "### 3. "
   ]
  },
  {
   "cell_type": "code",
   "execution_count": null,
   "metadata": {},
   "outputs": [],
   "source": [
    "%%js\n",
    "\n",
    "let evens = [];\n",
    "let i = 0;\n",
    "\n",
    "while (i <= 10) {\n",
    "  evens.push(i);\n",
    "  i += 2;\n",
    "}\n",
    "\n",
    "console.log(evens);"
   ]
  },
  {
   "cell_type": "code",
   "execution_count": null,
   "metadata": {},
   "outputs": [],
   "source": [
    "%%js\n",
    "\n",
    "let evens = [];\n",
    "let i = 0;\n",
    "\n",
    "while (i <= 10) {\n",
    "  evens.push(i);\n",
    "  i += 2;\n",
    "}\n",
    "\n",
    "console.log(evens);\n"
   ]
  },
  {
   "cell_type": "markdown",
   "metadata": {},
   "source": [
    "No errors found in this code. "
   ]
  }
 ],
 "metadata": {
  "language_info": {
   "name": "python"
  },
  "orig_nbformat": 4
 },
 "nbformat": 4,
 "nbformat_minor": 2
}
