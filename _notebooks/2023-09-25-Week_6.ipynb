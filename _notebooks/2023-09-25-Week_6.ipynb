{
 "cells": [
  {
   "cell_type": "markdown",
   "metadata": {},
   "source": [
    "---\n",
    "comments: true\n",
    "layout: post\n",
    "title: Week 6\n",
    "type: hacks\n",
    "courses: { csp: {week: 6} }\n",
    "categories: [C4.1]\n",
    "---"
   ]
  },
  {
   "cell_type": "markdown",
   "metadata": {},
   "source": [
    "## Segment 1 "
   ]
  },
  {
   "cell_type": "markdown",
   "metadata": {},
   "source": [
    "### Before "
   ]
  },
  {
   "cell_type": "code",
   "execution_count": 10,
   "metadata": {},
   "outputs": [
    {
     "data": {
      "application/javascript": "\nvar alphabet = \"abcdefghijklmnopqrstuvwxyz\"; \nvar alphabetList = []; \n\nfor (var i = 0; i < 10; i++) {\n\t/*\n\t Having 'i' would just output numbers 0-9 since i = 0 and i < 10. It's not referencing the string 'alphabet'\n\t */\n\talphabetList.push(i); \n}\n\nalert(alphabetList); // console.log was not working so I changed it to alert\n",
      "text/plain": [
       "<IPython.core.display.Javascript object>"
      ]
     },
     "metadata": {},
     "output_type": "display_data"
    }
   ],
   "source": [
    "%%js\n",
    "\n",
    "var alphabet = \"abcdefghijklmnopqrstuvwxyz\"; \n",
    "var alphabetList = []; \n",
    "\n",
    "for (var i = 0; i < 10; i++) {\n",
    "\t/*\n",
    "\t Having 'i' would just output numbers 0-9 since i = 0 and i < 10. It's not referencing the string 'alphabet'\n",
    "\t */\n",
    "\talphabetList.push(i); \n",
    "}\n",
    "\n",
    "alert(alphabetList); // console.log was not working so I changed it to alert"
   ]
  },
  {
   "cell_type": "markdown",
   "metadata": {},
   "source": [
    "### After "
   ]
  },
  {
   "cell_type": "code",
   "execution_count": 9,
   "metadata": {},
   "outputs": [
    {
     "data": {
      "application/javascript": "\nvar alphabet = \"abcdefghijklmnopqrstuvwxyz\"; // Alphabet string \nvar alphabetList = []; // Initializing the alphabetList\n\n/* \nLoop through the characters of the string until the length of it to add the characters to the alphabetList\n*/\nfor (var i = 0; i < alphabet.length; i++) { \n\talphabetList.push(alphabet[i]); // Adding the string character at location i to the list\n}\n\nalert(alphabetList); // Displaying contents of the list \n",
      "text/plain": [
       "<IPython.core.display.Javascript object>"
      ]
     },
     "metadata": {},
     "output_type": "display_data"
    }
   ],
   "source": [
    "%%js // Javascript\n",
    "\n",
    "var alphabet = \"abcdefghijklmnopqrstuvwxyz\"; // Alphabet string \n",
    "var alphabetList = []; // Initializing the alphabetList\n",
    "\n",
    "/* \n",
    "Loop through the characters of the string until the length of it to add the characters to the alphabetList\n",
    "*/\n",
    "for (var i = 0; i < alphabet.length; i++) { \n",
    "\talphabetList.push(alphabet[i]); // Adding the string character at location i to the list\n",
    "}\n",
    "\n",
    "alert(alphabetList); // Displaying contents of the list "
   ]
  },
  {
   "cell_type": "markdown",
   "metadata": {},
   "source": [
    "## Segment 2"
   ]
  },
  {
   "cell_type": "markdown",
   "metadata": {},
   "source": [
    "### Before "
   ]
  },
  {
   "cell_type": "code",
   "execution_count": 35,
   "metadata": {},
   "outputs": [
    {
     "data": {
      "application/javascript": "\n// Copy your previous code to built alphabetList here\n\nlet letterNumber = 5\n\nfor (var i = 0; i < alphabetList; i++) {\n\tif (i === letterNumber) { // Should only two equal signs; comparison is only two \n\t\tconsole.log(letterNumber + \" is letter number 1 in the alphabet\") // It will always print 1\n\t}\n}\n\n// Should output:\n// \"e\" is letter number 5 in the alphabet\n",
      "text/plain": [
       "<IPython.core.display.Javascript object>"
      ]
     },
     "metadata": {},
     "output_type": "display_data"
    }
   ],
   "source": [
    "%%js\n",
    "\n",
    "// Copy your previous code to built alphabetList here\n",
    "\n",
    "let letterNumber = 5\n",
    "\n",
    "for (var i = 0; i < alphabetList; i++) {\n",
    "\tif (i === letterNumber) { // Should only two equal signs; comparison is only two \n",
    "\t\tconsole.log(letterNumber + \" is letter number 1 in the alphabet\") // It will always print 1\n",
    "\t}\n",
    "}\n",
    "\n",
    "// Should output:\n",
    "// \"e\" is letter number 5 in the alphabet"
   ]
  },
  {
   "cell_type": "markdown",
   "metadata": {},
   "source": [
    "### After "
   ]
  },
  {
   "cell_type": "code",
   "execution_count": 6,
   "metadata": {},
   "outputs": [
    {
     "data": {
      "application/javascript": "\nvar alphabet = \"abcdefghijklmnopqrstuvwxyz\"; // Alphabet string \nvar alphabetList = []; // Initializing the alphabetList\n\n/* \nLoop through the characters of the string until the length of it to add the characters to the alphabetList\n*/\nfor (var i = 0; i < alphabet.length; i++) { \n\talphabetList.push(alphabet[i]); // Adding the string character at location i to the list\n}\n\nlet letterNumber = 5; // The alphabet letter that corresponds with 5 should be printed \n\nfor (var i = 0; i < alphabetList.length; i++) { // Loop through the alphabetList.length\n\tif (i === letterNumber - 1) { // Match the location to letter (subtract 1 for 0-based index)\n\t\talert(alphabetList[i] + \" is letter number \" + (i + 1) + \" in the alphabet\"); // Print the letter and the location\n\t}\n}\n",
      "text/plain": [
       "<IPython.core.display.Javascript object>"
      ]
     },
     "metadata": {},
     "output_type": "display_data"
    }
   ],
   "source": [
    "%%js\n",
    "\n",
    "var alphabet = \"abcdefghijklmnopqrstuvwxyz\"; // Alphabet string \n",
    "var alphabetList = []; // Initializing the alphabetList\n",
    "\n",
    "/* \n",
    "Loop through the characters of the string until the length of it to add the characters to the alphabetList\n",
    "*/\n",
    "for (var i = 0; i < alphabet.length; i++) { \n",
    "\talphabetList.push(alphabet[i]); // Adding the string character at location i to the list\n",
    "}\n",
    "\n",
    "let letterNumber = 5; // The alphabet letter that corresponds with 5 should be printed \n",
    "\n",
    "for (var i = 0; i < alphabetList.length; i++) { // Loop through the alphabetList.length\n",
    "\tif (i === letterNumber - 1) { // Match the location to letter (subtract 1 for 0-based index)\n",
    "\t\talert(alphabetList[i] + \" is letter number \" + (i + 1) + \" in the alphabet\"); // Print the letter and the location\n",
    "\t}\n",
    "}"
   ]
  },
  {
   "cell_type": "markdown",
   "metadata": {},
   "source": [
    "## Segment 3"
   ]
  },
  {
   "cell_type": "markdown",
   "metadata": {},
   "source": [
    "### Before "
   ]
  },
  {
   "cell_type": "code",
   "execution_count": 38,
   "metadata": {},
   "outputs": [
    {
     "data": {
      "application/javascript": "\nlet evens = []; \nlet i = 0; // First number of the list will be 0; 0 is even\n\nwhile (i <= 10) {\n  evens.push(i);\n  i += 2; // List will increase by 2 starting from 0 until 10; every number will be even\n}\n\nalert(evens);\n",
      "text/plain": [
       "<IPython.core.display.Javascript object>"
      ]
     },
     "metadata": {},
     "output_type": "display_data"
    }
   ],
   "source": [
    "%%js\n",
    "\n",
    "let evens = []; \n",
    "let i = 0; // First number of the list will be 0; 0 is even\n",
    "\n",
    "while (i <= 10) {\n",
    "  evens.push(i);\n",
    "  i += 2; // List will increase by 2 starting from 0 until 10; every number will be even\n",
    "}\n",
    "\n",
    "alert(evens);"
   ]
  },
  {
   "cell_type": "markdown",
   "metadata": {},
   "source": [
    "### After "
   ]
  },
  {
   "cell_type": "code",
   "execution_count": 8,
   "metadata": {},
   "outputs": [
    {
     "data": {
      "application/javascript": "\nvar oddNumbers = [];\n\nlet k = 1; // First number of the list will be 1; 1 is odd\nwhile(k<11)\n{\n    oddNumbers.push(k);\n\n    k = k + 2; // List will increase by 2 starting from 1 until 11; every number will be odd \n}\n\n\nalert(oddNumbers);\n",
      "text/plain": [
       "<IPython.core.display.Javascript object>"
      ]
     },
     "metadata": {},
     "output_type": "display_data"
    }
   ],
   "source": [
    "%%js\n",
    "\n",
    "var oddNumbers = [];\n",
    "\n",
    "let k = 1; // First number of the list will be 1; 1 is odd\n",
    "while(k<11)\n",
    "{\n",
    "    oddNumbers.push(k);\n",
    "\n",
    "    k = k + 2; // List will increase by 2 starting from 1 until 11; every number will be odd \n",
    "}\n",
    "\n",
    "\n",
    "alert(oddNumbers);"
   ]
  },
  {
   "cell_type": "markdown",
   "metadata": {},
   "source": [
    "## Segment 4"
   ]
  },
  {
   "cell_type": "markdown",
   "metadata": {},
   "source": [
    "### Before "
   ]
  },
  {
   "cell_type": "code",
   "execution_count": 41,
   "metadata": {},
   "outputs": [
    {
     "data": {
      "application/javascript": "\nvar numbers = []\nvar newNumbers = []\nvar i = 0\n\nwhile (i < 100) {\n    numbers.push(i)\n    i += 1\n}\nfor (var i of numbers) {\n    if (numbers[i] % 5 === 0)\n        newNumbers.push(numbers[i])\n    if (numbers[i] % 2 === 0) // Repeating numbers twice \n        newNumbers.push(numbers[i])\n    /* Having two if statements will result in duplicates if the number is divisible by both 2 and 5\n    To avoid this we have to use 'if' and then 'else if'\n    */\n}\nalert(newNumbers) \n",
      "text/plain": [
       "<IPython.core.display.Javascript object>"
      ]
     },
     "metadata": {},
     "output_type": "display_data"
    }
   ],
   "source": [
    "%%js\n",
    "\n",
    "var numbers = []\n",
    "var newNumbers = []\n",
    "var i = 0\n",
    "\n",
    "while (i < 100) {\n",
    "    numbers.push(i)\n",
    "    i += 1\n",
    "}\n",
    "for (var i of numbers) {\n",
    "    if (numbers[i] % 5 === 0)\n",
    "        newNumbers.push(numbers[i])\n",
    "    if (numbers[i] % 2 === 0) // Repeating numbers twice \n",
    "        newNumbers.push(numbers[i])\n",
    "    /* Having two if statements will result in duplicates if the number is divisible by both 2 and 5\n",
    "    To avoid this we have to use 'if' and then 'else if'\n",
    "    */\n",
    "}\n",
    "alert(newNumbers) "
   ]
  },
  {
   "cell_type": "markdown",
   "metadata": {},
   "source": [
    "### After"
   ]
  },
  {
   "cell_type": "code",
   "execution_count": 7,
   "metadata": {},
   "outputs": [
    {
     "data": {
      "application/javascript": "\nvar multiplesOfTwoOrFive = [];\n\nvar i = 1;\nwhile(i<=100)\n{\n    if(i%2 == 0)\n    {\n        multiplesOfTwoOrFive.push(i);\n    }\n    else if(i%5 == 0) // Will only feed into 5 if it does not feed into 2\n    /* If the number is not divisible by 2 it will check if it's divisible by 5\n    This will result in no duplicates\n    */\n    {\n        multiplesOfTwoOrFive.push(i);\n    }\n\n    i = i + 1;\n}\n\nalert(multiplesOfTwoOrFive);\n",
      "text/plain": [
       "<IPython.core.display.Javascript object>"
      ]
     },
     "metadata": {},
     "output_type": "display_data"
    }
   ],
   "source": [
    "%%js\n",
    "\n",
    "var multiplesOfTwoOrFive = [];\n",
    "\n",
    "var i = 1;\n",
    "while(i<=100)\n",
    "{\n",
    "    if(i%2 == 0)\n",
    "    {\n",
    "        multiplesOfTwoOrFive.push(i);\n",
    "    }\n",
    "    else if(i%5 == 0) // Will only feed into 5 if it does not feed into 2\n",
    "    /* If the number is not divisible by 2 it will check if it's divisible by 5\n",
    "    This will result in no duplicates\n",
    "    */\n",
    "    {\n",
    "        multiplesOfTwoOrFive.push(i);\n",
    "    }\n",
    "\n",
    "    i = i + 1;\n",
    "}\n",
    "\n",
    "alert(multiplesOfTwoOrFive);"
   ]
  },
  {
   "cell_type": "code",
   "execution_count": null,
   "metadata": {},
   "outputs": [],
   "source": []
  }
 ],
 "metadata": {
  "kernelspec": {
   "display_name": "Python 3 (ipykernel)",
   "language": "python",
   "name": "python3"
  },
  "language_info": {
   "codemirror_mode": {
    "name": "ipython",
    "version": 3
   },
   "file_extension": ".py",
   "mimetype": "text/x-python",
   "name": "python",
   "nbconvert_exporter": "python",
   "pygments_lexer": "ipython3",
   "version": "3.11.5"
  }
 },
 "nbformat": 4,
 "nbformat_minor": 4
}
