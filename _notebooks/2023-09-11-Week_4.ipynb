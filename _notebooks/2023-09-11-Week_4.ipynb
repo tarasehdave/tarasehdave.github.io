{
 "cells": [
  {
   "cell_type": "markdown",
   "metadata": {},
   "source": [
    "---\n",
    "comments: true\n",
    "layout: post\n",
    "title: Week 4 \n",
    "type: hacks\n",
    "courses: { csp: {week: 4} }\n",
    "categories: [C4.1]\n",
    "---"
   ]
  },
  {
   "cell_type": "markdown",
   "metadata": {},
   "source": [
    "# MBTI Pair Calculator "
   ]
  },
  {
   "cell_type": "code",
   "execution_count": null,
   "metadata": {},
   "outputs": [],
   "source": [
    "# Define a function that takes an input and returns an output\n",
    "def match_input_to_output(input_value):\n",
    "    input_value = input_value.lower()  # Convert input to lowercase for case-insensitive matching\n",
    "    \n",
    "    if input_value == \"istj\":\n",
    "        return \"estp\"\n",
    "    elif input_value == \"estp\":\n",
    "        return \"istj\"\n",
    "    elif input_value == \"isfj\":\n",
    "        return \"esfp\"\n",
    "    elif input_value == \"esfp\":\n",
    "        return \"isfj\"\n",
    "    elif input_value == \"infj\":\n",
    "        return \"enfp\"\n",
    "    elif input_value == \"enfp\":\n",
    "        return \"infj\"\n",
    "    elif input_value == \"intj\":\n",
    "        return \"entp\"\n",
    "    elif input_value == \"entp\":\n",
    "        return \"intj\"\n",
    "    elif input_value == \"istp\":\n",
    "        return \"estj\"\n",
    "    elif input_value == \"estj\":\n",
    "        return \"istp\"\n",
    "    elif input_value == \"isfp\":\n",
    "        return \"esfj\"\n",
    "    elif input_value == \"esfj\":\n",
    "        return \"isfp\"\n",
    "    elif input_value == \"infp\":\n",
    "        return \"enfj\"\n",
    "    elif input_value == \"enfj\":\n",
    "        return \"infp\"\n",
    "    elif input_value == \"intp\":\n",
    "        return \"entj\"\n",
    "    elif input_value == \"entj\":\n",
    "        return \"intp\"\n",
    "    else:\n",
    "        return \"No match found\"\n",
    "\n",
    "# Example usage\n",
    "user_input = input(\"Enter an input (ISTJ, ISFJ, INFJ, INTJ, ISTP, ISFP, INFP, INTP, ESTP, ESFP, ENFP, ENTP, ESTJ, ESFJ, ENFJ, or ENTJ): \")\n",
    "result = match_input_to_output(user_input.lower())  # Convert user input to lowercase for case-insensitive matching\n",
    "print(\"Result:\", result)\n"
   ]
  },
  {
   "cell_type": "markdown",
   "metadata": {},
   "source": [
    "# Random Module "
   ]
  },
  {
   "cell_type": "code",
   "execution_count": null,
   "metadata": {},
   "outputs": [],
   "source": [
    "import random\n",
    "\n",
    "names = [\"Tara\", \"Sharon\", \"Tanisha\", \"Koshi\", \"Mario\"]\n",
    "other_names = [\"Dylan\", \"Aliya\", \"Shay\"]\n",
    "actions_1 = [\"helped\", \"beat\", \"laughed at\"]\n",
    "actions_2 = [\"punched\", \"hugged\", \"pinched\"]\n",
    "\n",
    "# print(random.choice(names) + \" met \" + random.choice(other_names) + \" and \" + random.choice(actions) + \" them.\")\n",
    "\n",
    "print(random.choice(names) + \" \" + random.choice(actions_1) + \" \" + random.choice(other_names) + \" and then \" + random.choice(actions_2) + \" \" + random.choice(other_names))"
   ]
  }
 ],
 "metadata": {
  "language_info": {
   "name": "python"
  },
  "orig_nbformat": 4
 },
 "nbformat": 4,
 "nbformat_minor": 2
}
