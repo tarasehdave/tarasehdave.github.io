{
 "cells": [
  {
   "cell_type": "markdown",
   "metadata": {},
   "source": [
    "---\n",
    "comments: true\n",
    "layout: post\n",
    "title: Week 9\n",
    "type: hacks\n",
    "courses: { csp: {week: 9} }\n",
    "categories: [C4.1]\n",
    "---"
   ]
  },
  {
   "cell_type": "code",
   "execution_count": null,
   "metadata": {
    "vscode": {
     "languageId": "javascript"
    }
   },
   "outputs": [],
   "source": [
    "%%js\n",
    "\n",
    "class GroceryStore{\n",
    "    constructor(section, product, price){\n",
    "        this.section = sectionA;\n",
    "        this.product = productA;\n",
    "        this.price = priceA;\n",
    "    }\n",
    "\n",
    "    makeund(){\n",
    "        console.log(this.sound);\n",
    "    }\n",
    "}\n",
    "\n",
    "var section = \"Wheat\"\n",
    "var product = \"Bread\"\n",
    "var price = \"2.99\""
   ]
  }
 ],
 "metadata": {
  "language_info": {
   "name": "python"
  }
 },
 "nbformat": 4,
 "nbformat_minor": 2
}
