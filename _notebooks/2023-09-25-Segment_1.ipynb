{
 "cells": [
  {
   "cell_type": "markdown",
   "id": "e29b5839",
   "metadata": {},
   "source": [
    "---\n",
    "comments: true\n",
    "layout: post\n",
    "title: Segment 1\n",
    "type: hacks\n",
    "courses: { csp: {week: 6} }\n",
    "categories: [C4.1]\n",
    "---"
   ]
  },
  {
   "cell_type": "code",
   "execution_count": 2,
   "id": "058016e9-112e-426c-ab3b-ccff2fca2247",
   "metadata": {},
   "outputs": [
    {
     "data": {
      "application/javascript": "\nvar alphabet = \"abcdefghijklmnopqrstuvwxyz\";\nvar alphabetList = [];\n\nfor (var i = 0; i < alphabet.length; i++) {\n\talphabetList.push(alphabet[i]);\n}\n\nalert(alphabetList);\n",
      "text/plain": [
       "<IPython.core.display.Javascript object>"
      ]
     },
     "metadata": {},
     "output_type": "display_data"
    }
   ],
   "source": [
    "%%js\n",
    "\n",
    "var alphabet = \"abcdefghijklmnopqrstuvwxyz\";\n",
    "var alphabetList = [];\n",
    "\n",
    "for (var i = 0; i < alphabet.length; i++) {\n",
    "\talphabetList.push(alphabet[i]);\n",
    "}\n",
    "\n",
    "alert(alphabetList);"
   ]
  }
 ],
 "metadata": {
  "kernelspec": {
   "display_name": "Python 3 (ipykernel)",
   "language": "python",
   "name": "python3"
  },
  "language_info": {
   "codemirror_mode": {
    "name": "ipython",
    "version": 3
   },
   "file_extension": ".py",
   "mimetype": "text/x-python",
   "name": "python",
   "nbconvert_exporter": "python",
   "pygments_lexer": "ipython3",
   "version": "3.11.5"
  }
 },
 "nbformat": 4,
 "nbformat_minor": 5
}
