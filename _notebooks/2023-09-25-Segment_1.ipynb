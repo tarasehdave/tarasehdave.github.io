{
 "cells": [
  {
   "cell_type": "markdown",
   "id": "e29b5839",
   "metadata": {},
   "source": [
    "---\n",
    "comments: true\n",
    "layout: post\n",
    "title: Segment 1\n",
    "type: hacks\n",
    "courses: { csp: {week: 6} }\n",
    "categories: [C4.1]\n",
    "---"
   ]
  },
  {
   "cell_type": "markdown",
   "id": "7b70ed40",
   "metadata": {},
   "source": [
    "### Before "
   ]
  },
  {
   "cell_type": "code",
   "execution_count": 4,
   "id": "8d161fbe",
   "metadata": {},
   "outputs": [
    {
     "data": {
      "application/javascript": "\nvar alphabet = \"abcdefghijklmnopqrstuvwxyz\";\nvar alphabetList = [];\n\nfor (var i = 0; i < 10; i++) {\n\talphabetList.push(i);\n}\n\nconsole.log(alphabetList);\n",
      "text/plain": [
       "<IPython.core.display.Javascript object>"
      ]
     },
     "metadata": {},
     "output_type": "display_data"
    }
   ],
   "source": [
    "%%js\n",
    "\n",
    "var alphabet = \"abcdefghijklmnopqrstuvwxyz\"; \n",
    "var alphabetList = []; \n",
    "\n",
    "for (var i = 0; i < 10; i++) {\n",
    "\t/*\n",
    "\t Having 'i' would just output numbers 0-9 since i = 0 and i < 10. It's not referencing the string 'alphabet'\n",
    "\t */\n",
    "\talphabetList.push(i); \n",
    "}\n",
    "\n",
    "console.log(alphabetList); // console.log was not working so I changed it to alert"
   ]
  },
  {
   "cell_type": "markdown",
   "id": "ed87ac1d",
   "metadata": {},
   "source": [
    "### After"
   ]
  },
  {
   "cell_type": "code",
   "execution_count": 5,
   "id": "058016e9-112e-426c-ab3b-ccff2fca2247",
   "metadata": {},
   "outputs": [
    {
     "data": {
      "application/javascript": "\nvar alphabet = \"abcdefghijklmnopqrstuvwxyz\";\nvar alphabetList = [];\n\nfor (var i = 0; i < alphabet.length; i++) {\n\talphabetList.push(alphabet[i]);\n}\n\nalert(alphabetList);\n",
      "text/plain": [
       "<IPython.core.display.Javascript object>"
      ]
     },
     "metadata": {},
     "output_type": "display_data"
    }
   ],
   "source": [
    "%%js // Javascript\n",
    "\n",
    "var alphabet = \"abcdefghijklmnopqrstuvwxyz\"; // Alphabet string \n",
    "var alphabetList = []; // Initializing the alphabetList\n",
    "\n",
    "/* \n",
    "Loop through the characters of the string until the length of it to add the characters to the alphabetList\n",
    "*/\n",
    "for (var i = 0; i < alphabet.length; i++) { \n",
    "\talphabetList.push(alphabet[i]); // Adding the string character at location i to the list\n",
    "}\n",
    "\n",
    "alert(alphabetList); // Displaying contents of the list "
   ]
  }
 ],
 "metadata": {
  "kernelspec": {
   "display_name": "Python 3 (ipykernel)",
   "language": "python",
   "name": "python3"
  },
  "language_info": {
   "codemirror_mode": {
    "name": "ipython",
    "version": 3
   },
   "file_extension": ".py",
   "mimetype": "text/x-python",
   "name": "python",
   "nbconvert_exporter": "python",
   "pygments_lexer": "ipython3",
   "version": "3.11.5"
  }
 },
 "nbformat": 4,
 "nbformat_minor": 5
}
