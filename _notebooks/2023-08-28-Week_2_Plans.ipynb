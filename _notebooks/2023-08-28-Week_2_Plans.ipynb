{
 "cells": [
  {
   "cell_type": "markdown",
   "metadata": {},
   "source": [
    "---\n",
    "comments: true\n",
    "layout: post\n",
    "title: Week 2 Plan\n",
    "description: Experiment with Python. Show understanding through live review. \n",
    "type: plans\n",
    "courses: { csp: {week: 2} }\n",
    "categories: [C4.1]\n",
    "---"
   ]
  },
  {
   "cell_type": "markdown",
   "metadata": {},
   "source": [
    "This week I want to build my understanding of Python since I have never coded before. I will search up how to code a calculator with the actions addition, subtraction, multiplication, and division. I will call this \"Calculator 1\" since I want to add more features to it as the weeks surpass, but I don't want to forget my first one.  "
   ]
  }
 ],
 "metadata": {
  "language_info": {
   "name": "python"
  },
  "orig_nbformat": 4
 },
 "nbformat": 4,
 "nbformat_minor": 2
}
