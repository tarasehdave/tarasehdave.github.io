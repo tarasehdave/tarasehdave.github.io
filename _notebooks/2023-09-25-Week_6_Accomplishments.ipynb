{
 "cells": [
  {
   "cell_type": "markdown",
   "metadata": {},
   "source": [
    "---\n",
    "comments: true\n",
    "layout: post\n",
    "title: Week 6 Accomplishments \n",
    "type: tangibles \n",
    "courses: { csp: {week: 6} }\n",
    "categories: [C4.1]\n",
    "---"
   ]
  },
  {
   "cell_type": "markdown",
   "metadata": {},
   "source": [
    "# Review Ticket \n",
    "\n",
    "I did JS Debugging. During my assigment I would look at the code and review the specific (attempted) functions, then try and solve it. Once I reviewed the code, I would put my version into ChatGPT and ask if there were any errors. I also asked ChatGPT what was wrong with the initial code to make sure I had changed the right thing.\n",
    "\n",
    "## Errors \n",
    "\n",
    "I am not familiar with JavaScript so before I had to debug the code I had to learn certain functions and how to write them so that I was able to figure out what was wrong with the bugged version of it. If it was Python I would have had a better chance at fixing them without researching but because it was not I had to teach myself a little before doing it. "
   ]
  }
 ],
 "metadata": {
  "language_info": {
   "name": "python"
  },
  "orig_nbformat": 4
 },
 "nbformat": 4,
 "nbformat_minor": 2
}
