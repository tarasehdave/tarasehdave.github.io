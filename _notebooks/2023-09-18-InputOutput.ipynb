{
 "cells": [
  {
   "cell_type": "markdown",
   "id": "61ae6205",
   "metadata": {},
   "source": [
    "---\n",
    "comments: true\n",
    "layout: post\n",
    "title: Program with Input, Program with Output \n",
    "type: hacks\n",
    "courses: { csp: {week: 5} }\n",
    "categories: [C4.1]\n",
    "---"
   ]
  },
  {
   "cell_type": "code",
   "execution_count": 3,
   "id": "6372dd18-326d-42d8-bd21-4d00cb7e31e9",
   "metadata": {},
   "outputs": [
    {
     "name": "stdout",
     "output_type": "stream",
     "text": [
      "what is your temperatire in farenheit?  70\n"
     ]
    },
    {
     "name": "stdout",
     "output_type": "stream",
     "text": [
      "this is your temperature in celcius  21.11111111111111\n"
     ]
    },
    {
     "name": "stdout",
     "output_type": "stream",
     "text": [
      "What is your name?  Tara\n"
     ]
    },
    {
     "name": "stdout",
     "output_type": "stream",
     "text": [
      "Hello Tara!!\n"
     ]
    }
   ],
   "source": [
    "#ask user for their original temperature in farenheit\n",
    "#use 'int' to store a numerical value\n",
    "f=int(input('what is your temperatire in farenheit? '))\n",
    "#convert farnheit to celcius using mathematical operation\n",
    "#equation is Temperature(°C) = (Temperature in°F) - 32) × 5/9\n",
    "c=(f-32)*(5/9)\n",
    "#print output to user\n",
    "print('this is your temperature in celcius ',c)\n",
    "#ask the user their age, store using the variable 'name'\n",
    "name=input('What is your name? ')\n",
    "#display the name or input for the user to see as a greeting\n",
    "print('Hello '+ name + '!!')\n",
    "\n",
    "\n",
    "\n",
    "\n",
    "\n",
    "\n",
    "\n"
   ]
  },
  {
   "cell_type": "code",
   "execution_count": null,
   "id": "0b2200ab-dcc1-4840-80e8-1e80b9a0aa8d",
   "metadata": {},
   "outputs": [],
   "source": []
  }
 ],
 "metadata": {
  "kernelspec": {
   "display_name": "Python 3 (ipykernel)",
   "language": "python",
   "name": "python3"
  },
  "language_info": {
   "codemirror_mode": {
    "name": "ipython",
    "version": 3
   },
   "file_extension": ".py",
   "mimetype": "text/x-python",
   "name": "python",
   "nbconvert_exporter": "python",
   "pygments_lexer": "ipython3",
   "version": "3.11.5"
  }
 },
 "nbformat": 4,
 "nbformat_minor": 5
}
