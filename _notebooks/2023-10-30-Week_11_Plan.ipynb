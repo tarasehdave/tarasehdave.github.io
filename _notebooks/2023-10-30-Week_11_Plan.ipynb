{
 "cells": [
  {
   "cell_type": "markdown",
   "metadata": {},
   "source": [
    "---\n",
    "comments: true\n",
    "layout: post\n",
    "title: Week 11 Plan\n",
    "type: plans\n",
    "courses: { csp: {week: 11} }\n",
    "categories: [C4.1]\n",
    "---"
   ]
  },
  {
   "cell_type": "markdown",
   "metadata": {},
   "source": [
    "### General \n",
    "\n",
    "This week I am going to address any technicality details and work on the cart and checkout pages. Since we are not using databases, I need to find an alternative way to store the user customed tables. I also am working out certain issues with not deploying our code to AWS since my AWS account has still not been fixed. "
   ]
  },
  {
   "cell_type": "markdown",
   "metadata": {},
   "source": [
    "### Qualify \n",
    "\n",
    "We have not yet qualified for Night at the Mueseum so I want to get my group to present soon. "
   ]
  }
 ],
 "metadata": {
  "language_info": {
   "name": "python"
  }
 },
 "nbformat": 4,
 "nbformat_minor": 2
}
