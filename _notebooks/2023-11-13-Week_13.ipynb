{
 "cells": [
  {
   "cell_type": "markdown",
   "metadata": {},
   "source": [
    "---\n",
    "comments: true\n",
    "layout: post\n",
    "title: Week 13\n",
    "type: hacks\n",
    "courses: { csp: {week: 13} }\n",
    "categories: [C4.1]\n",
    "---"
   ]
  },
  {
   "cell_type": "markdown",
   "metadata": {},
   "source": [
    "### Binary Memory Quiz \n",
    "\n",
    "    - Must include real binary abstractions (ie. ASCII, unicode, images, logic gates)\n",
    "\n",
    "#### General Idea \n",
    "\n",
    "For this project, we divided up into four different features- 2 from the list and 2 external ones. Sharon and I are doing external features and Ameer and Peyton are doing ones listed.\n",
    "\n",
    "    Tara - Binary Memory Quiz\n",
    "    Sharon - Binary Math Quiz\n",
    "    Peyton - UI Concept/Design\n",
    "    Ameer - Binary Logic of Shift \n",
    "\n",
    "We are coming up with a general theme to \"connect\" each feature without compromising the work. Ideas like space, beach, mountains, are potential themes that will be the background for our features. They will be displayed on one website and link to each other. "
   ]
  }
 ],
 "metadata": {
  "language_info": {
   "name": "python"
  }
 },
 "nbformat": 4,
 "nbformat_minor": 2
}
