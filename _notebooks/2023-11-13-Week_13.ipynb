{
 "cells": [
  {
   "cell_type": "markdown",
   "metadata": {},
   "source": [
    "---\n",
    "comments: true\n",
    "layout: post\n",
    "title: Week 13\n",
    "type: hacks\n",
    "courses: { csp: {week: 13} }\n",
    "categories: [C4.1]\n",
    "---"
   ]
  },
  {
   "cell_type": "markdown",
   "metadata": {},
   "source": [
    "### Binary Memory Quiz Ideas \n",
    "\n",
    "    - Must include real binary abstractions (ie. ASCII, unicode, images, logic gates)\n",
    "\n",
    "#### General Idea \n",
    "\n",
    "For this project, we divided up into four different features- 2 from the list and 2 external ones. Sharon and I are doing external features and Ameer and Peyton are doing ones listed.\n",
    "\n",
    "    Tara - Binary Memory Quiz\n",
    "    Sharon - Binary Math Quiz (Logic gates, XOR)\n",
    "    Peyton - UI Concept/Design\n",
    "    Ameer - Binary Logic of Shift \n",
    "\n",
    "We are coming up with a general theme to \"connect\" each feature without compromising the work. Ideas like space, beach, mountains, are potential themes that will be the background for our features. They will be displayed on one website and \"link\" to each other. \n",
    "\n",
    "### Aspects of Features \n",
    "\n",
    "#### ASCII\n",
    "\n",
    "    - ASCII are drawings made from the American Standard Code for Information Interchange. Such as :-) (smiley face)\n",
    "    - For the memory game aspect, we can code a card game that displays different drawings and turns around, then displays a mixed up order of them asking the user to click on the cards to match \n",
    "\n",
    "#### Unicode \n",
    "\n",
    "    - Unicode is a computing standard that aims to provide a unique number for every character, symbol, and glyph across all writing systems and languages used worldwide \n",
    "\n",
    "### Images \n",
    "\n",
    "    - Images will be used to add visuals to the player.  "
   ]
  }
 ],
 "metadata": {
  "language_info": {
   "name": "python"
  }
 },
 "nbformat": 4,
 "nbformat_minor": 2
}
