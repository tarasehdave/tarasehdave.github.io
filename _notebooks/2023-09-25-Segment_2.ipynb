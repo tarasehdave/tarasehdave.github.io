{
 "cells": [
  {
   "cell_type": "markdown",
   "id": "44052866",
   "metadata": {},
   "source": [
    "---\n",
    "comments: true\n",
    "layout: post\n",
    "title: Segment 2\n",
    "type: hacks\n",
    "courses: { csp: {week: 6} }\n",
    "categories: [C4.1]\n",
    "---"
   ]
  },
  {
   "cell_type": "markdown",
   "id": "6a29db2d",
   "metadata": {},
   "source": [
    "### Before"
   ]
  },
  {
   "cell_type": "code",
   "execution_count": null,
   "id": "9b2ebcf4",
   "metadata": {},
   "outputs": [],
   "source": [
    "%%js\n",
    "\n",
    "// Copy your previous code to built alphabetList here\n",
    "\n",
    "let letterNumber = 5\n",
    "\n",
    "for (var i = 0; i < alphabetList; i++) {\n",
    "\tif (i === letterNumber) { // Should only two equal signs; comparison is only two \n",
    "\t\tconsole.log(letterNumber + \" is letter number 1 in the alphabet\") // It will always print 1\n",
    "\t}\n",
    "}\n",
    "\n",
    "// Should output:\n",
    "// \"e\" is letter number 5 in the alphabet"
   ]
  },
  {
   "cell_type": "markdown",
   "id": "bd9cc61d",
   "metadata": {},
   "source": [
    "### After "
   ]
  },
  {
   "cell_type": "code",
   "execution_count": 10,
   "id": "15266ca0-53dc-46fd-a17b-9e600631e972",
   "metadata": {},
   "outputs": [
    {
     "data": {
      "application/javascript": "let letter = 5;\n\nvar alphabet = \"abcdefghijklmnopqrstuvwxyz\";\nvar alphabetList = [];\n\nfor(var i=0; i<alphabet.length; i++)\n{\n    alphabetList.push(alphabet[i]);\n}\n\nalert(alphabetList[letter-1] + ' is the letter number ' + letter + ' in the alphabet');\n",
      "text/plain": [
       "<IPython.core.display.Javascript object>"
      ]
     },
     "metadata": {},
     "output_type": "display_data"
    }
   ],
   "source": [
    "%%js // Javascript\n",
    "\n",
    "var alphabet = \"abcdefghijklmnopqrstuvwxyz\"; // Alphabet string \n",
    "var alphabetList = []; // Initializing the alphabetList\n",
    "\n",
    "/* \n",
    "Loop through the characters of the string until the length of it to add the characters to the alphabetList\n",
    "*/\n",
    "for (var i = 0; i < alphabet.length; i++) { \n",
    "\talphabetList.push(alphabet[i]); // Adding the string character at location i to the list\n",
    "}\n",
    "\n",
    "alert(alphabetList); // Displaying contents of the list \n",
    "\n",
    "let letterNumber = 5 // The alphabet letter that corresponds with 5 should be printed \n",
    "\n",
    "for (var i = 0; i < alphabetList; i++) { // Loop through the alphabetList \n",
    "\tif (i == letterNumber) { // Match the location to letter \n",
    "\t\tconsole.log(letterNumber + \" is letter number \"+ i +\" in the alphabet\") // Print the letter and the location\n",
    "\t}\n",
    "}\n",
    "\n",
    "// Should output:\n",
    "// \"e\" is letter number 5 in the alphabet // Output "
   ]
  }
 ],
 "metadata": {
  "kernelspec": {
   "display_name": "Python 3 (ipykernel)",
   "language": "python",
   "name": "python3"
  },
  "language_info": {
   "codemirror_mode": {
    "name": "ipython",
    "version": 3
   },
   "file_extension": ".py",
   "mimetype": "text/x-python",
   "name": "python",
   "nbconvert_exporter": "python",
   "pygments_lexer": "ipython3",
   "version": "3.11.5"
  }
 },
 "nbformat": 4,
 "nbformat_minor": 5
}
