{
 "cells": [
  {
   "cell_type": "markdown",
   "id": "44052866",
   "metadata": {},
   "source": [
    "---\n",
    "comments: true\n",
    "layout: post\n",
    "title: Segment 2\n",
    "type: hacks\n",
    "courses: { csp: {week: 6} }\n",
    "categories: [C4.1]\n",
    "---"
   ]
  },
  {
   "cell_type": "code",
   "execution_count": 10,
   "id": "15266ca0-53dc-46fd-a17b-9e600631e972",
   "metadata": {},
   "outputs": [
    {
     "data": {
      "application/javascript": "let letter = 5;\n\nvar alphabet = \"abcdefghijklmnopqrstuvwxyz\";\nvar alphabetList = [];\n\nfor(var i=0; i<alphabet.length; i++)\n{\n    alphabetList.push(alphabet[i]);\n}\n\nalert(alphabetList[letter-1] + ' is the letter number ' + letter + ' in the alphabet');\n",
      "text/plain": [
       "<IPython.core.display.Javascript object>"
      ]
     },
     "metadata": {},
     "output_type": "display_data"
    }
   ],
   "source": [
    "%%js\n",
    "let letter = 5;\n",
    "\n",
    "var alphabet = \"abcdefghijklmnopqrstuvwxyz\";\n",
    "var alphabetList = [];\n",
    "\n",
    "for(var i=0; i<alphabet.length; i++)\n",
    "{\n",
    "    alphabetList.push(alphabet[i]);\n",
    "}\n",
    "\n",
    "alert(alphabetList[letter-1] + ' is the letter number ' + letter + ' in the alphabet');"
   ]
  }
 ],
 "metadata": {
  "kernelspec": {
   "display_name": "Python 3 (ipykernel)",
   "language": "python",
   "name": "python3"
  },
  "language_info": {
   "codemirror_mode": {
    "name": "ipython",
    "version": 3
   },
   "file_extension": ".py",
   "mimetype": "text/x-python",
   "name": "python",
   "nbconvert_exporter": "python",
   "pygments_lexer": "ipython3",
   "version": "3.11.5"
  }
 },
 "nbformat": 4,
 "nbformat_minor": 5
}
