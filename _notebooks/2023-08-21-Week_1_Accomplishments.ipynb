{
 "cells": [
  {
   "cell_type": "markdown",
   "metadata": {},
   "source": [
    "---\n",
    "comments: true\n",
    "layout: post\n",
    "title: Week 1 Accomplishments \n",
    "type: tangibles\n",
    "courses: { csp: {week: 1} }\n",
    "categories: [C4.1]\n",
    "---"
   ]
  },
  {
   "cell_type": "markdown",
   "metadata": {},
   "source": [
    "# General \n",
    "I installed all the applications I needed. \n",
    "\n",
    "# Errors\n",
    "I did have some trouble with installing packages such as brew and ruby with Mac OS. I had help from my mom who helped me debug all those errors over the weekend. I was only here for one day during this week so I just wanted to focus on setting up my laptop for future assignments."
   ]
  }
 ],
 "metadata": {
  "language_info": {
   "name": "python"
  },
  "orig_nbformat": 4
 },
 "nbformat": 4,
 "nbformat_minor": 2
}
