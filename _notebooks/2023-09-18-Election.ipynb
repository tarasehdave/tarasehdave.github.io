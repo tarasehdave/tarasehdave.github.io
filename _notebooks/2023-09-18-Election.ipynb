{
 "cells": [
  {
   "cell_type": "markdown",
   "id": "e961700d",
   "metadata": {},
   "source": [
    "---\n",
    "comments: true\n",
    "layout: post\n",
    "title: Program with Purpose, Program with Selection/Condition \n",
    "type: hacks\n",
    "courses: { csp: {week: 5} }\n",
    "categories: [C4.1]\n",
    "---"
   ]
  },
  {
   "cell_type": "code",
   "execution_count": 1,
   "id": "f895280a-40d9-4482-977b-86ea6d180098",
   "metadata": {},
   "outputs": [
    {
     "name": "stdout",
     "output_type": "stream",
     "text": [
      "Enter the number of voters 150\n"
     ]
    },
    {
     "name": "stdout",
     "output_type": "stream",
     "text": [
      "Counter({'Independent': 53, 'Republican': 50, 'Democrat': 47})\n",
      "Independent won by 3 votes, relative to Republican\n",
      "Independent won by 6 votes, relative to Democrat\n"
     ]
    }
   ],
   "source": [
    "import random\n",
    "from collections import Counter\n",
    "\n",
    "# Enter the number of voters \n",
    "voters = (input(\"Enter the number of voters\"))\n",
    "try:\n",
    "    # Convert input string to integer\n",
    "    numVoters = int(voters)\n",
    "    \n",
    "    # List of political parties\n",
    "    mylist = [\"Democrat\", \"Republican\", \"Independent\"]\n",
    "    # Randoml select a political party using weights for 1000 voters\n",
    "    result = random.choices(mylist, weights = [980,940,1000], k = numVoters)\n",
    "    \n",
    "    # count the results by political party and add to a dictionary\n",
    "    res = Counter(result)\n",
    "    print(res)\n",
    "    \n",
    "    # Analyze the results by comparing the number of votes for each political party to  determine which party won and the difference in the number of votes\n",
    "    if res[\"Democrat\"] > res[\"Republican\"] and res[\"Democrat\"] > res[\"Independent\"]:\n",
    "        diffRep = res[\"Democrat\"] - res[\"Republican\"]\n",
    "        diffInd = res[\"Democrat\"] - res[\"Independent\"]\n",
    "        print(f\"Democrats won by {diffRep} votes, relative to Republican\" )\n",
    "        print(f\"Democrats won by {diffInd} votes, relative to Independent\" )\n",
    "    elif res[\"Republican\"] > res[\"Democrat\"] and res[\"Republican\"] > res[\"Independent\"]:\n",
    "        diffDem = res[\"Republican\"] - res[\"Democrat\"]\n",
    "        diffInd = res[\"Republican\"] - res[\"Independent\"]\n",
    "        print(f\"Republican won by {diffDem} votes, relative to Democrat\" )\n",
    "        print(f\"Republican won by {diffInd} votes, relative to Independent\" )\n",
    "    elif res[\"Independent\"] > res[\"Democrat\"] and res[\"Independent\"] > res[\"Republican\"]:\n",
    "        diffRep = res[\"Independent\"] - res[\"Republican\"]\n",
    "        diffDem = res[\"Independent\"] - res[\"Democrat\"]\n",
    "        print(f\"Independent won by {diffRep} votes, relative to Republican\" )\n",
    "        print(f\"Independent won by {diffDem} votes, relative to Democrat\" )\n",
    "    else:\n",
    "        print(\"No one won\")  \n",
    "\n",
    "except ValueError:\n",
    "    print(\"Please enter an integer\")"
   ]
  },
  {
   "cell_type": "markdown",
   "id": "164a27c7",
   "metadata": {},
   "source": [
    "## Election Flowchart \n",
    "\n",
    "<img src=\"imagesElectionFlowchart.jpg\" height =\"500px\" width=\"660px\"/>"
   ]
  },
  {
   "cell_type": "code",
   "execution_count": null,
   "id": "201ccb1b",
   "metadata": {},
   "outputs": [],
   "source": []
  },
  {
   "cell_type": "markdown",
   "metadata": {},
   "source": []
  }
 ],
 "metadata": {
  "kernelspec": {
   "display_name": "Python 3 (ipykernel)",
   "language": "python",
   "name": "python3"
  },
  "language_info": {
   "codemirror_mode": {
    "name": "ipython",
    "version": 3
   },
   "file_extension": ".py",
   "mimetype": "text/x-python",
   "name": "python",
   "nbconvert_exporter": "python",
   "pygments_lexer": "ipython3",
   "version": "3.11.5"
  }
 },
 "nbformat": 4,
 "nbformat_minor": 5
}
