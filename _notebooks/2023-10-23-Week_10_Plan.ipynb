{
 "cells": [
  {
   "cell_type": "markdown",
   "metadata": {},
   "source": [
    "---\n",
    "comments: true\n",
    "layout: post\n",
    "title: Week 10 Plan\n",
    "type: plans\n",
    "courses: { csp: {week: 10} }\n",
    "categories: [C4.1]\n",
    "---"
   ]
  },
  {
   "cell_type": "markdown",
   "metadata": {},
   "source": [
    "### General \n",
    "\n",
    "This week I want to focus on the user ID portion of the website. This will be the initial page of the website where users sign in. As of right now, we are thinking of adding a username and password, but we might had more fields in the future. "
   ]
  }
 ],
 "metadata": {
  "language_info": {
   "name": "python"
  }
 },
 "nbformat": 4,
 "nbformat_minor": 2
}
