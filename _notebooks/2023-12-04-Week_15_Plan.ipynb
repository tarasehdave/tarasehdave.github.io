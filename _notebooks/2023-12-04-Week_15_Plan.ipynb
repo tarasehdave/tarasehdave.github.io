{
 "cells": [
  {
   "cell_type": "markdown",
   "metadata": {},
   "source": [
    "---\n",
    "comments: true\n",
    "layout: post\n",
    "title: Week 15 Plan\n",
    "type: plans\n",
    "courses: { csp: {week: 15} }\n",
    "categories: [C4.1]\n",
    "---"
   ]
  },
  {
   "cell_type": "markdown",
   "metadata": {},
   "source": [
    "### Learn more about binary \n",
    "\n",
    "1. **Review Binary Basics:**\n",
    "   - Refresh your understanding of binary representation, focusing on eight bits (1 byte).\n",
    "   - Practice converting decimal numbers to eight-bit binary and vice versa.\n",
    "\n",
    "2. **Byte Structure and Significance:**\n",
    "   - Understand the significance of a byte in computer systems.\n",
    "   - Explore how data is organized and stored in eight bits.\n",
    "\n",
    "3. **Introduction to Eight-Bit Binary Arithmetic:**\n",
    "   - Learn arithmetic operations (addition, subtraction, multiplication, division) with eight-bit binary numbers.\n",
    "   - Practice solving arithmetic problems using eight-bit binary representation.\n",
    "\n",
    "4. **Binary Logic Gates with Eight Bits:**\n",
    "   - Study how logic gates operate with eight-bit binary inputs.\n",
    "   - Explore combinations of AND, OR, and NOT gates on eight-bit binary data.\n",
    "\n",
    "5. **Bitwise Operations in Eight-Bit Context:**\n",
    "   - Understand the concept of bitwise AND, OR, XOR, and NOT operations with eight-bit binary numbers.\n",
    "   - Practice performing bitwise operations on eight-bit binary values.\n",
    "\n",
    "6. **Shift Operations with Eight Bits:**\n",
    "   - Learn the basics of left shift (<<) and right shift (>>) operations with eight-bit binary numbers.\n",
    "   - Understand how shifts affect the binary representation of eight-bit values.\n",
    "\n",
    "7. **Representation of Data Types in Eight Bits:**\n",
    "   - Explore how integers and other data types are represented in eight bits.\n",
    "   - Understand the limitations and range of values in an eight-bit system.\n",
    "\n",
    "8. **ASCII Code and Eight-Bit Characters:**\n",
    "   - Study how ASCII code is represented in eight bits.\n",
    "   - Practice converting characters to their eight-bit ASCII representations.\n",
    "\n",
    "9. **Binary Arithmetic in Programming Languages:**\n",
    "   - Implement eight-bit binary arithmetic in programming languages like C or Python.\n",
    "   - Write code snippets that demonstrate arithmetic and logic operations on eight-bit binary values.\n",
    "\n",
    "10. **Error Detection and Correction in Eight Bits:**\n",
    "    - Explore error detection and correction mechanisms with eight-bit data.\n",
    "    - Understand how parity and checksums can be implemented in an eight-bit context.\n",
    "\n",
    "11. **Memory and Storage Considerations:**\n",
    "    - Investigate how eight-bit binary representation is used in memory and storage systems.\n",
    "    - Understand concepts like addressable memory and storage units in an eight-bit architecture.\n",
    "\n",
    "12. **Hands-on Projects and Applications:**\n",
    "    - Engage in hands-on projects that involve manipulating and processing eight-bit binary data.\n",
    "    - Build applications that utilize eight-bit binary operations for specific functionalities.\n"
   ]
  }
 ],
 "metadata": {
  "language_info": {
   "name": "python"
  },
  "orig_nbformat": 4
 },
 "nbformat": 4,
 "nbformat_minor": 2
}
