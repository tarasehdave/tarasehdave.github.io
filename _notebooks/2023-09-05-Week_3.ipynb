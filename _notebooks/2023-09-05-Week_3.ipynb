{
 "cells": [
  {
   "cell_type": "markdown",
   "metadata": {},
   "source": [
    "---\n",
    "comments: true\n",
    "layout: post\n",
    "title: Week 3 \n",
    "description: About Me Quiz and Time Zone Converter.\n",
    "type: hacks\n",
    "courses: { csp: {week: 3} }\n",
    "categories: [C4.1]\n",
    "---"
   ]
  },
  {
   "cell_type": "markdown",
   "metadata": {},
   "source": [
    "# About Me Quiz\n",
    "\n",
    "A quiz of facts about me from the homepage. "
   ]
  },
  {
   "cell_type": "code",
   "execution_count": null,
   "metadata": {},
   "outputs": [],
   "source": [
    "def run_quiz(questions):\n",
    "    score = 0\n",
    "    for question in questions:\n",
    "        user_answer = input(question[\"question\"] + \" \")\n",
    "        if user_answer.lower() == question[\"answer\"].lower():\n",
    "            print(\"Correct!\")\n",
    "            score += 1\n",
    "        else:\n",
    "            print(\"Incorrect. The correct answer is:\", question[\"answer\"])\n",
    "    return score \n",
    "if __name__ == \"__main__\":\n",
    "    print(\"About Me Quiz\")\n",
    "    questions = [\n",
    "\n",
    "    {\n",
    "        \"question\": \"What grade am I in?\",\n",
    "        \"answer\": \"11th\"\n",
    "    },\n",
    "    {\n",
    "        \"question\": \"Who are my favorite artists?\",\n",
    "         \"answer\": \"Queen and Lana Del Rey\"\n",
    "    },\n",
    "    {\n",
    "        \"question\": \"What is my favorite subject?\",\n",
    "        \"answer\": \"History\"\n",
    "    },\n",
    "    {\n",
    "        \"question\": \"Who is my friend on the homepage?\",\n",
    "        \"answer\": \"Shay\"\n",
    "    },\n",
    "]\n",
    "\n",
    "user_score = run_quiz(questions)\n",
    "print(\"Your score:\", user_score, \"out of\", len(questions))"
   ]
  },
  {
   "cell_type": "markdown",
   "metadata": {},
   "source": [
    "# Pair Showcase Time Zone Converter \n",
    "\n",
    "## Teacher Response\n",
    "\n",
    "Hi Mr. Mortensen and Mr. Lopez,\n",
    "\n",
    "We are planning on making a time zone converter. The ideal layout would be a drop bar to select a time and timezone that will then calculate the times in other regions. Users can find the external time zones by hovering over an interactive map, made through JavaScript, to find other time zones. We will use libraries, like Pytz, to provide functionality for accessing and converting between different time zones.\n",
    "We will use Python to code (pull from database(s), math for time zone differences, etc.)\n",
    "We will use JavaScript for the map to make it interactive\n",
    "We did have one question. Will we be using Linux commands or the operation system?\n",
    "\n",
    "Thank you,\n",
    "Sharon and Tara\n",
    "\n",
    "## ChatGPT Response \n",
    "\n",
    "\n"
   ]
  },
  {
   "cell_type": "markdown",
   "metadata": {},
   "source": [
    "# Time Zone Converter Code "
   ]
  }
 ],
 "metadata": {
  "language_info": {
   "name": "python"
  },
  "orig_nbformat": 4
 },
 "nbformat": 4,
 "nbformat_minor": 2
}
