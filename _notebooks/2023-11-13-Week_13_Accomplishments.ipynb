{
 "cells": [
  {
   "cell_type": "markdown",
   "metadata": {},
   "source": [
    "---\n",
    "comments: true\n",
    "layout: post\n",
    "title: Week 13 Accomplishments \n",
    "type: tangibles \n",
    "courses: { csp: {week: 13} }\n",
    "categories: [C4.1]\n",
    "---"
   ]
  },
  {
   "cell_type": "markdown",
   "metadata": {},
   "source": [
    "### Binary Memory Quiz Final\n",
    "\n",
    "The \"theme\" or point of this feature is to save the astronauts from being trapped in space. If the user is able to figure out a code, the astronauts can input it into their rocketship to return them back to Earth safely. The code will be deciphered through a memory game in which the user is shown five pairs of numbers and their conversion from ASCII to binary numbers (ie. one pair could be 2 and 01). They will be shown the values of all ten cards for a limited amount of time before they are all turned over and have to pick the matching pairs, hence the memory. There will be timer for users to match the five pairs.\n",
    "\n",
    "#### ASCII \n",
    "\n",
    "For my feature, I will be using ASCII characters to help convert to binary. As the larger the number the longer the binary number, I will most likely have a difficulty range where users can choose how hard the game can be. For example, one range can only consist of numbers from 1-10. So binary form from 0-1010. \n",
    "\n",
    "#### Theme\n",
    "\n",
    "The theme is space. My game will have the purpose of saving astronauts from the moon as the user tries to unscramble the \"code\" to start the spaceship to return back to Earth. If the user gets it correct, they will be asked to attempt to save astronauts from other locations (ie. planets farther away from Earth) that will use a more difficult range. Moon, for example, is numbers from 0-10, whereas Saturn could be from 51-60. Here is a list of the levels of difficulty based off of how far the celestial body is from Earth. \n",
    "\n",
    "    - 0-10. The Moon: Earth's natural satellite\n",
    "    - 11-20. Mercury: The closest planet to Earth on average\n",
    "    - 21-30. Venus: Next closest planet to Earth after Mercury\n",
    "    - 31-40. Mars: Following Venus in proximity to Earth\n",
    "    - 41-50. Jupiter: The fifth planet from the Sun but can come relatively close to Earth during certain points in its orbit\n",
    "    - 51-60. Saturn: The sixth planet from the Sun but also can be observed from Earth at various points in its orbit\n",
    "    - 61-70. Uranus: Considerably farther away from Earth compared to the previous planets\n",
    "    - 71-80. Neptune: The farthest planet from Earth in our solar system\n",
    "\n",
    "\n",
    "#### Images \n",
    "\n",
    "Images will be utilized through visuals. If the user selects the correct binary number, the user will see a \"Congratulations! Play again to save astronauts from a farther celestial body!\" for saving the astronauts. If they failed, the user will see a \"So close! Try again!\" with the same options. "
   ]
  }
 ],
 "metadata": {
  "language_info": {
   "name": "python"
  }
 },
 "nbformat": 4,
 "nbformat_minor": 2
}
