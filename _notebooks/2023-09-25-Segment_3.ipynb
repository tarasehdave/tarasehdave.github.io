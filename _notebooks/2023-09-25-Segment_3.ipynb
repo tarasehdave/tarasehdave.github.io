{
 "cells": [
  {
   "cell_type": "markdown",
   "id": "5b036828",
   "metadata": {},
   "source": [
    "---\n",
    "comments: true\n",
    "layout: post\n",
    "title: Segment 3\n",
    "type: hacks\n",
    "courses: { csp: {week: 6} }\n",
    "categories: [C4.1]\n",
    "---"
   ]
  },
  {
   "cell_type": "code",
   "execution_count": 6,
   "id": "a80d16e2-76b9-45c8-946a-3644a1e7063e",
   "metadata": {},
   "outputs": [
    {
     "data": {
      "application/javascript": "\nvar oddNumbers = [];\n\nlet k = 1;\nwhile(k<21)\n{\n    oddNumbers.push(k);\n\n    k = k + 2;\n}\n\n\nalert(oddNumbers);\n",
      "text/plain": [
       "<IPython.core.display.Javascript object>"
      ]
     },
     "metadata": {},
     "output_type": "display_data"
    }
   ],
   "source": [
    "%%js\n",
    "\n",
    "var oddNumbers = [];\n",
    "\n",
    "let k = 1;\n",
    "while(k<11)\n",
    "{\n",
    "    oddNumbers.push(k);\n",
    "\n",
    "    k = k + 2;\n",
    "}\n",
    "\n",
    "\n",
    "alert(oddNumbers);"
   ]
  }
 ],
 "metadata": {
  "kernelspec": {
   "display_name": "Python 3 (ipykernel)",
   "language": "python",
   "name": "python3"
  },
  "language_info": {
   "codemirror_mode": {
    "name": "ipython",
    "version": 3
   },
   "file_extension": ".py",
   "mimetype": "text/x-python",
   "name": "python",
   "nbconvert_exporter": "python",
   "pygments_lexer": "ipython3",
   "version": "3.11.5"
  }
 },
 "nbformat": 4,
 "nbformat_minor": 5
}
