{
 "cells": [
  {
   "cell_type": "markdown",
   "id": "5b036828",
   "metadata": {},
   "source": [
    "---\n",
    "comments: true\n",
    "layout: post\n",
    "title: Segment 3\n",
    "type: hacks\n",
    "courses: { csp: {week: 6} }\n",
    "categories: [C4.1]\n",
    "---"
   ]
  },
  {
   "cell_type": "markdown",
   "id": "75cbfb77",
   "metadata": {},
   "source": [
    "### Before"
   ]
  },
  {
   "cell_type": "code",
   "execution_count": null,
   "id": "2e937b2c",
   "metadata": {},
   "outputs": [],
   "source": [
    "%%js\n",
    "\n",
    "let evens = []; \n",
    "let i = 0; // First number of the list will be 0; 0 is even\n",
    "\n",
    "while (i <= 10) {\n",
    "  evens.push(i);\n",
    "  i += 2; // List will increase by 2 starting from 0 until 10; every number will be even\n",
    "}\n",
    "\n",
    "console.log(evens);"
   ]
  },
  {
   "cell_type": "markdown",
   "id": "756a99f1",
   "metadata": {},
   "source": [
    "### After"
   ]
  },
  {
   "cell_type": "code",
   "execution_count": 6,
   "id": "a80d16e2-76b9-45c8-946a-3644a1e7063e",
   "metadata": {},
   "outputs": [
    {
     "data": {
      "application/javascript": "\nvar oddNumbers = [];\n\nlet k = 1;\nwhile(k<21)\n{\n    oddNumbers.push(k);\n\n    k = k + 2;\n}\n\n\nalert(oddNumbers);\n",
      "text/plain": [
       "<IPython.core.display.Javascript object>"
      ]
     },
     "metadata": {},
     "output_type": "display_data"
    }
   ],
   "source": [
    "%%js\n",
    "\n",
    "var oddNumbers = [];\n",
    "\n",
    "let k = 1; // First number of the list will be 1; 1 is odd\n",
    "while(k<11)\n",
    "{\n",
    "    oddNumbers.push(k);\n",
    "\n",
    "    k = k + 2; // List will increase by 2 starting from 1 until 11; every number will be odd \n",
    "}\n",
    "\n",
    "\n",
    "alert(oddNumbers);"
   ]
  }
 ],
 "metadata": {
  "kernelspec": {
   "display_name": "Python 3 (ipykernel)",
   "language": "python",
   "name": "python3"
  },
  "language_info": {
   "codemirror_mode": {
    "name": "ipython",
    "version": 3
   },
   "file_extension": ".py",
   "mimetype": "text/x-python",
   "name": "python",
   "nbconvert_exporter": "python",
   "pygments_lexer": "ipython3",
   "version": "3.11.5"
  }
 },
 "nbformat": 4,
 "nbformat_minor": 5
}
