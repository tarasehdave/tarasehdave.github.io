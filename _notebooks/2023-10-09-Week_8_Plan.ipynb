{
 "cells": [
  {
   "cell_type": "markdown",
   "metadata": {},
   "source": [
    "---\n",
    "comments: true\n",
    "layout: post\n",
    "title: Week 8 \n",
    "type: hacks \n",
    "courses: { csp: {week: 8} }\n",
    "categories: [C4.1]\n",
    "---"
   ]
  },
  {
   "cell_type": "markdown",
   "metadata": {},
   "source": [
    "### General \n",
    "\n",
    "Work on dividing work between members (3 for backend and 2 for frontend) and work on their respected roles throuhgout the "
   ]
  },
  {
   "cell_type": "markdown",
   "metadata": {},
   "source": [
    "<img src=\"../../../../images/UML.png\" height=\"500px\" width=\"660px\"/>"
   ]
  },
  {
   "cell_type": "markdown",
   "metadata": {},
   "source": [
    "### Practice with class in JS  "
   ]
  }
 ],
 "metadata": {
  "language_info": {
   "name": "python"
  },
  "orig_nbformat": 4
 },
 "nbformat": 4,
 "nbformat_minor": 2
}
