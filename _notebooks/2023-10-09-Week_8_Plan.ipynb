{
 "cells": [
  {
   "cell_type": "markdown",
   "metadata": {},
   "source": [
    "---\n",
    "comments: true\n",
    "layout: post\n",
    "title: Week 8 \n",
    "type: hacks \n",
    "courses: { csp: {week: 8} }\n",
    "categories: [C4.1]\n",
    "---"
   ]
  },
  {
   "cell_type": "markdown",
   "metadata": {},
   "source": [
    "### General \n",
    "\n",
    "Work on dividing work between members (3 for backend and 2 for frontend) and work on their respected roles throuhgout the "
   ]
  },
  {
   "cell_type": "markdown",
   "metadata": {},
   "source": [
    "<img src=\"../../../../images/UML.png\" height=\"500px\" width=\"660px\"/>"
   ]
  },
  {
   "cell_type": "markdown",
   "metadata": {},
   "source": [
    "### Practice with class in JS  "
   ]
  },
  {
   "cell_type": "code",
   "execution_count": null,
   "metadata": {
    "vscode": {
     "languageId": "javascript"
    }
   },
   "outputs": [],
   "source": [
    "%%js\n",
    "\n",
    "class GroceryStore{\n",
    "    constructor(section, product, price){\n",
    "        this.section = sectionA;\n",
    "        this.product = productA;\n",
    "        this.price = priceA;\n",
    "    }\n",
    "\n",
    "    makeund(){\n",
    "        console.log(this.sound);\n",
    "    }\n",
    "}\n",
    "\n",
    "var section = \"Wheat\"\n",
    "var product = \"Bread\"\n",
    "var price = \"2.99\""
   ]
  }
 ],
 "metadata": {
  "language_info": {
   "name": "python"
  },
  "orig_nbformat": 4
 },
 "nbformat": 4,
 "nbformat_minor": 2
}
