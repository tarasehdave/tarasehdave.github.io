{
 "cells": [
  {
   "cell_type": "markdown",
   "metadata": {},
   "source": [
    "---\n",
    "comments: true\n",
    "layout: post\n",
    "title: Week 6 Plan\n",
    "type: plans\n",
    "courses: { csp: {week: 6} }\n",
    "categories: [C4.1]\n",
    "---"
   ]
  },
  {
   "cell_type": "markdown",
   "metadata": {},
   "source": [
    "# Web Programming Test\n",
    "    - Understand basics of HTML, Data Types, DOM, JavaScript, JS Debugging\n",
    "    - Create examples in notebook \n",
    "    \n",
    "# Divide and Conquer \n",
    "    - Alisha: HTML \n",
    "    - Alara: Data Types \n",
    "    - Grace: DOM \n",
    "    - Tara: JavaScript \n",
    "    - Sharon: JS Debugging \n",
    "\n",
    "# My Project \n",
    "    - JS Debugging \n",
    "    - Look at unedited code under JS Debugging under CSP \n",
    "    - Fix what is wrong with it "
   ]
  }
 ],
 "metadata": {
  "language_info": {
   "name": "python"
  },
  "orig_nbformat": 4
 },
 "nbformat": 4,
 "nbformat_minor": 2
}
