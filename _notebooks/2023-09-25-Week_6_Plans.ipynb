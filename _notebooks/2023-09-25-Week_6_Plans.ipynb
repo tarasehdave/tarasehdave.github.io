{
 "cells": [
  {
   "cell_type": "markdown",
   "metadata": {},
   "source": [
    "---\n",
    "comments: true\n",
    "layout: post\n",
    "title: Week 6 Plan\n",
    "type: plans\n",
    "courses: { csp: {week: 6} }\n",
    "categories: [C4.1]\n",
    "---"
   ]
  },
  {
   "cell_type": "markdown",
   "metadata": {},
   "source": [
    "# Web Programming Test\n",
    "    - Understand basics of HTML, Data Types, DOM, JavaScript, JS Debugging\n",
    "    - Create examples in notebook \n",
    "    \n",
    "# Divide and Conquer \n",
    "    - Alisha: HTML \n",
    "    - Alara: Data Types \n",
    "    - Grace: DOM \n",
    "    - Tara: JavaScript \n",
    "    - Sharon: JS Debugging \n",
    "\n",
    "# My Project \n",
    "    - JS Debugging \n",
    "    - Look at unedited code under JS Debugging under CSP \n",
    "    - Fix what is wrong with it "
   ]
  }
 ],
 "metadata": {
  "kernelspec": {
   "display_name": "Python 3 (ipykernel)",
   "language": "python",
   "name": "python3"
  },
  "language_info": {
   "codemirror_mode": {
    "name": "ipython",
    "version": 3
   },
   "file_extension": ".py",
   "mimetype": "text/x-python",
   "name": "python",
   "nbconvert_exporter": "python",
   "pygments_lexer": "ipython3",
   "version": "3.11.5"
  }
 },
 "nbformat": 4,
 "nbformat_minor": 4
}
