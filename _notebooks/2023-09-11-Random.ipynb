{
 "cells": [
  {
   "cell_type": "markdown",
   "id": "05c07d9a",
   "metadata": {},
   "source": [
    "---\n",
    "comments: true\n",
    "layout: post\n",
    "title: Random\n",
    "description: Random Module\n",
    "type: hacks\n",
    "courses: { csp: {week: 4} }\n",
    "categories: [C4.1]\n",
    "---"
   ]
  },
  {
   "cell_type": "code",
   "execution_count": 15,
   "id": "ad1b7d00-1d7f-486b-95f5-2f5b9b1d51b1",
   "metadata": {},
   "outputs": [
    {
     "name": "stdout",
     "output_type": "stream",
     "text": [
      "Tanisha helped Shay and then punched Dylan\n"
     ]
    }
   ],
   "source": [
    "import random\n",
    "\n",
    "names = [\"Tara\", \"Sharon\", \"Tanisha\", \"Koshi\", \"Mario\"]\n",
    "other_names = [\"Dylan\", \"Aliya\", \"Shay\"]\n",
    "actions_1 = [\"helped\", \"beat\", \"laughed at\"]\n",
    "actions_2 = [\"punched\", \"hugged\", \"pinched\"]\n",
    "\n",
    "# print(random.choice(names) + \" met \" + random.choice(other_names) + \" and \" + random.choice(actions) + \" them.\")\n",
    "\n",
    "print(random.choice(names) + \" \" + random.choice(actions_1) + \" \" + random.choice(other_names) + \" and then \" + random.choice(actions_2) + \" \" + random.choice(other_names))"
   ]
  }
 ],
 "metadata": {
  "kernelspec": {
   "display_name": "Python 3 (ipykernel)",
   "language": "python",
   "name": "python3"
  },
  "language_info": {
   "codemirror_mode": {
    "name": "ipython",
    "version": 3
   },
   "file_extension": ".py",
   "mimetype": "text/x-python",
   "name": "python",
   "nbconvert_exporter": "python",
   "pygments_lexer": "ipython3",
   "version": "3.11.5"
  }
 },
 "nbformat": 4,
 "nbformat_minor": 5
}
