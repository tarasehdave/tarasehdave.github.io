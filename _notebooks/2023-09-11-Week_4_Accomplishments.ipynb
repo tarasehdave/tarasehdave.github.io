{
 "cells": [
  {
   "cell_type": "markdown",
   "metadata": {},
   "source": [
    "---\n",
    "comments: true\n",
    "layout: post\n",
    "title: Week 4 Accomplishments\n",
    "type: tangibles\n",
    "courses: { csp: {week: 4} }\n",
    "categories: [C4.1]\n",
    "---"
   ]
  },
  {
   "cell_type": "markdown",
   "metadata": {},
   "source": [
    "# MBTI Pair Calculator \n",
    "\n",
    "## General \n",
    "\n",
    "When you plug in your mbti input, it'll find the matching output. The code uses \"if\" statements to find the correct match for each one.\n",
    "\n",
    "## Errors \n",
    "\n",
    "The errors I had while doing it was figuring out what the use of \"elif\" which means \"else if\". "
   ]
  },
  {
   "cell_type": "markdown",
   "metadata": {},
   "source": [
    "# Random Module \n",
    "\n",
    "## General \n",
    "\n",
    "\n",
    "\n",
    "## Errors"
   ]
  }
 ],
 "metadata": {
  "language_info": {
   "name": "python"
  },
  "orig_nbformat": 4
 },
 "nbformat": 4,
 "nbformat_minor": 2
}
