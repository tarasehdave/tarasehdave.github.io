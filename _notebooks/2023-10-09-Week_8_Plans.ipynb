{
 "cells": [
  {
   "cell_type": "markdown",
   "metadata": {},
   "source": [
    "---\n",
    "comments: true\n",
    "layout: post\n",
    "title: Week 8 Plan\n",
    "type: plans\n",
    "courses: { csp: {week: 8} }\n",
    "categories: [C4.1]\n",
    "---"
   ]
  },
  {
   "cell_type": "markdown",
   "metadata": {},
   "source": [
    "### Plan \n",
    "\n",
    "Start grocery store website plan. Should have \n",
    "    - User ID page \n",
    "    - Category display \n",
    "    - Each category list \n",
    "    - Cart \n",
    "    - Checkout \n",
    "    - Reciept \n",
    "\n",
    "Make diagramt to represent plan. I have been appointed to backend, so I will work on the logic of our website. "
   ]
  }
 ],
 "metadata": {
  "language_info": {
   "name": "python"
  }
 },
 "nbformat": 4,
 "nbformat_minor": 2
}
