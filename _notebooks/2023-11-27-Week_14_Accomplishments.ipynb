{
 "cells": [
  {
   "cell_type": "markdown",
   "metadata": {},
   "source": [
    "---\n",
    "comments: true\n",
    "layout: post\n",
    "title: Week 14 Accomplishments \n",
    "type: tangibles \n",
    "courses: { csp: {week: 14} }\n",
    "categories: [C4.1]\n",
    "---"
   ]
  },
  {
   "cell_type": "markdown",
   "metadata": {},
   "source": [
    "### Review Ticket \n",
    "\n",
    "ASCII (American Standard Code for Information Interchange) is a character encoding standard that assigns numerical values to letters, digits, and other characters. Each character is represented by a unique 7 or 8-bit binary code, allowing computers to understand and exchange textual information. For example, the ASCII code for the letter 'A' is 65 in decimal, which is represented as 01000001 in binary.\n",
    "\n",
    "Binary logic, on the other hand, is the foundation of computing and digital communication. It operates on the principles of Boolean algebra, where values are either 0 or 1. In binary logic, these values correspond to off or on, false or true, respectively. Basic logic gates, such as AND, OR, and NOT, manipulate binary values to perform logical operations.\n",
    "\n",
    "Understanding ASCII and binary logic is crucial for programming, data representation, and computer architecture. It enables individuals to comprehend how computers store and process data, providing a solid foundation for more advanced topics in computer science."
   ]
  }
 ],
 "metadata": {
  "language_info": {
   "name": "python"
  },
  "orig_nbformat": 4
 },
 "nbformat": 4,
 "nbformat_minor": 2
}
