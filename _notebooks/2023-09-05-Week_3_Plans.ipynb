{
 "cells": [
  {
   "cell_type": "markdown",
   "metadata": {},
   "source": [
    "---\n",
    "comments: true\n",
    "layout: post\n",
    "title: Week 3 Plan\n",
    "description: Coding more extensions. Organzing.\n",
    "type: plans\n",
    "courses: { csp: {week: 3} }\n",
    "categories: [C4.1]\n",
    "---"
   ]
  },
  {
   "cell_type": "markdown",
   "metadata": {},
   "source": [
    "# Pair Showcase Ideas\n",
    "\n",
    "- Make sure to use Python, Linux, and JavaScript \n",
    "- Triange identifier \n",
    "- To do list/planner \n",
    "- Time Zone Converter \n",
    "    - Convert times to different time zones \n",
    "        - If we do this, we would provide a drop bar. The person interacting with the code should be able to convert PST time to any time zone. \n",
    "        - Potential idea: Allow users to click on a world map to indicate which time zone they want to switch from/to\n",
    "- Basic URL Shortener \n"
   ]
  },
  {
   "cell_type": "markdown",
   "metadata": {},
   "source": [
    "# Additions \n",
    "\n",
    "This week I want to code more. My partner, Sharon, and I were discussing what our next project should be and we are considering coding a time zone converter. I also want to make a quiz, most likely about me. Other than that, I need to organize my TimeBox with the week plan, the week, and the weekks accomplishments."
   ]
  }
 ],
 "metadata": {
  "language_info": {
   "name": "python"
  },
  "orig_nbformat": 4
 },
 "nbformat": 4,
 "nbformat_minor": 2
}
