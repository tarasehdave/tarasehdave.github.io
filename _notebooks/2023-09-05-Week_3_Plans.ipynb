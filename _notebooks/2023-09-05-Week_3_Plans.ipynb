{
 "cells": [
  {
   "cell_type": "markdown",
   "metadata": {},
   "source": [
    "---\n",
    "comments: true\n",
    "layout: post\n",
    "title: Week 3 Plan\n",
    "description: \n",
    "type: plans\n",
    "courses: { csp: {week: 3} }\n",
    "categories: [C4.1]\n",
    "---"
   ]
  },
  {
   "cell_type": "markdown",
   "metadata": {},
   "source": [
    "This week I want to code more. My partner, Sharon, and I were discussing what our next project should be and we are considering coding a time zone converter. I also want to make a quiz, most likely about me. Other than that, I need to organize my TimeBox with the week plan, the week, and the weekks accomplishments."
   ]
  }
 ],
 "metadata": {
  "language_info": {
   "name": "python"
  },
  "orig_nbformat": 4
 },
 "nbformat": 4,
 "nbformat_minor": 2
}
