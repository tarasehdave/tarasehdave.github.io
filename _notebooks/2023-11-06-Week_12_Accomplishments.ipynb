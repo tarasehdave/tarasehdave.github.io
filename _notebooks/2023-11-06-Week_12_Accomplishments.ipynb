{
 "cells": [
  {
   "cell_type": "markdown",
   "metadata": {},
   "source": [
    "---\n",
    "comments: true\n",
    "layout: post\n",
    "title: Week 12 Accomplishments \n",
    "type: tangibles \n",
    "courses: { csp: {week: 12} }\n",
    "categories: [C4.1]\n",
    "---"
   ]
  },
  {
   "cell_type": "markdown",
   "metadata": {},
   "source": [
    "### Post Reflection \n",
    "\n",
    "My reflection went well, 9/10. "
   ]
  }
 ],
 "metadata": {
  "language_info": {
   "name": "python"
  }
 },
 "nbformat": 4,
 "nbformat_minor": 2
}
