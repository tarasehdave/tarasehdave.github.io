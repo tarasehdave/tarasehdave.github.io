{
 "cells": [
  {
   "cell_type": "markdown",
   "metadata": {},
   "source": [
    "---\n",
    "comments: true\n",
    "layout: post\n",
    "title: Algorithm Questions \n",
    "type: hacks\n",
    "courses: { csp: {week: 7} }\n",
    "categories: [C4.1]\n",
    "---"
   ]
  },
  {
   "cell_type": "markdown",
   "metadata": {},
   "source": [
    "### Question 1. Write Python Code or Psuedo Code that is able to take a string as input and detect if its a palindrome"
   ]
  },
  {
   "cell_type": "code",
   "execution_count": 2,
   "metadata": {},
   "outputs": [
    {
     "name": "stdout",
     "output_type": "stream",
     "text": [
      "It's not a palindrome.\n"
     ]
    }
   ],
   "source": [
    "def is_palindrome(input_str):\n",
    "    cleaned_str = ''.join(input_str.split()).lower()\n",
    "    \n",
    "    return cleaned_str == cleaned_str[::-1]\n",
    "\n",
    "user_input = input(\"Enter a string: \")\n",
    "\n",
    "if is_palindrome(user_input):\n",
    "    print(\"It's a palindrome!\")\n",
    "else:\n",
    "    print(\"It's not a palindrome.\")"
   ]
  },
  {
   "cell_type": "code",
   "execution_count": 3,
   "metadata": {},
   "outputs": [
    {
     "name": "stdout",
     "output_type": "stream",
     "text": [
      "It's a palindrome!\n"
     ]
    }
   ],
   "source": [
    "def is_palindrome(input_str):\n",
    "    cleaned_str = ''.join(input_str.split()).lower()\n",
    "    \n",
    "    return cleaned_str == cleaned_str[::-1]\n",
    "\n",
    "user_input = input(\"Enter a string: \")\n",
    "\n",
    "if is_palindrome(user_input):\n",
    "    print(\"It's a palindrome!\")\n",
    "else:\n",
    "    print(\"It's not a palindrome.\")"
   ]
  },
  {
   "cell_type": "markdown",
   "metadata": {},
   "source": [
    "### Question 2. Create a program that uses at least 1 of the algorithmic concepts covered in this notebook in a real-world application"
   ]
  },
  {
   "cell_type": "code",
   "execution_count": 5,
   "metadata": {},
   "outputs": [
    {
     "name": "stdout",
     "output_type": "stream",
     "text": [
      "Adults: [19, 23, 57, 91]\n",
      "Minors: [12, 4, 17, 8]\n"
     ]
    }
   ],
   "source": [
    "numbers = [19, 12, 4, 23, 57, 91, 17, 8]\n",
    "\n",
    "adults = []\n",
    "minors = []\n",
    "\n",
    "for number in numbers:\n",
    "    if number >= 18:\n",
    "        adults.append(number)\n",
    "    else:\n",
    "        minors.append(number)\n",
    "\n",
    "print(\"Adults:\", adults)\n",
    "print(\"Minors:\", minors)"
   ]
  },
  {
   "cell_type": "markdown",
   "metadata": {},
   "source": [
    "### Question 2 is a real-world application since the difference in responsibilities, rights, and privileges of adults and children differ. "
   ]
  }
 ],
 "metadata": {
  "kernelspec": {
   "display_name": "Python 3",
   "language": "python",
   "name": "python3"
  },
  "language_info": {
   "codemirror_mode": {
    "name": "ipython",
    "version": 3
   },
   "file_extension": ".py",
   "mimetype": "text/x-python",
   "name": "python",
   "nbconvert_exporter": "python",
   "pygments_lexer": "ipython3",
   "version": "3.11.5"
  }
 },
 "nbformat": 4,
 "nbformat_minor": 2
}
