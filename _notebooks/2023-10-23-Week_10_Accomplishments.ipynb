{
 "cells": [
  {
   "cell_type": "markdown",
   "metadata": {},
   "source": [
    "---\n",
    "comments: true\n",
    "layout: post\n",
    "title: Week 10 Accomplishments \n",
    "type: tangibles \n",
    "courses: { csp: {week: 10} }\n",
    "categories: [C4.1]\n",
    "---"
   ]
  },
  {
   "cell_type": "markdown",
   "metadata": {},
   "source": [
    "### General \n",
    "\n",
    "I finished the user ID section this week. It was more confusing initially but coding was not difficult. I made it so any input will be accepted and direct you to the homepage. This is done so people viewing our project at Night at the Mueseum can input any username and password and be directed to the site without having to know a previously decided ID. "
   ]
  }
 ],
 "metadata": {
  "language_info": {
   "name": "python"
  }
 },
 "nbformat": 4,
 "nbformat_minor": 2
}
