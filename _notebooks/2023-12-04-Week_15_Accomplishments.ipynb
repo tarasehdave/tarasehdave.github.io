{
 "cells": [
  {
   "cell_type": "markdown",
   "metadata": {},
   "source": [
    "---\n",
    "comments: true\n",
    "layout: post\n",
    "title: Week 15 Accomplishments \n",
    "type: tangibles \n",
    "courses: { csp: {week: 15} }\n",
    "categories: [C4.1]\n",
    "---"
   ]
  },
  {
   "cell_type": "markdown",
   "metadata": {},
   "source": [
    "### Code \n",
    "\n",
    "Changed certain features in my code. Made it so users can match the ASCII value to the binary value, not matching cards. \n",
    "\n",
    "Added a hint so that users can play the game more successfully. "
   ]
  }
 ],
 "metadata": {
  "language_info": {
   "name": "python"
  },
  "orig_nbformat": 4
 },
 "nbformat": 4,
 "nbformat_minor": 2
}
