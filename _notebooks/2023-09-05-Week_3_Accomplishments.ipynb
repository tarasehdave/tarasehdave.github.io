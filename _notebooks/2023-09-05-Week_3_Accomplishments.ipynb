{
 "cells": [
  {
   "cell_type": "markdown",
   "metadata": {},
   "source": [
    "---\n",
    "comments: true\n",
    "layout: post\n",
    "title: Week 3 Accomplishments \n",
    "type: tangibles\n",
    "courses: { csp: {week: 3} }\n",
    "categories: [C4.1]\n",
    "---"
   ]
  },
  {
   "cell_type": "markdown",
   "metadata": {},
   "source": [
    "# Review Ticket for Pair Showcase "
   ]
  },
  {
   "cell_type": "markdown",
   "metadata": {},
   "source": [
    "# About Me Quiz\n",
    "\n",
    "## General \n",
    "\n",
    "I wasn't here on Friday when Mr. Mortensen taught the class how to make a quiz so I called Sharon to ask her about that. I also researched into how to write the code. I then ran the code on Jupyter-Lab to get the outputs which gave me the proper results. \n",
    "\n",
    "## Error \n",
    "\n",
    "When I ran the code on Jupyter-Lab it put out errors. I forgot to close one of the brackets and I forgot to put a colon at the end of line 3. \n"
   ]
  },
  {
   "cell_type": "markdown",
   "metadata": {},
   "source": [
    "# Time Zone Converter "
   ]
  }
 ],
 "metadata": {
  "language_info": {
   "name": "python"
  },
  "orig_nbformat": 4
 },
 "nbformat": 4,
 "nbformat_minor": 2
}
