{
 "cells": [
  {
   "cell_type": "markdown",
   "metadata": {},
   "source": [
    "---\n",
    "comments: true\n",
    "layout: post\n",
    "title: Week 3 Accomplishments \n",
    "type: tangibles\n",
    "courses: { csp: {week: 3} }\n",
    "categories: [C4.1]\n",
    "---"
   ]
  },
  {
   "cell_type": "markdown",
   "metadata": {},
   "source": [
    "# Review Ticket for Pair Showcase \n",
    "\n",
    "## Role \n",
    "\n",
    "I worked on the JavaScript portion of our project, the map. \n",
    "\n",
    "### Overview  |  Maps JavaScript API  |  Google for Developers\n",
    "https://developers.google.com/maps/documentation/javascript/overview#maps_map_simple-javascript\n",
    "\n",
    "This was where I was able to access the Google API for the map. This gave me the information needed to construct the code to develop the map on my blog. Using the mouse click event, you are able to get the longitude and latitude that was clicked. The input is the click, and the output is longitude and latitude. \n",
    "\n",
    "### Time Zone API overview  |  Google for Developers\n",
    "https://developers.google.com/maps/documentation/timezone/overview\n",
    "\n",
    "After the first step, the code makes a call to the time zone API using the longitude and latitude values collected from the map API. Then you get the local time of the clicked location. The input is the longitude and latitude, and the output is the time zone information and local time. \n",
    "\n",
    "Example of output from UTC: \n",
    "{\n",
    "   \"dstOffset\" : 3600,\n",
    "   \"rawOffset\" : 7200,\n",
    "   \"status\" : \"OK\",\n",
    "   \"timeZoneId\" : \"Europe/Kiev\",\n",
    "   \"timeZoneName\" : \"Eastern European Summer Time\"\n",
    "}\n",
    "\n",
    "## Errors and Challenges \n",
    "\n",
    "I am new to API development and I ran into mulitple errors. One of them being making calls to the API and analyzing the results. I had to use debugger and ask my parents for help to use it. I also had to search up certain commands that I was unknown to prior to. "
   ]
  },
  {
   "cell_type": "markdown",
   "metadata": {},
   "source": [
    "# About Me Quiz\n",
    "\n",
    "## General \n",
    "\n",
    "I wasn't here on Friday when Mr. Mortensen taught the class how to make a quiz so I called Sharon to ask her about that. I also researched into how to write the code. I then ran the code on Jupyter-Lab to get the outputs which gave me the proper results. \n",
    "\n",
    "## Error \n",
    "\n",
    "When I ran the code on Jupyter-Lab it put out errors. I forgot to close one of the brackets and I forgot to put a colon at the end of line 3. \n"
   ]
  }
 ],
 "metadata": {
  "language_info": {
   "name": "python"
  },
  "orig_nbformat": 4
 },
 "nbformat": 4,
 "nbformat_minor": 2
}
