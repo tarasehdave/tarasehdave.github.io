{
 "cells": [
  {
   "cell_type": "markdown",
   "id": "8fc537f6",
   "metadata": {},
   "source": [
    "---\n",
    "comments: true\n",
    "layout: post\n",
    "title: MBTI Pair Personality Type Calculator\n",
    "description: Put your MBTI and find your matching half.\n",
    "type: hacks\n",
    "courses: { csp: {week: 4} }\n",
    "categories: [C4.1]\n",
    "---"
   ]
  },
  {
   "cell_type": "code",
   "execution_count": 1,
   "id": "85df8550-20e9-49ba-8c30-a0544bf5989e",
   "metadata": {},
   "outputs": [
    {
     "name": "stdout",
     "output_type": "stream",
     "text": [
      "Enter an input (ISTJ, ISFJ, INFJ, INTJ, ISTP, ISFP, INFP, INTP, ESTP, ESFP, ENFP, ENTP, ESTJ, ESFJ, ENFJ, or ENTJ):  entp\n"
     ]
    },
    {
     "name": "stdout",
     "output_type": "stream",
     "text": [
      "Result: intj\n"
     ]
    }
   ],
   "source": [
    "# Define a function that takes an input and returns an output\n",
    "def match_input_to_output(input_value):\n",
    "    input_value = input_value.lower()  # Convert input to lowercase for case-insensitive matching\n",
    "    \n",
    "    if input_value == \"istj\":\n",
    "        return \"estp\"\n",
    "    elif input_value == \"estp\":\n",
    "        return \"istj\"\n",
    "    elif input_value == \"isfj\":\n",
    "        return \"esfp\"\n",
    "    elif input_value == \"esfp\":\n",
    "        return \"isfj\"\n",
    "    elif input_value == \"infj\":\n",
    "        return \"enfp\"\n",
    "    elif input_value == \"enfp\":\n",
    "        return \"infj\"\n",
    "    elif input_value == \"intj\":\n",
    "        return \"entp\"\n",
    "    elif input_value == \"entp\":\n",
    "        return \"intj\"\n",
    "    elif input_value == \"istp\":\n",
    "        return \"estj\"\n",
    "    elif input_value == \"estj\":\n",
    "        return \"istp\"\n",
    "    elif input_value == \"isfp\":\n",
    "        return \"esfj\"\n",
    "    elif input_value == \"esfj\":\n",
    "        return \"isfp\"\n",
    "    elif input_value == \"infp\":\n",
    "        return \"enfj\"\n",
    "    elif input_value == \"enfj\":\n",
    "        return \"infp\"\n",
    "    elif input_value == \"intp\":\n",
    "        return \"entj\"\n",
    "    elif input_value == \"entj\":\n",
    "        return \"intp\"\n",
    "    else:\n",
    "        return \"No match found\"\n",
    "\n",
    "# Example usage\n",
    "user_input = input(\"Enter an input (ISTJ, ISFJ, INFJ, INTJ, ISTP, ISFP, INFP, INTP, ESTP, ESFP, ENFP, ENTP, ESTJ, ESFJ, ENFJ, or ENTJ): \")\n",
    "result = match_input_to_output(user_input.lower())  # Convert user input to lowercase for case-insensitive matching\n",
    "print(\"Result:\", result)\n"
   ]
  }
 ],
 "metadata": {
  "kernelspec": {
   "display_name": "Python 3 (ipykernel)",
   "language": "python",
   "name": "python3"
  },
  "language_info": {
   "codemirror_mode": {
    "name": "ipython",
    "version": 3
   },
   "file_extension": ".py",
   "mimetype": "text/x-python",
   "name": "python",
   "nbconvert_exporter": "python",
   "pygments_lexer": "ipython3",
   "version": "3.11.5"
  }
 },
 "nbformat": 4,
 "nbformat_minor": 5
}
