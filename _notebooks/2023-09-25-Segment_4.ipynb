{
 "cells": [
  {
   "cell_type": "markdown",
   "id": "b4d86eb6",
   "metadata": {},
   "source": [
    "---\n",
    "comments: true\n",
    "layout: post\n",
    "title: Segment 4\n",
    "type: hacks\n",
    "courses: { csp: {week: 6} }\n",
    "categories: [C4.1]\n",
    "---"
   ]
  },
  {
   "cell_type": "code",
   "execution_count": 7,
   "id": "5ef76a85-39aa-463f-9f54-2bf7413d7db1",
   "metadata": {},
   "outputs": [
    {
     "data": {
      "application/javascript": "\nvar multiplesOfTwoOrFive = [];\n\nvar i = 1;\nwhile(i<=100)\n{\n    if(i%2 == 0)\n    {\n        multiplesOfTwoOrFive.push(i);\n    }\n    else if(i%5 == 0)\n    {\n        multiplesOfTwoOrFive.push(i);\n    }\n\n    i = i + 1;\n}\n\nalert(multiplesOfTwoOrFive);\n    \n",
      "text/plain": [
       "<IPython.core.display.Javascript object>"
      ]
     },
     "metadata": {},
     "output_type": "display_data"
    }
   ],
   "source": [
    "%%js\n",
    "\n",
    "var multiplesOfTwoOrFive = [];\n",
    "\n",
    "var i = 1;\n",
    "while(i<=100)\n",
    "{\n",
    "    if(i%2 == 0)\n",
    "    {\n",
    "        multiplesOfTwoOrFive.push(i);\n",
    "    }\n",
    "    else if(i%5 == 0)\n",
    "    {\n",
    "        multiplesOfTwoOrFive.push(i);\n",
    "    }\n",
    "\n",
    "    i = i + 1;\n",
    "}\n",
    "\n",
    "alert(multiplesOfTwoOrFive);\n",
    "    "
   ]
  }
 ],
 "metadata": {
  "kernelspec": {
   "display_name": "Python 3 (ipykernel)",
   "language": "python",
   "name": "python3"
  },
  "language_info": {
   "codemirror_mode": {
    "name": "ipython",
    "version": 3
   },
   "file_extension": ".py",
   "mimetype": "text/x-python",
   "name": "python",
   "nbconvert_exporter": "python",
   "pygments_lexer": "ipython3",
   "version": "3.11.5"
  }
 },
 "nbformat": 4,
 "nbformat_minor": 5
}
