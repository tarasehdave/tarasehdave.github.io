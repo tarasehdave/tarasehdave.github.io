{
 "cells": [
  {
   "cell_type": "markdown",
   "id": "b4d86eb6",
   "metadata": {},
   "source": [
    "---\n",
    "comments: true\n",
    "layout: post\n",
    "title: Segment 4\n",
    "type: hacks\n",
    "courses: { csp: {week: 6} }\n",
    "categories: [C4.1]\n",
    "---"
   ]
  },
  {
   "cell_type": "markdown",
   "id": "a925af3e",
   "metadata": {},
   "source": [
    "### Before"
   ]
  },
  {
   "cell_type": "code",
   "execution_count": null,
   "id": "93cecb2b",
   "metadata": {},
   "outputs": [],
   "source": [
    "%%js\n",
    "\n",
    "var numbers = []\n",
    "var newNumbers = []\n",
    "var i = 0\n",
    "\n",
    "while (i < 100) {\n",
    "    numbers.push(i)\n",
    "    i += 1\n",
    "}\n",
    "for (var i of numbers) {\n",
    "    if (numbers[i] % 5 === 0)\n",
    "        newNumbers.push(numbers[i])\n",
    "    if (numbers[i] % 2 === 0) // Repeating numbers twice \n",
    "        newNumbers.push(numbers[i])\n",
    "    /* Having two if statements will result in duplicates if the number is divisible by both 2 and 5\n",
    "    To avoid this we have to use 'if' and then 'else if'\n",
    "    */\n",
    "}\n",
    "alert(newNumbers) "
   ]
  },
  {
   "cell_type": "markdown",
   "id": "1dcf819d",
   "metadata": {},
   "source": [
    "### After"
   ]
  },
  {
   "cell_type": "code",
   "execution_count": 7,
   "id": "5ef76a85-39aa-463f-9f54-2bf7413d7db1",
   "metadata": {},
   "outputs": [
    {
     "data": {
      "application/javascript": "\nvar multiplesOfTwoOrFive = [];\n\nvar i = 1;\nwhile(i<=100)\n{\n    if(i%2 == 0)\n    {\n        multiplesOfTwoOrFive.push(i);\n    }\n    else if(i%5 == 0)\n    {\n        multiplesOfTwoOrFive.push(i);\n    }\n\n    i = i + 1;\n}\n\nalert(multiplesOfTwoOrFive);\n    \n",
      "text/plain": [
       "<IPython.core.display.Javascript object>"
      ]
     },
     "metadata": {},
     "output_type": "display_data"
    }
   ],
   "source": [
    "%%js\n",
    "\n",
    "var multiplesOfTwoOrFive = [];\n",
    "\n",
    "var i = 1;\n",
    "while(i<=100)\n",
    "{\n",
    "    if(i%2 == 0)\n",
    "    {\n",
    "        multiplesOfTwoOrFive.push(i);\n",
    "    }\n",
    "    else if(i%5 == 0) // Will only feed into 5 if it does not feed into 2\n",
    "    /* If the number is not divisible by 2 it will check if it's divisible by 5\n",
    "    This will result in no duplicates\n",
    "    */\n",
    "    {\n",
    "        multiplesOfTwoOrFive.push(i);\n",
    "    }\n",
    "\n",
    "    i = i + 1;\n",
    "}\n",
    "\n",
    "alert(multiplesOfTwoOrFive);\n",
    "    "
   ]
  }
 ],
 "metadata": {
  "kernelspec": {
   "display_name": "Python 3 (ipykernel)",
   "language": "python",
   "name": "python3"
  },
  "language_info": {
   "codemirror_mode": {
    "name": "ipython",
    "version": 3
   },
   "file_extension": ".py",
   "mimetype": "text/x-python",
   "name": "python",
   "nbconvert_exporter": "python",
   "pygments_lexer": "ipython3",
   "version": "3.11.5"
  }
 },
 "nbformat": 4,
 "nbformat_minor": 5
}
