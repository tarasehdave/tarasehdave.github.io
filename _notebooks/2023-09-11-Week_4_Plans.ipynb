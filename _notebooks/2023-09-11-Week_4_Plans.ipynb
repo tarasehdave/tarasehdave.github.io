{
 "cells": [
  {
   "cell_type": "markdown",
   "metadata": {},
   "source": [
    "---\n",
    "comments: true\n",
    "layout: post\n",
    "title: Week 4 Plan\n",
    "type: plans\n",
    "courses: { csp: {week: 4} }\n",
    "categories: [C4.1]\n",
    "---"
   ]
  },
  {
   "cell_type": "markdown",
   "metadata": {},
   "source": [
    "# Team Project Video \n",
    "\n",
    "## Responsibilities \n",
    "    - Make a plan that incorpates everyone evenly\n",
    "    - Share with others what you have done \n",
    "    - Complete a review ticket for each code \n",
    "    - Each pair keep each other accountable \n",
    "\n",
    "## Roles \n",
    "    - Alisha: Program with dictionary, program with functino for mathematical and/or a statistical calculations \n",
    "    - Alara: Program with a list, program with interation \n",
    "    - Sharon: Progra, with output, program with input/output\n",
    "    - Tara: Program with Purpose, program with a Selection/Condition \n",
    "\n",
    "## Timeline \n",
    "    - Have everyone's code done by Wednesday\n",
    "    - Share code by Thursday \n",
    "    - Make video by Thursday "
   ]
  },
  {
   "cell_type": "markdown",
   "metadata": {},
   "source": [
    "# MBTI Pair Calculator \n",
    "\n",
    "Sharon and I took the Myers-Brigg Personality Type last week and we both were interested in each types complimentary half. We did some research and categorized 8 pairs from the 16 types and then made a Python \"if\" statement where a user will type in their type to recieve their half. "
   ]
  },
  {
   "cell_type": "markdown",
   "metadata": {},
   "source": [
    "# Random Module Generator \n",
    "\n",
    "Awhile ago over summer I worked with my dad to create a random module generator which included a choice between two lists of names and two lists of verbs. I played around with it adding more names and verbs and want to add that to my week 4."
   ]
  }
 ],
 "metadata": {
  "language_info": {
   "name": "python"
  },
  "orig_nbformat": 4
 },
 "nbformat": 4,
 "nbformat_minor": 2
}
