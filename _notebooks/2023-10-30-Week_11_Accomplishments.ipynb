{
 "cells": [
  {
   "cell_type": "markdown",
   "metadata": {},
   "source": [
    "---\n",
    "comments: true\n",
    "layout: post\n",
    "title: Week 11 Accomplishments \n",
    "type: tangibles \n",
    "courses: { csp: {week: 11} }\n",
    "categories: [C4.1]\n",
    "---"
   ]
  },
  {
   "cell_type": "markdown",
   "metadata": {},
   "source": [
    "### Night at the Museseum \n",
    "\n",
    "My team qualified at Night at the Mueseum. Here are some takeaways from the night. \n",
    "\n",
    "#### Other Teams \n",
    "\n",
    "We presented in Mortensen's room with more CSA students than CSP. For this reason, my group was introduced to more advanced coding and projects when we weren't presenting. We had met with a team that programmed an app for teachers to communicate with students what music is appropriate for class, with different pages for students and teachers. We similarily could implement this same idea, with one page for consumers (people shopping at the grocery store) and workers (people wanting to change stock). \n",
    "\n",
    "We met with another CSP group who made their project about stocks. It included an API that grabbed current data about the stock market. It used complex jargon and therefore had another page explaining what each term meant for those not educated. I asked them why they decided to make their project about this and it's because certain members in the group were educated in finance and therefore could work with the data sufficiently. \n",
    "\n",
    "#### Parent Feedback \n",
    "\n",
    "One parent who works in Amazon had told us our project was done well but had some suggestions such as: \n",
    "\n",
    "    1. She said it would be a good idea to add a notification that would hover a number over the cart when users interacted with it to notify them how many items are currently there after adding or subtracting products. \n",
    "\n",
    "    2. She said it would be a good idea to add corresponding images to our products, which we tried to do but could not figure out how to. All the images were in our backend but we needed to research how to link them together. \n",
    "\n",
    "#### Student Feedback \n",
    "\n",
    "Most students said our project was very visually appealing and liked that. They also thought the idea to make a grocery list was innovative."
   ]
  }
 ],
 "metadata": {
  "language_info": {
   "name": "python"
  }
 },
 "nbformat": 4,
 "nbformat_minor": 2
}
