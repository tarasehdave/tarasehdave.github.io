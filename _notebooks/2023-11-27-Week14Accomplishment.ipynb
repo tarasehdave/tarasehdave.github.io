{
 "cells": [
  {
   "cell_type": "markdown",
   "metadata": {},
   "source": [
    "---\n",
    "comments: true\n",
    "layout: post\n",
    "title: Week 14 Accomplishments \n",
    "type: tangibles \n",
    "courses: { csp: {week: 14} }\n",
    "categories: [C4.1]\n",
    "---"
   ]
  },
  {
   "cell_type": "markdown",
   "metadata": {},
   "source": [
    "### Memory Game Review Ticket \n",
    "\n",
    "I used the Fisher-Yates Algorithm to randomize the inputted values. However, there are certain problems that I need to fix by next week. \n",
    "\n",
    "    1. Hardcoded Values: I put the letters A-F in the code to output it's corresponding binary values through ASCII. However, the letters should be randomized each time from A-Z and a-z.\n",
    "    2. Background: The background is simple as of right now, but it should have some design to it regarding the theme, space. \n",
    "    3. Levels: Right now there is only one level with no timer. By the end there should be several with it's respected timers. \n",
    "\n",
    "Besides that, I am satisfied with what I have so far. The cards are actively working and stay flipped once matched with it's other, as well as turning green, indicating that they were matched. The basic feature is there, converting letters to ASCII to binary, just not the extra designs for theme and timers. "
   ]
  }
 ],
 "metadata": {
  "language_info": {
   "name": "python"
  },
  "orig_nbformat": 4
 },
 "nbformat": 4,
 "nbformat_minor": 2
}
