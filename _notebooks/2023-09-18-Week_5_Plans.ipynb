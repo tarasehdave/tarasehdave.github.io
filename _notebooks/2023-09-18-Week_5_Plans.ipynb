{
 "cells": [
  {
   "cell_type": "markdown",
   "metadata": {},
   "source": [
    "---\n",
    "comments: true\n",
    "layout: post\n",
    "title: Week 5 Plan\n",
    "type: plans\n",
    "courses: { csp: {week: 5} }\n",
    "categories: [C4.1]\n",
    "---"
   ]
  },
  {
   "cell_type": "markdown",
   "metadata": {},
   "source": [
    "# Team Project Video \n",
    "\n",
    "## Responsibilities \n",
    "    - Make a plan that incorpates everyone evenly\n",
    "    - Share with others what you have done \n",
    "    - Complete a review ticket for each code \n",
    "    - Each pair keep each other accountable \n",
    "\n",
    "## Roles \n",
    "    - Alisha: Program with dictionary, program with functino for mathematical and/or a statistical calculations \n",
    "    - Alara: Program with a list, program with interation \n",
    "    - Sharon: Progra, with output, program with input/output\n",
    "    - Tara: Program with Purpose, program with a Selection/Condition \n",
    "\n",
    "## Timeline \n",
    "    - Have everyone's code done by Wednesday\n",
    "    - Share code by Thursday \n",
    "    - Make video by Thursday "
   ]
  },
  {
   "cell_type": "code",
   "execution_count": null,
   "metadata": {},
   "outputs": [],
   "source": []
  }
 ],
 "metadata": {
  "language_info": {
   "name": "python"
  },
  "orig_nbformat": 4
 },
 "nbformat": 4,
 "nbformat_minor": 2
}
