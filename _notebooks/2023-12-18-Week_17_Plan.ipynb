{
 "cells": [
  {
   "cell_type": "markdown",
   "metadata": {},
   "source": [
    "---\n",
    "comments: true\n",
    "layout: post\n",
    "title: Week 17 Plan\n",
    "type: plans\n",
    "courses: { csp: {week: 17} }\n",
    "categories: [C4.1]\n",
    "---"
   ]
  },
  {
   "cell_type": "markdown",
   "metadata": {},
   "source": [
    "### Plans \n",
    "\n",
    "    - CPT project \n",
    "        - Brainstorm ideas for CPT project \n",
    "        - Think of ways to incorporate ideas learned (APIs, binary, etc.)\n",
    "        "
   ]
  },
  {
   "cell_type": "code",
   "execution_count": 1,
   "metadata": {},
   "outputs": [],
   "source": [
    "import sqlite3\n",
    "\n",
    "# Establish a connection\n",
    "conn = sqlite3.connect('your_database.db')\n",
    "\n",
    "# Create a cursor object. Allows interaction with the database using SQL queries\n",
    "cursor = conn.cursor()\n",
    "\n",
    "# Create a table if it doesn't exist. Replace 'your_table' and define the columns accordingly.\n",
    "cursor.execute('''\n",
    "    CREATE TABLE IF NOT EXISTS your_table (\n",
    "        column1 INTEGER,\n",
    "        column2 TEXT,\n",
    "        column3 REAL\n",
    "        -- Add more columns as needed\n",
    "    )\n",
    "''')\n",
    "\n",
    "# Execute your SELECT query on the existing table\n",
    "cursor.execute('SELECT * FROM your_table')\n",
    "\n",
    "# Fetch results and store them\n",
    "results = cursor.fetchall()\n",
    "\n",
    "# Close the connection. Releases resources\n",
    "conn.close()\n"
   ]
  },
  {
   "cell_type": "code",
   "execution_count": 2,
   "metadata": {},
   "outputs": [
    {
     "ename": "SyntaxError",
     "evalue": "invalid syntax (754314395.py, line 1)",
     "output_type": "error",
     "traceback": [
      "\u001b[0;36m  Cell \u001b[0;32mIn[2], line 1\u001b[0;36m\u001b[0m\n\u001b[0;31m    <!DOCTYPE html>\u001b[0m\n\u001b[0m    ^\u001b[0m\n\u001b[0;31mSyntaxError\u001b[0m\u001b[0;31m:\u001b[0m invalid syntax\n"
     ]
    }
   ],
   "source": [
    "<!DOCTYPE html>\n",
    "<html lang=\"en\">\n",
    "<head>\n",
    "    <meta charset=\"UTF-8\">\n",
    "    <meta name=\"viewport\" content=\"width=device-width, initial-scale=1.0\">\n",
    "    <title>Address to Coordinates</title>\n",
    "    <script src=\"https://maps.googleapis.com/maps/api/js?key=YOUR_API_KEY&libraries=places\"></script>\n",
    "</head>\n",
    "<body>\n",
    "\n",
    "<h3>Convert Address to Coordinates</h3>\n",
    "\n",
    "<!-- Your input form -->\n",
    "<label for=\"address\">Enter Address:</label>\n",
    "<input type=\"text\" id=\"address\" placeholder=\"Enter an address\">\n",
    "<button onclick=\"convertAddress()\">Convert</button>\n",
    "\n",
    "<script>\n",
    "function convertAddress() {\n",
    "    // Get the address from the input field\n",
    "    var address = document.getElementById('address').value;\n",
    "\n",
    "    // Create a geocoder instance\n",
    "    var geocoder = new google.maps.Geocoder();\n",
    "\n",
    "    // Make a geocoding request\n",
    "    geocoder.geocode({ 'address': address }, function (results, status) {\n",
    "        if (status === google.maps.GeocoderStatus.OK) {\n",
    "            // Get latitude and longitude\n",
    "            var latitude = results[0].geometry.location.lat();\n",
    "            var longitude = results[0].geometry.location.lng();\n",
    "\n",
    "            // Display the coordinates (you can save them to the database)\n",
    "            alert('Latitude: ' + latitude + '\\nLongitude: ' + longitude);\n",
    "        } else {\n",
    "            alert('Geocode was not successful for the following reason: ' + status);\n",
    "        }\n",
    "    });\n",
    "}\n",
    "</script>\n",
    "\n",
    "</body>\n",
    "</html>\n"
   ]
  },
  {
   "cell_type": "code",
   "execution_count": 4,
   "metadata": {
    "vscode": {
     "languageId": "html"
    }
   },
   "outputs": [
    {
     "ename": "SyntaxError",
     "evalue": "invalid syntax (1701133937.py, line 1)",
     "output_type": "error",
     "traceback": [
      "\u001b[0;36m  Cell \u001b[0;32mIn[4], line 1\u001b[0;36m\u001b[0m\n\u001b[0;31m    <html lang=\"en\">\u001b[0m\n\u001b[0m    ^\u001b[0m\n\u001b[0;31mSyntaxError\u001b[0m\u001b[0;31m:\u001b[0m invalid syntax\n"
     ]
    }
   ],
   "source": [
    "<html lang=\"en\">\n",
    "<head>\n",
    "    <meta charset=\"UTF-8\">\n",
    "    <meta name=\"viewport\" content=\"width=device-width, initial-scale=1.0\">\n",
    "    <title>Address to Coordinates</title>\n",
    "    <script src=\"https://maps.googleapis.com/maps/api/js?key=YOUR_API_KEY&libraries=places\"></script>\n",
    "</head>\n",
    "<body>\n",
    "\n",
    "<h3>Convert Address to Coordinates</h3>\n",
    "\n",
    "<!-- Your input form -->\n",
    "<label for=\"address\">Enter Address:</label>\n",
    "<input type=\"text\" id=\"address\" placeholder=\"Enter an address\">\n",
    "<button onclick=\"convertAddress()\">Convert</button>\n",
    "\n",
    "<script>\n",
    "function convertAddress() {\n",
    "    // Get the address from the input field\n",
    "    var address = document.getElementById('address').value;\n",
    "\n",
    "    // Create a geocoder instance\n",
    "    var geocoder = new google.maps.Geocoder();\n",
    "\n",
    "    // Make a geocoding request\n",
    "    geocoder.geocode({ 'address': address }, function (results, status) {\n",
    "        if (status === google.maps.GeocoderStatus.OK) {\n",
    "            // Get latitude and longitude\n",
    "            var latitude = results[0].geometry.location.lat();\n",
    "            var longitude = results[0].geometry.location.lng();\n",
    "\n",
    "            // Display the coordinates (you can save them to the database)\n",
    "            alert('Latitude: ' + latitude + '\\nLongitude: ' + longitude);\n",
    "        } else {\n",
    "            alert('Geocode was not successful for the following reason: ' + status);\n",
    "        }\n",
    "    });\n",
    "}\n",
    "</script>\n",
    "\n",
    "</body>\n",
    "</html>\n"
   ]
  }
 ],
 "metadata": {
  "kernelspec": {
   "display_name": "Python 3",
   "language": "python",
   "name": "python3"
  },
  "language_info": {
   "codemirror_mode": {
    "name": "ipython",
    "version": 3
   },
   "file_extension": ".py",
   "mimetype": "text/x-python",
   "name": "python",
   "nbconvert_exporter": "python",
   "pygments_lexer": "ipython3",
   "version": "3.11.6"
  },
  "orig_nbformat": 4
 },
 "nbformat": 4,
 "nbformat_minor": 2
}
