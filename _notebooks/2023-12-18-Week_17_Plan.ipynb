{
 "cells": [
  {
   "cell_type": "markdown",
   "metadata": {},
   "source": [
    "---\n",
    "comments: true\n",
    "layout: post\n",
    "title: Week 17 Plan\n",
    "type: plans\n",
    "courses: { csp: {week: 17} }\n",
    "categories: [C4.1]\n",
    "---"
   ]
  },
  {
   "cell_type": "markdown",
   "metadata": {},
   "source": [
    "### Plans \n",
    "\n",
    "    - CPT project \n",
    "        - Brainstorm ideas for CPT project \n",
    "        - Think of ways to incorporate ideas learned (APIs, binary, etc.)\n",
    "        "
   ]
  }
 ],
 "metadata": {
  "language_info": {
   "name": "python"
  },
  "orig_nbformat": 4
 },
 "nbformat": 4,
 "nbformat_minor": 2
}
