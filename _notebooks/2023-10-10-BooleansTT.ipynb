{
 "cells": [
  {
   "cell_type": "markdown",
   "metadata": {},
   "source": [
    "---\n",
    "comments: true\n",
    "layout: post\n",
    "title: Boolean and Condition Questions \n",
    "type: hacks\n",
    "courses: { csp: {week: 8} }\n",
    "categories: [C4.1]\n",
    "---"
   ]
  },
  {
   "cell_type": "markdown",
   "metadata": {},
   "source": [
    "### Questionn 1. Write a Python program that uses boolean logic to determine if a user is eligible to vote. The criteria for eligibility is that the user must be a citizen and must be 18 or older. Include comments in your code to explain each part of the program."
   ]
  },
  {
   "cell_type": "code",
   "execution_count": 1,
   "metadata": {},
   "outputs": [
    {
     "name": "stdout",
     "output_type": "stream",
     "text": [
      "You are not eligible to vote.\n"
     ]
    }
   ],
   "source": [
    "# Get user input for citizenship and age\n",
    "is_citizen = input(\"Are you a citizen? (yes/no): \").lower() == \"yes\"\n",
    "age = int(input(\"What is your age?: \"))\n",
    "\n",
    "# Check eligibility using boolean logic\n",
    "if is_citizen and age >= 18:\n",
    "    print(\"You are eligible to vote!\")\n",
    "else:\n",
    "    print(\"You are not eligible to vote.\")\n"
   ]
  },
  {
   "cell_type": "markdown",
   "metadata": {},
   "source": [
    "### Question 2. A company decided to give bonus of 5% to employee if his/her year of service is more than 5 years. Ask user for their salary and year of service and print the net bonus amount."
   ]
  },
  {
   "cell_type": "code",
   "execution_count": 4,
   "metadata": {},
   "outputs": [
    {
     "name": "stdout",
     "output_type": "stream",
     "text": [
      "You are eligible for a 5% bonus of $3000.00.\n",
      "Net bonus amount: $3000.00\n"
     ]
    }
   ],
   "source": [
    "# Get user input for salary and years of service\n",
    "salary = float(input(\"Enter your salary: $\"))\n",
    "years_of_service = int(input(\"Enter your years of service: \"))\n",
    "\n",
    "# Define the bonus percentage\n",
    "bonus_percentage = 5\n",
    "\n",
    "# Calculate the bonus amount if years of service is more than 5\n",
    "if years_of_service > 5:\n",
    "    bonus_amount = (bonus_percentage / 100) * salary\n",
    "    print(f\"You are eligible for a {bonus_percentage}% bonus of ${bonus_amount:.2f}.\")\n",
    "else:\n",
    "    print(\"You are not eligible for a bonus.\")\n",
    "\n",
    "# Calculate and print the net bonus amount\n",
    "if years_of_service > 5:\n",
    "    net_bonus_amount = bonus_amount\n",
    "else:\n",
    "    net_bonus_amount = 0\n",
    "\n",
    "print(f\"Net bonus amount: ${net_bonus_amount:.2f}\")"
   ]
  },
  {
   "cell_type": "markdown",
   "metadata": {},
   "source": [
    "### Question 3. A school has following rules for grading system:\n",
    "a. Below 25 - F\n",
    "b. 25 to 45 - E\n",
    "c. 45 to 50 - D\n",
    "d. 50 to 60 - C\n",
    "e. 60 to 80 - B\n",
    "f. Above 80 - A\n",
    "Ask user to enter marks and print the corresponding grade."
   ]
  },
  {
   "cell_type": "code",
   "execution_count": 5,
   "metadata": {},
   "outputs": [
    {
     "name": "stdout",
     "output_type": "stream",
     "text": [
      "Your grade is: A\n"
     ]
    }
   ],
   "source": [
    "# Get user input for marks\n",
    "marks = float(input(\"Enter your marks: \"))\n",
    "\n",
    "# Define the grading system rules\n",
    "if marks < 25:\n",
    "    grade = \"F\"\n",
    "elif 25 <= marks < 45:\n",
    "    grade = \"E\"\n",
    "elif 45 <= marks < 50:\n",
    "    grade = \"D\"\n",
    "elif 50 <= marks < 60:\n",
    "    grade = \"C\"\n",
    "elif 60 <= marks < 80:\n",
    "    grade = \"B\"\n",
    "else:\n",
    "    grade = \"A\"\n",
    "\n",
    "# Print the corresponding grade\n",
    "print(f\"Your grade is: {grade}\")\n"
   ]
  }
 ],
 "metadata": {
  "kernelspec": {
   "display_name": "Python 3",
   "language": "python",
   "name": "python3"
  },
  "language_info": {
   "codemirror_mode": {
    "name": "ipython",
    "version": 3
   },
   "file_extension": ".py",
   "mimetype": "text/x-python",
   "name": "python",
   "nbconvert_exporter": "python",
   "pygments_lexer": "ipython3",
   "version": "3.11.5"
  }
 },
 "nbformat": 4,
 "nbformat_minor": 2
}
