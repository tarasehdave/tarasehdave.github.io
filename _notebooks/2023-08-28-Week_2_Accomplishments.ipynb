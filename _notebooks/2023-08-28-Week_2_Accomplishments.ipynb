{
 "cells": [
  {
   "cell_type": "markdown",
   "metadata": {},
   "source": [
    "---\n",
    "comments: true\n",
    "layout: post\n",
    "title: Week 2 Accomplishments \n",
    "type: tangibles\n",
    "courses: { csp: {week: 2} }\n",
    "categories: [C4.1]\n",
    "---"
   ]
  },
  {
   "cell_type": "markdown",
   "metadata": {},
   "source": [
    "# Live Review \n",
    "\n",
    "## General \n",
    "\n",
    "This was essentially my first week of AP CSP. I did my first live review which went pretty well. Since I joined late I did it with another person who is not my partner since her partner dropped this class period. \n"
   ]
  },
  {
   "cell_type": "markdown",
   "metadata": {},
   "source": [
    "# Class Schedule \n",
    "\n",
    "## General \n",
    "This was the final addition I coded for my homepage. This was relatively easy since I just searched up how to code a table on Python and found plenty of sites to choose from.  "
   ]
  },
  {
   "cell_type": "markdown",
   "metadata": {},
   "source": [
    "# Images \n",
    "\n",
    "## General \n",
    "\n",
    "I downloaded images on my laptop and moved them to my tarasehdave.github.io folder. I then coded a setup for each image to pull it from that folder. \n",
    "\n",
    "## Errors \n",
    "\n",
    "I struggled a little with this. I did not know the format of coding an image on Python so I had to learn that. Even after I figured out the format, I had to convert some images to JPG. It wasn't hard but it was defnielty the hardest thing I had to do up until now. "
   ]
  },
  {
   "cell_type": "markdown",
   "metadata": {},
   "source": [
    "## Calculator 1 \n",
    "\n",
    "# General \n",
    "\n",
    "The coding process was easy since I followed along from an online source and collaborated with Sharon. After figuring out how to code for addition it was simple to code for subtraction, multiplcation, and division. \n",
    "\n",
    "# Errors \n",
    "\n",
    "I struggled with Jupyter Lab and running my calculator in general so I didn't know if the code was correct since I was unable to test it. "
   ]
  },
  {
   "cell_type": "markdown",
   "metadata": {},
   "source": [
    "# Snake Game\n",
    "\n",
    "## General \n",
    "\n",
    "The Snake Game was easy to install since the code was already made. I just had to move it around a few times for organization in my TimeBox. \n",
    "\n",
    "## Errors\n",
    "\n",
    "There was no errors here, except for finding the code on the teacher repository. "
   ]
  }
 ],
 "metadata": {
  "language_info": {
   "name": "python"
  },
  "orig_nbformat": 4
 },
 "nbformat": 4,
 "nbformat_minor": 2
}
