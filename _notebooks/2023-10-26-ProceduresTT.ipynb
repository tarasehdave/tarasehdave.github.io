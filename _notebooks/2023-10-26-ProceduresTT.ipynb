{
 "cells": [
  {
   "cell_type": "markdown",
   "metadata": {},
   "source": [
    "---\n",
    "comments: true\n",
    "layout: post\n",
    "title: Procedures\n",
    "type: hacks\n",
    "courses: { csp: {week: 10} }\n",
    "categories: [C4.1]\n",
    "---"
   ]
  },
  {
   "cell_type": "markdown",
   "metadata": {},
   "source": [
    "### 1. Write a Python function called procedural_abstraction that demonstrates procedural abstraction by performing a specific task. Your function should take at least one parameter and return a result"
   ]
  },
  {
   "cell_type": "code",
   "execution_count": 3,
   "metadata": {},
   "outputs": [
    {
     "name": "stdout",
     "output_type": "stream",
     "text": [
      "The average of the numbers is: 30.0\n"
     ]
    }
   ],
   "source": [
    "def procedural_abstraction(numbers):\n",
    "    \"\"\"\n",
    "    Calculate the average of a list of numbers using procedural abstraction.\n",
    "    \n",
    "    :param numbers: A list of numbers.\n",
    "    :return: The average of the numbers in the list.\n",
    "    \"\"\"\n",
    "    total = sum(numbers)\n",
    "    average = total / len(numbers)\n",
    "    return average\n",
    "\n",
    "# Test the function\n",
    "number_list = [10, 20, 30, 40, 50]\n",
    "avg = procedural_abstraction(number_list)\n",
    "print(f\"The average of the numbers is: {avg}\")\n"
   ]
  },
  {
   "cell_type": "markdown",
   "metadata": {},
   "source": [
    "### 2. Write a Python function called summing_machine that takes two parameters, first_number and second_number, and returns the sum of these numbers. Use this function to calculate the sum of 7 and 5. Print the result"
   ]
  },
  {
   "cell_type": "code",
   "execution_count": 2,
   "metadata": {},
   "outputs": [
    {
     "name": "stdout",
     "output_type": "stream",
     "text": [
      "The sum of 7 and 5 is: 12\n"
     ]
    }
   ],
   "source": [
    "def summing_machine(first_number, second_number):\n",
    "    \"\"\"\n",
    "    Calculate the sum of two numbers.\n",
    "\n",
    "    :param first_number: The first number.\n",
    "    :param second_number: The second number.\n",
    "    :return: The sum of the two numbers.\n",
    "    \"\"\"\n",
    "    return first_number + second_number\n",
    "\n",
    "# Calculate the sum of 7 and 5 using the function\n",
    "result = summing_machine(7, 5)\n",
    "\n",
    "# Print the result\n",
    "print(\"The sum of 7 and 5 is:\", result)\n"
   ]
  }
 ],
 "metadata": {
  "kernelspec": {
   "display_name": "Python 3",
   "language": "python",
   "name": "python3"
  },
  "language_info": {
   "codemirror_mode": {
    "name": "ipython",
    "version": 3
   },
   "file_extension": ".py",
   "mimetype": "text/x-python",
   "name": "python",
   "nbconvert_exporter": "python",
   "pygments_lexer": "ipython3",
   "version": "3.11.5"
  }
 },
 "nbformat": 4,
 "nbformat_minor": 2
}
