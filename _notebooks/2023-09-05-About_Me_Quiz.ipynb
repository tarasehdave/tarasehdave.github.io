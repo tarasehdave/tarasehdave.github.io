{
 "cells": [
  {
   "cell_type": "markdown",
   "metadata": {},
   "source": [
    "---\n",
    "comments: true\n",
    "layout: post\n",
    "title: About Me Quiz\n",
    "description: Quiz on the facts I put of me on the homepage.\n",
    "type: hacks\n",
    "courses: { csp: {week: 3} }\n",
    "---"
   ]
  },
  {
   "cell_type": "code",
   "execution_count": null,
   "metadata": {},
   "outputs": [],
   "source": [
    "def run_quiz(questions):\n",
    "    score = 0\n",
    "    for question in questions \n",
    "        user_answer = input(question[\"question\"] + \" \")\n",
    "        if user_answer.lower() == question[\"answer\"].lower():\n",
    "            print(\"Correct!\")\n",
    "            score += 1\n",
    "        else:\n",
    "            print(\"Incorrect. The correct answer is:\", question[\"answer\"])\n",
    "    return score \n",
    "if __name__ == \"__main__\":\n",
    "    print(\"About Me Quiz\")\n",
    "    questions = [\n",
    "\n",
    "    {\n",
    "        \"question\": \"What grade am I in?\",\n",
    "        \"answer\": \"11th\"\n",
    "    },\n",
    "    {\n",
    "        \"question\": \"Who are my favorite artists?\",\n",
    "         \"answer\": \"Queen and Lana Del Rey\"\n",
    "    },\n",
    "    {\n",
    "        \"question\": \"What is my favorite subject?\",\n",
    "        \"answer\": \"History\"\n",
    "    },\n",
    "    {\n",
    "        \"question\": \"Who is my friend on the homepage?\",\n",
    "        \"answer\": \"Shay\"\n",
    "    },\n",
    "]\n",
    "\n",
    "user_score = run_quiz(questions)\n",
    "print(\"Your score:\", user_score, \"out of\", len(questions))"
   ]
  },
  {
   "cell_type": "code",
   "execution_count": null,
   "metadata": {
    "vscode": {
     "languageId": "plaintext"
    }
   },
   "outputs": [],
   "source": []
  }
 ],
 "metadata": {
  "language_info": {
   "name": "python"
  },
  "orig_nbformat": 4
 },
 "nbformat": 4,
 "nbformat_minor": 2
}
