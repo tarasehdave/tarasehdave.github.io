{
 "cells": [
  {
   "cell_type": "markdown",
   "id": "d7fd0f05",
   "metadata": {},
   "source": [
    "---\n",
    "comments: true\n",
    "layout: post\n",
    "title: About Me Quiz\n",
    "description: Facts about me from the homepage.\n",
    "type: hacks\n",
    "courses: { csp: {week: 3} }\n",
    "---"
   ]
  },
  {
   "cell_type": "code",
   "execution_count": 1,
   "id": "d337f31b-ee04-43e3-8c96-04b4da08d5b9",
   "metadata": {},
   "outputs": [
    {
     "name": "stdout",
     "output_type": "stream",
     "text": [
      "About Me Quiz\n"
     ]
    },
    {
     "name": "stdout",
     "output_type": "stream",
     "text": [
      "What grade am I in?  11th\n"
     ]
    },
    {
     "name": "stdout",
     "output_type": "stream",
     "text": [
      "Correct!\n"
     ]
    },
    {
     "name": "stdout",
     "output_type": "stream",
     "text": [
      "Who are my favorite artists?  Queen and lana del rey\n"
     ]
    },
    {
     "name": "stdout",
     "output_type": "stream",
     "text": [
      "Correct!\n"
     ]
    },
    {
     "name": "stdout",
     "output_type": "stream",
     "text": [
      "What is my favorite subject?  history\n"
     ]
    },
    {
     "name": "stdout",
     "output_type": "stream",
     "text": [
      "Correct!\n"
     ]
    },
    {
     "name": "stdout",
     "output_type": "stream",
     "text": [
      "Who is my friend on the homepage?  shay\n"
     ]
    },
    {
     "name": "stdout",
     "output_type": "stream",
     "text": [
      "Correct!\n",
      "Your score: 4 out of 4\n"
     ]
    }
   ],
   "source": [
    "def run_quiz(questions):\n",
    "    score = 0\n",
    "    for question in questions:\n",
    "        user_answer = input(question[\"question\"] + \" \")\n",
    "        if user_answer.lower() == question[\"answer\"].lower():\n",
    "            print(\"Correct!\")\n",
    "            score += 1\n",
    "        else:\n",
    "            print(\"Incorrect. The correct answer is:\", question[\"answer\"])\n",
    "    return score \n",
    "if __name__ == \"__main__\":\n",
    "    print(\"About Me Quiz\")\n",
    "    questions = [\n",
    "\n",
    "    {\n",
    "        \"question\": \"What grade am I in?\",\n",
    "        \"answer\": \"11th\"\n",
    "    },\n",
    "    {\n",
    "        \"question\": \"Who are my favorite artists?\",\n",
    "         \"answer\": \"Queen and Lana Del Rey\"\n",
    "    },\n",
    "    {\n",
    "        \"question\": \"What is my favorite subject?\",\n",
    "        \"answer\": \"History\"\n",
    "    },\n",
    "    {\n",
    "        \"question\": \"Who is my friend on the homepage?\",\n",
    "        \"answer\": \"Shay\"\n",
    "    },\n",
    "]\n",
    "\n",
    "user_score = run_quiz(questions)\n",
    "print(\"Your score:\", user_score, \"out of\", len(questions))"
   ]
  },
  {
   "cell_type": "code",
   "execution_count": null,
   "id": "1fe9cadd-dfd0-4682-9fc9-a57f0ef05fa7",
   "metadata": {},
   "outputs": [],
   "source": []
  },
  {
   "cell_type": "markdown",
   "id": "1c077bd4",
   "metadata": {},
   "source": []
  }
 ],
 "metadata": {
  "kernelspec": {
   "display_name": "Python 3 (ipykernel)",
   "language": "python",
   "name": "python3"
  },
  "language_info": {
   "codemirror_mode": {
    "name": "ipython",
    "version": 3
   },
   "file_extension": ".py",
   "mimetype": "text/x-python",
   "name": "python",
   "nbconvert_exporter": "python",
   "pygments_lexer": "ipython3",
   "version": "3.11.5"
  }
 },
 "nbformat": 4,
 "nbformat_minor": 5
}
