{
 "cells": [
  {
   "cell_type": "markdown",
   "id": "ad97dcfd-673c-4ac4-9224-95985d5ac4ca",
   "metadata": {},
   "source": [
    "---\n",
    "comments: true\n",
    "layout: post\n",
    "title: Calculator \n",
    "description: Add, subtract, multiply, divide\n",
    "type: Hacks\n",
    "courses: { csp: {week: 2} }\n",
    "---"
   ]
  },
  {
   "cell_type": "markdown",
   "id": "743509c5",
   "metadata": {},
   "source": [
    "This week I searched up how to code a calculator in Python. Using Jupyter Lab I was able to test it out by running the code then deploying it to my website. I searched up how to code a calculator in Python and followed along by giving variables to the two numbers being used and creating the actions addition, subtraction, multiplication, and division."
   ]
  },
  {
   "cell_type": "code",
   "execution_count": null,
   "id": "1c332146-4e77-4c09-87f7-34d7950dc7fb",
   "metadata": {},
   "outputs": [
    {
     "name": "stdout",
     "output_type": "stream",
     "text": [
      "Select operation.\n",
      "1.Add\n",
      "2.Subtract\n",
      "3.Multiply\n",
      "4.Divide\n"
     ]
    }
   ],
   "source": [
    "# This function adds two numbers \n",
    "def add (x, y):\n",
    "    return x + y\n",
    "\n",
    "# This function subtracts two numbers\n",
    "def subtract (x, y):\n",
    "    return x - y\n",
    "\n",
    "# This function multiplies two numbers \n",
    "def multiply (x, y):\n",
    "    return x * y\n",
    "\n",
    "# This function divides two numbers \n",
    "def divide (x, y):\n",
    "    if y == 0:\n",
    "        return \"Cannot divide by zero\"\n",
    "    return x / y\n",
    "\n",
    "print (\"Select operation.\")\n",
    "print (\"1.Add\")\n",
    "print (\"2.Subtract\")\n",
    "print (\"3.Multiply\")\n",
    "print (\"4.Divide\")\n",
    "\n",
    "while True:\n",
    "    # take input from the user \n",
    "    choice = input (\"Enter choice (1/2/3/4): \")\n",
    "\n",
    "    # check if choice is one of the four options\n",
    "    if choice in ('1', '2', '3', '4'):\n",
    "        try:\n",
    "            num1 = float (input(\"Enter first number: \"))\n",
    "            num2 = float(input(\"Enter second number:\"))\n",
    "        except ValueError:\n",
    "            print (\"Invalid input. Please enter a number.\")\n",
    "            continue \n",
    "\n",
    "        if choice == '1':\n",
    "            print (num1, \"+\", num2, \"=\", add (num1, num2))\n",
    "\n",
    "        elif choice == '2':\n",
    "            print (num1, \"-\", num2, \"=\", subtract (num1, num2))\n",
    "\n",
    "        elif choice == '3':\n",
    "            print(num1, \"*\", num2, \"=\", multiply (num1, num2))\n",
    "\n",
    "        elif choice == '4':\n",
    "            print (num1, \"/\", num2, \"=\", divide(num1, num2))\n",
    "\n",
    "        # check if user wants another calculation \n",
    "        # berak the while loop if answer is no \n",
    "        next_calculation = input (\"Let's do next calculation? (yes/no): \")\n",
    "        if next_calculation == \"no\":\n",
    "            break\n",
    "        else: \n",
    "            print (\"Invalid Input\")"
   ]
  },
  {
   "cell_type": "code",
   "execution_count": null,
   "id": "62b4ad13-9376-4e22-b90b-a8784ab3bfa6",
   "metadata": {},
   "outputs": [],
   "source": []
  }
 ],
 "metadata": {
  "kernelspec": {
   "display_name": "Python 3 (ipykernel)",
   "language": "python",
   "name": "python3"
  },
  "language_info": {
   "codemirror_mode": {
    "name": "ipython",
    "version": 3
   },
   "file_extension": ".py",
   "mimetype": "text/x-python",
   "name": "python",
   "nbconvert_exporter": "python",
   "pygments_lexer": "ipython3",
   "version": "3.11.5"
  }
 },
 "nbformat": 4,
 "nbformat_minor": 5
}
