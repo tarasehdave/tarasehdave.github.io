{
 "cells": [
  {
   "cell_type": "markdown",
   "metadata": {},
   "source": [
    "---\n",
    "comments: true\n",
    "layout: post\n",
    "title: Week 11\n",
    "type: hacks\n",
    "courses: { csp: {week: 11} }\n",
    "categories: [C4.1]\n",
    "---"
   ]
  },
  {
   "cell_type": "markdown",
   "metadata": {},
   "source": [
    "### College Rankings Peer Grading\n",
    "\n",
    "It is a good idea and had relevant usages. The colleges recommended based on SAT grade and GPA were accurate and their AI API was impressive. 4/4\n"
   ]
  },
  {
   "cell_type": "markdown",
   "metadata": {},
   "source": [
    "### Study App Peer Grading \n",
    "\n",
    "Very good idea. I liked the examples made from each person's own schedule. Their timer API worked and added relevance to their project. 4/4"
   ]
  },
  {
   "cell_type": "markdown",
   "metadata": {},
   "source": [
    "### Collegeboard Multiple Choice Questions\n",
    "\n",
    "#### Questions \n",
    "\n",
    "When answering the Collegeboard questions, I had several questions on terminology or theory. Here are some of the questions I searched:\n",
    "\n",
    "    - What is redundant routing?\n",
    "        ChatGPT response: Redundant routing, also known as network redundancy or path redundancy, is a design principle used in computer networks to ensure that there are multiple paths or routes for data to travel from one point to another. The primary purpose of redundant routing is to improve network reliability and fault tolerance. In the event of a network link failure or a hardware issue, redundant routes can be automatically or manually used to maintain network connectivity.\n",
    "\n",
    "        Redundant routing is often implemented to:\n",
    "\n",
    "        1. Enhance fault tolerance: If a primary network path becomes unavailable due to a failure or congestion, data can be rerouted through an alternate path, minimizing network downtime.\n",
    "\n",
    "        2. Improve reliability: Redundant routes help prevent single points of failure, reducing the risk of network disruptions.\n",
    "\n",
    "        3. Optimize load balancing: Redundant routes can also be used to distribute network traffic more evenly across multiple paths, improving network performance.\n",
    "\n",
    "        4. Facilitate failover: In the event of a failure, automatic failover mechanisms can quickly switch to redundant paths to maintain network connectivity.\n",
    "\n",
    "        Common technologies used to implement redundant routing include protocols like Spanning Tree Protocol (STP), Routing Information Protocol (RIP), Open Shortest Path First (OSPF), and Border Gateway Protocol (BGP), among others. These protocols ensure that network devices are aware of the available paths and can dynamically adapt to network changes to maintain connectivity.\n",
    "\n",
    "#### Answer Review \n",
    "\n",
    "Below are some questions I got wrong on the MC. \n",
    "\n",
    "60. Which of the following are ways in which a programmer can use abstraction to manage the complexity of a program?\n",
    "\n",
    "    My answer: \"A. Replacing each instance of repeated code with a call to a procedure\" and \"B. Replacing longer variable names with shorter variable names to reduce typing errors\"\n",
    "\n",
    "    Correct answer: \"A. Replacing each instance of repeated code with a call to a procedure\" and \"D. Replacing several lines of dovumentation with a single line of documentation, name1, name2, name3, and name4 with a list of strings called names.\n",
    "\n",
    "    Reasons: This question had two answers, A, which I got correct, and D, which I did not. The reason why D is correct is because creating one variable for a string increases complexity and makes the code easier to work with. It is more managable. \n",
    "\n",
    "23. The following figures represent different ways of configuring a network of physically linked computers labeled P, Q, R, and S. A line between two computers indicates that the computers can communicate directly with each other. In which configuration is it NOT possible to have redundant routing between computers P and S?\n",
    "\n",
    "    My answer: C\n",
    "\n",
    "    Correct answer: B\n",
    "\n",
    "    Reasons: C is not correct because there are multiple paths from P to S. B is correct because there is only way to get from P to S. My mistake was thinking redundant routing was asking for a direct connection between P and S that did not pass through anything else. \n",
    "\n"
   ]
  }
 ],
 "metadata": {
  "language_info": {
   "name": "python"
  }
 },
 "nbformat": 4,
 "nbformat_minor": 2
}
