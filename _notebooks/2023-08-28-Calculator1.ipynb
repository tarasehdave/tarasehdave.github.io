{
 "cells": [
  {
   "cell_type": "markdown",
   "metadata": {},
   "source": [
    "---\n",
    "comments: true\n",
    "layout: post\n",
    "title: Calculator \n",
    "description: Add, subtract, multiply, divide\n",
    "type: Hacks\n",
    "courses: { csp: {week: 2} }\n",
    "---"
   ]
  },
  {
   "cell_type": "markdown",
   "metadata": {},
   "source": [
    "This week I searched up how to code a calculator in Python. Using Jupyter Lab I was able to test it out by running the code then deploying it to my website. I searched up how to code a calculator in Python and followed along by giving variables to the two numbers being used and creating the actions addition, subtraction, multiplication, and division."
   ]
  },
  {
   "cell_type": "code",
   "execution_count": null,
   "metadata": {},
   "outputs": [],
   "source": [
    "# This function adds two numbers \n",
    "def add (x, y):\n",
    "    return x + y\n",
    "\n",
    "# This function subtracts two numbers\n",
    "def subtract (x, y):\n",
    "    return x - y\n",
    "\n",
    "# This function multiplies two numbers \n",
    "def multiply (x, y):\n",
    "    return x * y\n",
    "\n",
    "# This function divides two numbers \n",
    "def divide (x, y):\n",
    "    if y == 0:\n",
    "        return \"Cannot divide by zero\"\n",
    "    return x / y\n",
    "\n",
    "print (\"Select operation.\")\n",
    "print (\"1.Add\")\n",
    "print (\"2.Subtract\")\n",
    "print (\"3.Multiply\")\n",
    "print (\"4.Divide\")\n",
    "\n",
    "while True:\n",
    "    # take input from the user \n",
    "    choice = input (\"Enter choice (1/2/3/4): \")\n",
    "\n",
    "    # check if choice is one of the four options\n",
    "    if choice in ('1', '2', '3', '4'):\n",
    "        try:\n",
    "            num1 = float (input(\"Enter first number: \"))\n",
    "            num2 = float(input(\"Enter second number:\"))\n",
    "        except ValueError:\n",
    "            print (\"Invalid input. Please enter a number.\")\n",
    "            continue \n",
    "\n",
    "        if choice == '1':\n",
    "            print (num1, \"+\", num2, \"=\", add (num1, num2))\n",
    "\n",
    "        elif choice == '2':\n",
    "            print (num1, \"-\", num2, \"=\", subtract (num1, num2))\n",
    "\n",
    "        elif choice == '3':\n",
    "            print(num1, \"*\", num2, \"=\", multiply (num1, num2))\n",
    "\n",
    "        elif choice == '4':\n",
    "            print (num1, \"/\", num2, \"=\", divide(num1, num2))\n",
    "\n",
    "        # check if user wants another calculation \n",
    "        # berak the while loop if answer is no \n",
    "        next_calculation = input (\"Let's do next calculation? (yes/no): \")\n",
    "        if next_calculation == \"no\":\n",
    "            break\n",
    "        else: \n",
    "            print (\"Invalid Input\")"
   ]
  }
 ],
 "metadata": {
  "language_info": {
   "name": "python"
  },
  "orig_nbformat": 4
 },
 "nbformat": 4,
 "nbformat_minor": 2
}
