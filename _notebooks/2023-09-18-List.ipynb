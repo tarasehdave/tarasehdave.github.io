{
 "cells": [
  {
   "cell_type": "markdown",
   "id": "1c03d010",
   "metadata": {},
   "source": [
    "---\n",
    "comments: true\n",
    "layout: post\n",
    "title: Program with a list, Program with interation\n",
    "type: hacks\n",
    "courses: { csp: {week: 5} }\n",
    "categories: [C4.1]\n",
    "---"
   ]
  },
  {
   "cell_type": "code",
   "execution_count": 1,
   "id": "18e0e113-9799-4003-80bb-36a80ef6da89",
   "metadata": {},
   "outputs": [
    {
     "name": "stdout",
     "output_type": "stream",
     "text": [
      "List of Numbers: [54, 37, 16, 54, 51, 69, 12, 71, 74, 79]\n",
      "Sum of Numbers: 517\n",
      "Maximum Number: 79\n",
      "Minimum Number: 12\n",
      "Original Numbers: [1, 2, 3, 4, 5]\n",
      "Squared Numbers: [1, 4, 9, 16, 25]\n",
      "Sum of Squared Numbers: 55\n"
     ]
    }
   ],
   "source": [
    "# Program Function and Purpose\n",
    "\n",
    "## Program With a List\n",
    "\n",
    "# Importing necessary libraries (optional for this example)\n",
    "import random\n",
    "\n",
    "# Step 1: Create a list of numbers\n",
    "numbers = [random.randint(1, 100) for _ in range(10)]\n",
    "\n",
    "## Step 2: Display the list\n",
    "print(\"List of Numbers:\", numbers)\n",
    "\n",
    "# Step 3: Calculate the sum of the numbers\n",
    "sum_of_numbers = sum(numbers)\n",
    "print(\"Sum of Numbers:\", sum_of_numbers)\n",
    "\n",
    "# Step 4: Find the maximum and minimum numbers in the list\n",
    "max_number = max(numbers)\n",
    "min_number = min(numbers)\n",
    "print(\"Maximum Number:\", max_number)\n",
    "print(\"Minimum Number:\", min_number)\n",
    "\n",
    "## This example demonstrates the creation of a program with a list of random numbers and performs basic operations like displaying the list, calculating the sum, and finding the maximum and minimum numbers in the list.\n",
    "\n",
    "# Program With Iteration\n",
    "\n",
    "### Step 1: Create a list of numbers\n",
    "numbers = [1, 2, 3, 4, 5]\n",
    "squared_numbers = []\n",
    "for num in numbers:\n",
    "    squared_numbers.append(num ** 2)\n",
    "\n",
    "### Step 3: Display the squared numbers\n",
    "print(\"Original Numbers:\", numbers)\n",
    "print(\"Squared Numbers:\", squared_numbers)\n",
    "\n",
    "### Step 4: Calculate the sum of squared numbers using iteration\n",
    "sum_of_squared_numbers = 0\n",
    "for num in squared_numbers:\n",
    "    sum_of_squared_numbers += num\n",
    "print(\"Sum of Squared Numbers:\", sum_of_squared_numbers)\n",
    "##In this example, we create a program with iteration using a for loop. We iterate through a list of numbers, square each number, display the squared numbers, and then calculate the sum of squared numbers using iteration. For loops are very useful in JavaScript."
   ]
  },
  {
   "cell_type": "code",
   "execution_count": null,
   "id": "2a078ea9-480f-4ee7-99ec-a94c1f2e9690",
   "metadata": {},
   "outputs": [],
   "source": []
  }
 ],
 "metadata": {
  "kernelspec": {
   "display_name": "Python 3 (ipykernel)",
   "language": "python",
   "name": "python3"
  },
  "language_info": {
   "codemirror_mode": {
    "name": "ipython",
    "version": 3
   },
   "file_extension": ".py",
   "mimetype": "text/x-python",
   "name": "python",
   "nbconvert_exporter": "python",
   "pygments_lexer": "ipython3",
   "version": "3.11.5"
  }
 },
 "nbformat": 4,
 "nbformat_minor": 5
}
