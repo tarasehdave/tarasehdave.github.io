{
 "cells": [
  {
   "cell_type": "markdown",
   "metadata": {},
   "source": [
    "---\n",
    "comments: true\n",
    "layout: post\n",
    "title: Data Structures Blog\n",
    "description: Downloaded all the applications, forked the student repository, and caught up.\n",
    "type: hacks\n",
    "courses: { csp: {week: 1} }\n",
    "categories: [C4.1]\n",
    "---"
   ]
  },
  {
   "cell_type": "markdown",
   "metadata": {},
   "source": [
    "# Data Structures Write Up"
   ]
  },
  {
   "cell_type": "markdown",
   "metadata": {},
   "source": [
    "## 1. From VSCode using SQLite3 Editor, show your unique collection/table in database, display rows and columns in the table of the SQLite database."
   ]
  },
  {
   "cell_type": "markdown",
   "metadata": {},
   "source": [
    "<img width=\"1366\" alt=\"image\" src=\"https://github.com/tarasehdave/tarasehdave.github.io/assets/143206206/9a6d6879-8ed6-4786-b15b-72d32668734e\">\n"
   ]
  },
  {
   "cell_type": "markdown",
   "metadata": {},
   "source": [
    "This is the table where our data is stored for the probability calculator. There are several factors that go into the final probability of survival to ensure accurate results. Some of the factors are:\n",
    "    - Whether the person's attention was focused or divided \n",
    "    - How many solutions they found from 0 to 4\n",
    "\n",
    "If the users input matches the one in the table their probability of getting a 90% or higher is increased."
   ]
  },
  {
   "cell_type": "markdown",
   "metadata": {},
   "source": [
    "## From VSCode model, show your unique code that was created to initialize table and create test data."
   ]
  },
  {
   "cell_type": "markdown",
   "metadata": {},
   "source": [
    "<img width=\"1300\" alt=\"image\" src=\"https://github.com/tarasehdave/tarasehdave.github.io/assets/143206206/853f82da-274e-4dc4-90de-c6358a50d985\">"
   ]
  },
  {
   "cell_type": "markdown",
   "metadata": {},
   "source": [
    "This Python script implements a machine learning model within a Flask environment to predict scores based on attention-related data. It begins by importing necessary libraries and sets up a Flask Blueprint for API organization, although the ‘flask_restful’ module imported remains unused. The core of the script revolves around the ‘AttentionModel’ class, which encapsulates model initialization, training, and prediction functionalities. The class employs a singleton pattern to ensure efficient memory usage and training by maintaining a single instance throughout the application’s lifecycle. The model is trained using a linear regression model and a decision tree regressor to assess feature importance. Testing functions are provided to initialize the model and evaluate its performance on theoretical attention cases, showcasing both score prediction and feature weight extraction. This structured approach demonstrates key machine learning concepts, including data preprocessing, model training, prediction, and model evaluation.\n",
    "\n",
    "The Python script provides a machine learning model within a Flask environment as so to predict the scores based on attention-related data. The first step is to import all the necessary libraries and to set up a Flask Blueprint for API organization. The 'flask_restful' module, however, is not used. The core of the script revolves around the 'AttentionModel' class "
   ]
  }
 ],
 "metadata": {
  "language_info": {
   "name": "python"
  },
  "orig_nbformat": 4
 },
 "nbformat": 4,
 "nbformat_minor": 2
}
