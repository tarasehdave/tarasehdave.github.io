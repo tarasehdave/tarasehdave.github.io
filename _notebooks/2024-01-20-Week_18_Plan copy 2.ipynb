{
 "cells": [
  {
   "cell_type": "markdown",
   "metadata": {},
   "source": [
    "---\n",
    "comments: true\n",
    "layout: post\n",
    "title: Week 18 Plan\n",
    "type: plans\n",
    "courses: { csp: {week: 18} }\n",
    "categories: [C4.1]\n",
    "---"
   ]
  },
  {
   "cell_type": "markdown",
   "metadata": {},
   "source": [
    "## Plan\n",
    "\n",
    "[Google Slide Plan](https://docs.google.com/presentation/d/177APnUG0p3kK5aQkFDorma6C1eBa2h1NVmwRZHyHqhg/edit?usp=sharing)"
   ]
  }
 ],
 "metadata": {
  "language_info": {
   "name": "python"
  },
  "orig_nbformat": 4
 },
 "nbformat": 4,
 "nbformat_minor": 2
}
