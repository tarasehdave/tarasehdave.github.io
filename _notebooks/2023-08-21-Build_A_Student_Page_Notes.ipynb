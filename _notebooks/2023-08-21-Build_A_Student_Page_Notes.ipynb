{
 "cells": [
  {
   "cell_type": "markdown",
   "metadata": {},
   "source": [
    "---\n",
    "comments: true\n",
    "layout: post\n",
    "title: Build A Student Page\n",
    "description: Self taken notes on how to import an image on Python.\n",
    "type: hacks\n",
    "courses: { csp: {week: 1} }\n",
    "categories: [C4.1]\n",
    "---"
   ]
  },
  {
   "cell_type": "markdown",
   "metadata": {},
   "source": [
    "Build A Student Page\n",
    "Find the pictures you want to use\n",
    "Copy them to the images folder under tarasehdave.github.io code on your local\n",
    "Then make this change in index.md\n",
    "For each image you want to add, add the following line\n",
    "<img src=”images/<YOUR IMAGE HERE>.JPG” />\n",
    "If you want to control the size, do this\n",
    "<img src=”images/<YOUR IMAGE HERE>.JPG” height=”150px” width=”200px” />\n",
    "Or do it in percentage size height=“60%” width=”40%” to be relative with window size \n",
    "\n"
   ]
  }
 ],
 "metadata": {
  "language_info": {
   "name": "python"
  },
  "orig_nbformat": 4
 },
 "nbformat": 4,
 "nbformat_minor": 2
}
