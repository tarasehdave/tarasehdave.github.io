{
 "cells": [
  {
   "cell_type": "markdown",
   "metadata": {},
   "source": [
    "---\n",
    "comments: true\n",
    "layout: post\n",
    "title: Week 7\n",
    "type: hacks\n",
    "courses: { csp: {week: 7} }\n",
    "categories: [C4.1]\n",
    "---"
   ]
  },
  {
   "cell_type": "markdown",
   "metadata": {},
   "source": [
    "# Naming Conventions\n",
    "\n",
    "    - Must start with a letter or an underscore\n",
    "    - Cannot start with a number \n",
    "    - Can only have alphanumeric characters or underscores \n",
    "    - Are case sensitive \n",
    "    - Cannot be python keywords such as 'else'\n"
   ]
  },
  {
   "cell_type": "code",
   "execution_count": 4,
   "metadata": {},
   "outputs": [
    {
     "name": "stdout",
     "output_type": "stream",
     "text": [
      "Tara\n"
     ]
    }
   ],
   "source": [
    "myName = \"Tara\"\n",
    "print(myName)"
   ]
  },
  {
   "cell_type": "code",
   "execution_count": 5,
   "metadata": {},
   "outputs": [
    {
     "ename": "SyntaxError",
     "evalue": "invalid decimal literal (1241567343.py, line 1)",
     "output_type": "error",
     "traceback": [
      "\u001b[0;36m  Cell \u001b[0;32mIn[5], line 1\u001b[0;36m\u001b[0m\n\u001b[0;31m    1Tara = \"16\"\u001b[0m\n\u001b[0m    ^\u001b[0m\n\u001b[0;31mSyntaxError\u001b[0m\u001b[0;31m:\u001b[0m invalid decimal literal\n"
     ]
    }
   ],
   "source": [
    "1Tara = \"16\""
   ]
  },
  {
   "cell_type": "code",
   "execution_count": 6,
   "metadata": {},
   "outputs": [
    {
     "name": "stdout",
     "output_type": "stream",
     "text": [
      "16\n",
      "46\n"
     ]
    }
   ],
   "source": [
    "myAge = 16 \n",
    "myage = 46\n",
    "\n",
    "print(myAge)\n",
    "print(myage)"
   ]
  },
  {
   "cell_type": "code",
   "execution_count": 7,
   "metadata": {},
   "outputs": [
    {
     "ename": "SyntaxError",
     "evalue": "invalid syntax (3346613889.py, line 1)",
     "output_type": "error",
     "traceback": [
      "\u001b[0;36m  Cell \u001b[0;32mIn[7], line 1\u001b[0;36m\u001b[0m\n\u001b[0;31m    else = 22\u001b[0m\n\u001b[0m    ^\u001b[0m\n\u001b[0;31mSyntaxError\u001b[0m\u001b[0;31m:\u001b[0m invalid syntax\n"
     ]
    }
   ],
   "source": [
    "else = 22"
   ]
  },
  {
   "cell_type": "markdown",
   "metadata": {},
   "source": [
    "# Primitive v. Collection Data Types \n",
    "\n",
    "## Primitive Data Types \n",
    "    - int \n",
    "    - string \n",
    "    - float \n",
    "    - boolean \n",
    "\n",
    "## Collection Data Types \n",
    "    - list \n",
    "    - dictionary "
   ]
  },
  {
   "cell_type": "code",
   "execution_count": null,
   "metadata": {},
   "outputs": [],
   "source": [
    "myInt = 20\n",
    "\n",
    "myString = \"My name is Tara\"\n",
    "\n",
    "myFloat = 77.29\n",
    "\n",
    "myBool = False "
   ]
  },
  {
   "cell_type": "code",
   "execution_count": 10,
   "metadata": {},
   "outputs": [
    {
     "name": "stdout",
     "output_type": "stream",
     "text": [
      "[16, 20, 15, 12]\n",
      "{'Tara': 16, 'Tanisha': 15, 'Dylan': 12}\n"
     ]
    }
   ],
   "source": [
    "agesOfMyFriendsList = [16, 20, 15, 12]\n",
    "\n",
    "print(agesOfMyFriendsList)"
   ]
  },
  {
   "cell_type": "code",
   "execution_count": 15,
   "metadata": {},
   "outputs": [
    {
     "name": "stdout",
     "output_type": "stream",
     "text": [
      "16\n",
      "17\n"
     ]
    }
   ],
   "source": [
    "agesOfMyFriendsDictionary = { \"Tara\" : 16, \"Tanisha\" : 15, \"Dylan\" : 12, \"Tara \" : 17}\n",
    "\n",
    "\n",
    "print(agesOfMyFriendsDictionary[\"Tara\"])\n",
    "\n",
    "print(agesOfMyFriendsDictionary[\"Tara \"])\n"
   ]
  },
  {
   "cell_type": "markdown",
   "metadata": {},
   "source": [
    "# Concatenation \n",
    "\n",
    "## 'Joining' of strings and other types "
   ]
  },
  {
   "cell_type": "code",
   "execution_count": 17,
   "metadata": {},
   "outputs": [
    {
     "name": "stdout",
     "output_type": "stream",
     "text": [
      "Tara Sehdave\n"
     ]
    }
   ],
   "source": [
    "myFirstName = \"Tara\"\n",
    "\n",
    "myLastName = \"Sehdave\"\n",
    "\n",
    "print(myFirstName + \" \" + myLastName)"
   ]
  },
  {
   "cell_type": "code",
   "execution_count": 22,
   "metadata": {},
   "outputs": [
    {
     "name": "stdout",
     "output_type": "stream",
     "text": [
      "15\n"
     ]
    }
   ],
   "source": [
    "myFirstInt = 5\n",
    "\n",
    "mySecondInt = 10 \n",
    "\n",
    "print(myFirstInt + mySecondInt)"
   ]
  },
  {
   "cell_type": "markdown",
   "metadata": {},
   "source": [
    "# Formatting allows us to display values using pre-decided rules "
   ]
  },
  {
   "cell_type": "code",
   "execution_count": 33,
   "metadata": {},
   "outputs": [
    {
     "name": "stdout",
     "output_type": "stream",
     "text": [
      "My first name is Tara and my last name is Sehdave\n",
      "My first name is Tanisha and my last name is Patil\n"
     ]
    }
   ],
   "source": [
    "message = \"My first name is {0} and my last name is {1}\"\n",
    "\n",
    "print(message.format(\"Tara\", \"Sehdave\"))\n",
    "\n",
    "print(message.format(\"Tanisha\", \"Patil\"))"
   ]
  },
  {
   "cell_type": "code",
   "execution_count": 27,
   "metadata": {},
   "outputs": [
    {
     "name": "stdout",
     "output_type": "stream",
     "text": [
      "Show this as a percentage 77%\n",
      "Show this as a percentage 25%\n"
     ]
    }
   ],
   "source": [
    "x = .77 \n",
    "\n",
    "message = \"Show this as a percentage {0:.0%}\"\n",
    "\n",
    "print(message.format(x))\n",
    "\n",
    "print(message.format(.25))"
   ]
  },
  {
   "cell_type": "code",
   "execution_count": 31,
   "metadata": {},
   "outputs": [
    {
     "name": "stdout",
     "output_type": "stream",
     "text": [
      "and the binary value of 6836 is 1101010110100\n"
     ]
    }
   ],
   "source": [
    "message = \"The binary value of {0} is {0:b} and the binary value of {1} is {1:b}\"\n",
    "\n",
    "print(message.format(7, 6836))"
   ]
  },
  {
   "cell_type": "markdown",
   "metadata": {},
   "source": [
    "# Conversions "
   ]
  },
  {
   "cell_type": "code",
   "execution_count": 37,
   "metadata": {},
   "outputs": [
    {
     "name": "stdout",
     "output_type": "stream",
     "text": [
      "{'A': 1, 'B': 2}\n",
      "{\"A\": 1, \"B\": 2}\n",
      "{'A': 1, 'B': 2}\n"
     ]
    }
   ],
   "source": [
    "import json\n",
    "\n",
    "myDictionary = {\"A\": 1, \"B\": 2}\n",
    "\n",
    "print(myDictionary) \n",
    "\n",
    "myStringDictionary = json.dumps(myDictionary)\n",
    "\n",
    "print(myStringDictionary)\n",
    "\n",
    "myDictionaryRecreated = json.loads(myStringDictionary)\n",
    "\n",
    "print(myDictionaryRecreated)\n"
   ]
  },
  {
   "cell_type": "markdown",
   "metadata": {},
   "source": [
    "# Python Data Types in CB Pseudo Code \n",
    "\n",
    "## Primitive Types \n",
    "\n",
    "a <-- expression \n",
    "- myInt <-- 18\n",
    "- myString <-- \"My name is Tara\"\n",
    "- myFloat <-- 6.8\n",
    "- myBool <-- False \n",
    "\n",
    "# Collection Types \n",
    "\n",
    "- myList <-- [1, 2, 3]\n",
    "- No dictionary "
   ]
  },
  {
   "cell_type": "markdown",
   "metadata": {},
   "source": [
    "# Data Type Practice  "
   ]
  },
  {
   "cell_type": "markdown",
   "metadata": {},
   "source": [
    "### Question 1: Integer Operation\n",
    "1. Declare two integer variables, `num1Int` and `num2Int`, and assign them values of your choice.\n",
    "2. Calculate the sum of `num1Int` and `num2Int`\n",
    "4. Print the sum\n",
    "\n",
    "### Question 2: Float Operation\n",
    "1. Declare two float variables, `float1` and `float2`, and assign them values of your choice.\n",
    "2. Calculate the division of `float1` by `float2` and store it in a variable called `division_result`.\n",
    "3. Calculate the square root of `float1` and store it in a variable called `sqrt_result`.\n",
    "4. Print both `division_result` and `sqrt_result` to the console.\n",
    "\n",
    "### Question 3: Format Manipulation \n",
    "1. Write a message that equals a sentence with two placeholder variables\n",
    "2. Write two strings with two placeholder variables to insert into the message \n",
    "3. Print that message "
   ]
  },
  {
   "cell_type": "markdown",
   "metadata": {},
   "source": [
    "# Answers "
   ]
  },
  {
   "cell_type": "code",
   "execution_count": 38,
   "metadata": {},
   "outputs": [
    {
     "name": "stdout",
     "output_type": "stream",
     "text": [
      "28\n"
     ]
    }
   ],
   "source": [
    "# Integer Operations\n",
    "\n",
    "num1Int = 16\n",
    "\n",
    "num2Int = 12\n",
    "\n",
    "print(num1Int + num2Int)"
   ]
  },
  {
   "cell_type": "code",
   "execution_count": 40,
   "metadata": {},
   "outputs": [
    {
     "name": "stdout",
     "output_type": "stream",
     "text": [
      "1.3333333333333333\n"
     ]
    }
   ],
   "source": [
    "# Float Operation\n",
    "\n",
    "float1 = 1.00\n",
    "\n",
    "float2 = .75 \n",
    "\n",
    "print(float1 / float2 )"
   ]
  },
  {
   "cell_type": "code",
   "execution_count": 42,
   "metadata": {},
   "outputs": [
    {
     "name": "stdout",
     "output_type": "stream",
     "text": [
      "Tara is 16 years old\n",
      "Sharon is 8 years old\n",
      "Dylan is 80 years old\n"
     ]
    }
   ],
   "source": [
    "# Format Manipulation \n",
    "\n",
    "message = \"{0} is {1} years old\"\n",
    "\n",
    "print(message.format(\"Tara\", \"16\"))\n",
    "\n",
    "print (message.format(\"Sharon\", \"8\"))\n",
    "\n",
    "print (message.format(\"Dylan\", \"80\"))"
   ]
  }
 ],
 "metadata": {
  "kernelspec": {
   "display_name": "Python 3",
   "language": "python",
   "name": "python3"
  },
  "language_info": {
   "codemirror_mode": {
    "name": "ipython",
    "version": 3
   },
   "file_extension": ".py",
   "mimetype": "text/x-python",
   "name": "python",
   "nbconvert_exporter": "python",
   "pygments_lexer": "ipython3",
   "version": "3.11.5"
  },
  "orig_nbformat": 4
 },
 "nbformat": 4,
 "nbformat_minor": 2
}
