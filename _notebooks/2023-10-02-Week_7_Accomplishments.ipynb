{
 "cells": [
  {
   "cell_type": "markdown",
   "metadata": {},
   "source": [
    "---\n",
    "comments: true\n",
    "layout: post\n",
    "title: Week 7 Accomplishments \n",
    "type: tangibles \n",
    "courses: { csp: {week: 7} }\n",
    "categories: [C4.1]\n",
    "---"
   ]
  },
  {
   "cell_type": "markdown",
   "metadata": {},
   "source": [
    "### General \n",
    "\n",
    "The presentation went really well for me. Despite going first, I think I did a good job meeting the expectations and involving the students as they interacted with it several times. I provided clear, simple examples so that they can learn from it. \n",
    "\n",
    "### Error \n",
    "\n",
    "Some members did not finish their lesson plan on time and had to scramble to make one last minute. In the future, all members need to be more communicative so we can all make sure we have the correct work when asked for it. "
   ]
  }
 ],
 "metadata": {
  "language_info": {
   "name": "python"
  },
  "orig_nbformat": 4
 },
 "nbformat": 4,
 "nbformat_minor": 2
}
