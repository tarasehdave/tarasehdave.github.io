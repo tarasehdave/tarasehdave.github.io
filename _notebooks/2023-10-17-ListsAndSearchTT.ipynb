{
 "cells": [
  {
   "cell_type": "markdown",
   "metadata": {},
   "source": [
    "---\n",
    "comments: true\n",
    "layout: post\n",
    "title: Lists and Search\n",
    "type: hacks\n",
    "courses: { csp: {week: 9} }\n",
    "categories: [C4.1]\n",
    "---"
   ]
  }
 ],
 "metadata": {
  "language_info": {
   "name": "python"
  }
 },
 "nbformat": 4,
 "nbformat_minor": 2
}
