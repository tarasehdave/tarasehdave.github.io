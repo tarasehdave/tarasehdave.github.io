{
 "cells": [
  {
   "cell_type": "markdown",
   "metadata": {},
   "source": [
    "---\n",
    "comments: true\n",
    "layout: post\n",
    "title: Lists and Search\n",
    "type: hacks\n",
    "courses: { csp: {week: 9} }\n",
    "categories: [C4.1]\n",
    "---"
   ]
  },
  {
   "cell_type": "markdown",
   "metadata": {},
   "source": [
    "### 1. Write an expression that uses list indexing and list procedures. Write comments on your code to show what each line is doing"
   ]
  },
  {
   "cell_type": "code",
   "execution_count": 1,
   "metadata": {},
   "outputs": [
    {
     "name": "stdout",
     "output_type": "stream",
     "text": [
      "The third number is: 3\n",
      "Updated list: [1, 2, 3, 4, 5, 6, 7]\n",
      "The length of the list is: 7\n",
      "List after removing the first element: [2, 3, 4, 5, 6, 7]\n"
     ]
    }
   ],
   "source": [
    "# Create a list of numbers\n",
    "numbers = [1, 2, 3, 4, 5, 6]\n",
    "\n",
    "# Access the third element (index 2) of the list and store it in a variable\n",
    "third_number = numbers[2]\n",
    "\n",
    "# Print the third element\n",
    "print(\"The third number is:\", third_number)\n",
    "\n",
    "# Append a new number to the end of the list\n",
    "numbers.append(7)\n",
    "\n",
    "# Print the updated list\n",
    "print(\"Updated list:\", numbers)\n",
    "\n",
    "# Calculate the length of the list\n",
    "list_length = len(numbers)\n",
    "\n",
    "# Print the length of the list\n",
    "print(\"The length of the list is:\", list_length)\n",
    "\n",
    "# Remove the first element from the list\n",
    "numbers.pop(0)\n",
    "\n",
    "# Print the list after removing the first element\n",
    "print(\"List after removing the first element:\", numbers)\n"
   ]
  },
  {
   "cell_type": "markdown",
   "metadata": {},
   "source": [
    "### 2. Write a python function that can determine the worst case number of iterations of a binary search for an array of length 20"
   ]
  },
  {
   "cell_type": "code",
   "execution_count": 3,
   "metadata": {},
   "outputs": [
    {
     "name": "stdout",
     "output_type": "stream",
     "text": [
      "Worst-case iterations for an array of length 20: 5\n"
     ]
    }
   ],
   "source": [
    "import math\n",
    "\n",
    "def worst_case_iterations(array_length):\n",
    "    return math.ceil(math.log2(array_length))\n",
    "\n",
    "# Test the function with an array of length 20\n",
    "array_length = 20\n",
    "worst_case = worst_case_iterations(array_length)\n",
    "print(f\"Worst-case iterations for an array of length {array_length}: {worst_case}\")\n"
   ]
  }
 ],
 "metadata": {
  "kernelspec": {
   "display_name": "Python 3",
   "language": "python",
   "name": "python3"
  },
  "language_info": {
   "codemirror_mode": {
    "name": "ipython",
    "version": 3
   },
   "file_extension": ".py",
   "mimetype": "text/x-python",
   "name": "python",
   "nbconvert_exporter": "python",
   "pygments_lexer": "ipython3",
   "version": "3.11.5"
  }
 },
 "nbformat": 4,
 "nbformat_minor": 2
}
