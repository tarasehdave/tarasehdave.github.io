{
 "cells": [
  {
   "cell_type": "markdown",
   "metadata": {},
   "source": [
    "---\n",
    "comments: true\n",
    "layout: post\n",
    "title: N@TM Blog \n",
    "type: hacks\n",
    "courses: { csp: {week: 23} }\n",
    "categories: [C4.1]\n",
    "---"
   ]
  },
  {
   "cell_type": "markdown",
   "metadata": {},
   "source": [
    "**Blog / article on you and team**\n",
    "\n",
    "Reflection on glows/grows from your demo\n",
    "\n",
    "- We need to add more features. As of right now, our project is very basic. It has important elements but we need to add more distinct features to it.\n",
    "\n",
    "From feedback, something you will add to individual CPT project\n",
    "\n",
    "- One improvement we got was to create several slots for each volunteer organization so more than one user can volunteer for it. Realistically, more than one volunteer is needed, so having a _many_ to _many_ relationship would allow us to do so.\n",
    "\n",
    "Visuals or pics of team and people you talked\n",
    "\n",
    "<img src=\"images/shay.png\" height=\"650px\" width=\"500px\"/>\n",
    "\n",
    "<img width=\"931\" alt=\"image\" src=\"https://github.com/tarasehdave/tarasehdave.github.io/assets/143206206/ea350922-d12b-45ce-96a5-b753c33c6de7\">\n",
    "<img width=\"906\" alt=\"image\" src=\"https://github.com/tarasehdave/tarasehdave.github.io/assets/143206206/8cc4a1f6-6ec6-4467-a6ba-4c5e9496841c\">\n",
    "<img width=\"921\" alt=\"image\" src=\"https://github.com/tarasehdave/tarasehdave.github.io/assets/143206206/06e6080e-f2be-4b1f-8745-bc18d0c8c940\">\n",
    "\n",
    "\n",
    "**Blog on event**\n",
    "\n",
    "Something you saw in CompSci that impressed\n",
    "\n",
    "- Another CSP group used and trained an AI model to respond to real estate related questions. I found this impressive and would like to incorporate an AI API into my own project. It could assist users with volunteer related questions, such as, which are the most convenient, impressive, etc. \n",
    "\n",
    "Something you saw outside of CompSci that you liked\n",
    "\n",
    "- After we presented my group went to the ceramics room and saw their pottery. Most of them were different forms of mugs. \n",
    "<img width=\"557\" alt=\"image\" src=\"https://github.com/tarasehdave/tarasehdave.github.io/assets/143206206/d0bce758-86c5-412a-9deb-8576b8dd98dc\">\n"
   ]
  }
 ],
 "metadata": {
  "language_info": {
   "name": "python"
  },
  "orig_nbformat": 4
 },
 "nbformat": 4,
 "nbformat_minor": 2
}
