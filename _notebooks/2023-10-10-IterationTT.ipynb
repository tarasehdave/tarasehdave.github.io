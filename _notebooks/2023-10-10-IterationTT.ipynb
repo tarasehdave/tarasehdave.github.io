{
 "cells": [
  {
   "cell_type": "markdown",
   "metadata": {},
   "source": [
    "---\n",
    "comments: true\n",
    "layout: post\n",
    "title: Iteration Questions\n",
    "type: hacks\n",
    "courses: { csp: {week: 8} }\n",
    "categories: [C4.1]\n",
    "---"
   ]
  },
  {
   "cell_type": "markdown",
   "metadata": {},
   "source": [
    "### Question 1. Calculate the factorial of a number using recursion. Write a recursive function in Python to calculate the factorial of a non-negative integer n. The factorial of a non-negative integer n is the product of all positive integers less than or equal to n."
   ]
  },
  {
   "cell_type": "code",
   "execution_count": 1,
   "metadata": {},
   "outputs": [
    {
     "name": "stdout",
     "output_type": "stream",
     "text": [
      "The factorial of 10 is 3628800\n"
     ]
    }
   ],
   "source": [
    "def factorial(n):\n",
    "    if n == 0:\n",
    "        return 1\n",
    "    else:\n",
    "        return n * factorial(n - 1)\n",
    "\n",
    "# Get user input for the number\n",
    "n = int(input(\"Enter a non-negative integer: \"))\n",
    "\n",
    "if n < 0:\n",
    "    print(\"Factorial is not defined for negative numbers.\")\n",
    "else:\n",
    "    result = factorial(n)\n",
    "    print(f\"The factorial of {n} is {result}\")\n"
   ]
  },
  {
   "cell_type": "markdown",
   "metadata": {},
   "source": [
    "### Question 2. Write a program that displavs the nth number of the fibonacci series Example Input: 8 Example Output: 13"
   ]
  },
  {
   "cell_type": "code",
   "execution_count": 4,
   "metadata": {},
   "outputs": [
    {
     "name": "stdout",
     "output_type": "stream",
     "text": [
      "The 8th Fibonacci number is: 13\n"
     ]
    }
   ],
   "source": [
    "def fibonacci(n):\n",
    "    if n <= 0:\n",
    "        return \"Invalid input. Please enter a positive integer.\"\n",
    "    elif n == 1:\n",
    "        return 0\n",
    "    elif n == 2:\n",
    "        return 1\n",
    "\n",
    "    fib_prev = 0\n",
    "    fib_current = 1\n",
    "\n",
    "    for i in range(3, n + 1):\n",
    "        fib_next = fib_prev + fib_current\n",
    "        fib_prev = fib_current\n",
    "        fib_current = fib_next\n",
    "\n",
    "    return fib_current\n",
    "\n",
    "# Get user input for the nth Fibonacci number\n",
    "n = int(input(\"Enter a positive integer (n) to find the nth Fibonacci number: \"))\n",
    "\n",
    "result = fibonacci(n)\n",
    "print(f\"The {n}th Fibonacci number is: {result}\")\n"
   ]
  }
 ],
 "metadata": {
  "kernelspec": {
   "display_name": "Python 3",
   "language": "python",
   "name": "python3"
  },
  "language_info": {
   "codemirror_mode": {
    "name": "ipython",
    "version": 3
   },
   "file_extension": ".py",
   "mimetype": "text/x-python",
   "name": "python",
   "nbconvert_exporter": "python",
   "pygments_lexer": "ipython3",
   "version": "3.11.5"
  }
 },
 "nbformat": 4,
 "nbformat_minor": 2
}
